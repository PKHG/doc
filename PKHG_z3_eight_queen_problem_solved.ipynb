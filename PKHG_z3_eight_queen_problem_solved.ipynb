{
 "cells": [
  {
   "cell_type": "markdown",
   "metadata": {},
   "source": [
    "# PKHG direct aproach 8 queen problem\n",
    "## using z3\n",
    "### rule\n",
    "place 8 queens not attacking any other"
   ]
  },
  {
   "cell_type": "code",
   "execution_count": 1,
   "metadata": {},
   "outputs": [],
   "source": [
    "from z3 import *"
   ]
  },
  {
   "cell_type": "code",
   "execution_count": 2,
   "metadata": {},
   "outputs": [
    {
     "data": {
      "text/plain": [
       "[[x_0_0, x_0_1, x_0_2, x_0_3, x_0_4, x_0_5, x_0_6, x_0_7],\n",
       " [x_1_0, x_1_1, x_1_2, x_1_3, x_1_4, x_1_5, x_1_6, x_1_7],\n",
       " [x_2_0, x_2_1, x_2_2, x_2_3, x_2_4, x_2_5, x_2_6, x_2_7],\n",
       " [x_3_0, x_3_1, x_3_2, x_3_3, x_3_4, x_3_5, x_3_6, x_3_7],\n",
       " [x_4_0, x_4_1, x_4_2, x_4_3, x_4_4, x_4_5, x_4_6, x_4_7],\n",
       " [x_5_0, x_5_1, x_5_2, x_5_3, x_5_4, x_5_5, x_5_6, x_5_7],\n",
       " [x_6_0, x_6_1, x_6_2, x_6_3, x_6_4, x_6_5, x_6_6, x_6_7],\n",
       " [x_7_0, x_7_1, x_7_2, x_7_3, x_7_4, x_7_5, x_7_6, x_7_7]]"
      ]
     },
     "execution_count": 2,
     "metadata": {},
     "output_type": "execute_result"
    }
   ],
   "source": [
    "# 8x8 chess board\n",
    "X = [ [ Int(\"x_%s_%s\" % (i, j)) for j in range(8) ]\n",
    "      for i in range(8) ]\n",
    "X"
   ]
  },
  {
   "cell_type": "code",
   "execution_count": 3,
   "metadata": {},
   "outputs": [
    {
     "data": {
      "text/plain": [
       "0 + x_0_1 + x_1_2 + x_2_3 + x_3_4 + x_4_5 + x_5_6 + x_6_7 <=\n",
       "1"
      ]
     },
     "execution_count": 3,
     "metadata": {},
     "output_type": "execute_result"
    }
   ],
   "source": [
    "# diagonal from Left to Right (counting upwards)\n",
    "def diagLRUP(i):\n",
    "    diagup = [X[j - i][j] for j in range(i, 8)]\n",
    "    result = sum(diagup) <= 1\n",
    "    return result\n",
    "\n",
    "diagLRUP(1)"
   ]
  },
  {
   "cell_type": "code",
   "execution_count": 4,
   "metadata": {},
   "outputs": [
    {
     "data": {
      "text/plain": [
       "[0 +\n",
       " x_0_0 +\n",
       " x_1_1 +\n",
       " x_2_2 +\n",
       " x_3_3 +\n",
       " x_4_4 +\n",
       " x_5_5 +\n",
       " x_6_6 +\n",
       " x_7_7 <=\n",
       " 1, 0 + x_0_1 + x_1_2 + x_2_3 + x_3_4 + x_4_5 + x_5_6 + x_6_7 <=\n",
       " 1, 0 + x_0_2 + x_1_3 + x_2_4 + x_3_5 + x_4_6 + x_5_7 <= 1, 0 + x_0_3 + x_1_4 + x_2_5 + x_3_6 + x_4_7 <= 1, 0 + x_0_4 + x_1_5 + x_2_6 + x_3_7 <= 1, 0 + x_0_5 + x_1_6 + x_2_7 <= 1, 0 + x_0_6 + x_1_7 <= 1, 0 + x_0_7 <= 1]"
      ]
     },
     "execution_count": 4,
     "metadata": {},
     "output_type": "execute_result"
    }
   ],
   "source": [
    "# first 8 upper LR diagonals\n",
    "LRUP = [diagLRUP(i) for i in range(8)]\n",
    "LRUP"
   ]
  },
  {
   "cell_type": "code",
   "execution_count": 5,
   "metadata": {},
   "outputs": [
    {
     "data": {
      "text/plain": [
       "0 + x_2_0 + x_3_1 + x_4_2 + x_5_3 + x_6_4 + x_7_5 <= 1"
      ]
     },
     "execution_count": 5,
     "metadata": {},
     "output_type": "execute_result"
    }
   ],
   "source": [
    "# Left Right diagonals (counting downwards)\n",
    "def diagLRDOWN(i):\n",
    "    result = sum([X[j][j - i] for j in range(i , 8)]) <= 1\n",
    "    return result\n",
    "diagLRDOWN(2)"
   ]
  },
  {
   "cell_type": "code",
   "execution_count": 6,
   "metadata": {},
   "outputs": [
    {
     "data": {
      "text/plain": [
       "[0 + x_1_0 + x_2_1 + x_3_2 + x_4_3 + x_5_4 + x_6_5 + x_7_6 <=\n",
       " 1,\n",
       " 0 + x_2_0 + x_3_1 + x_4_2 + x_5_3 + x_6_4 + x_7_5 <= 1,\n",
       " 0 + x_3_0 + x_4_1 + x_5_2 + x_6_3 + x_7_4 <= 1,\n",
       " 0 + x_4_0 + x_5_1 + x_6_2 + x_7_3 <= 1,\n",
       " 0 + x_5_0 + x_6_1 + x_7_2 <= 1,\n",
       " 0 + x_6_0 + x_7_1 <= 1]"
      ]
     },
     "execution_count": 6,
     "metadata": {},
     "output_type": "execute_result"
    }
   ],
   "source": [
    "# the missing LR diogonals\n",
    "LRDOWN =[diagLRDOWN(i) for i in range(1,7)]\n",
    "LRDOWN"
   ]
  },
  {
   "cell_type": "code",
   "execution_count": 7,
   "metadata": {},
   "outputs": [
    {
     "data": {
      "text/plain": [
       "[0 +\n",
       " x_0_7 +\n",
       " x_1_6 +\n",
       " x_2_5 +\n",
       " x_3_4 +\n",
       " x_4_3 +\n",
       " x_5_2 +\n",
       " x_6_1 +\n",
       " x_7_0 <=\n",
       " 1, 0 + x_1_7 + x_2_6 + x_3_5 + x_4_4 + x_5_3 + x_6_2 + x_7_1 <=\n",
       " 1, 0 + x_2_7 + x_3_6 + x_4_5 + x_5_4 + x_6_3 + x_7_2 <= 1, 0 + x_3_7 + x_4_6 + x_5_5 + x_6_4 + x_7_3 <= 1, 0 + x_4_7 + x_5_6 + x_6_5 + x_7_4 <= 1, 0 + x_5_7 + x_6_6 + x_7_5 <= 1, 0 + x_6_7 + x_7_6 <= 1]"
      ]
     },
     "execution_count": 7,
     "metadata": {},
     "output_type": "execute_result"
    }
   ],
   "source": [
    "# now digonals from Right to Left (counint downwares)\n",
    "def diagRLDOWN(i): \n",
    "    result = sum([X[j][ 7 - j + i] for j in range(i,8)]) <= 1\n",
    "    return result\n",
    "\n",
    "RLDOWN = [diagRLDOWN(i) for i in range(7)]\n",
    "RLDOWN\n"
   ]
  },
  {
   "cell_type": "code",
   "execution_count": 8,
   "metadata": {},
   "outputs": [
    {
     "data": {
      "text/plain": [
       "0 + x_0_6 + x_1_5 + x_2_4 + x_3_3 + x_4_2 + x_5_1 + x_6_0 <=\n",
       "1"
      ]
     },
     "execution_count": 8,
     "metadata": {},
     "output_type": "execute_result"
    }
   ],
   "source": [
    "# RL digonals the upper ones\n",
    "def diagRLUP(m):\n",
    "    #result = []\n",
    "    result = sum([X[j - 1][ m-j ] for j in range(1, m  + 1) ]) <= 1\n",
    "    return result\n",
    "\n",
    "diagRLUP(7)\n",
    "\n"
   ]
  },
  {
   "cell_type": "code",
   "execution_count": 9,
   "metadata": {},
   "outputs": [
    {
     "data": {
      "text/plain": [
       "[0 + x_0_1 + x_1_0 <= 1,\n",
       " 0 + x_0_2 + x_1_1 + x_2_0 <= 1,\n",
       " 0 + x_0_3 + x_1_2 + x_2_1 + x_3_0 <= 1,\n",
       " 0 + x_0_4 + x_1_3 + x_2_2 + x_3_1 + x_4_0 <= 1,\n",
       " 0 + x_0_5 + x_1_4 + x_2_3 + x_3_2 + x_4_1 + x_5_0 <= 1,\n",
       " 0 + x_0_6 + x_1_5 + x_2_4 + x_3_3 + x_4_2 + x_5_1 + x_6_0 <=\n",
       " 1]"
      ]
     },
     "execution_count": 9,
     "metadata": {},
     "output_type": "execute_result"
    }
   ],
   "source": [
    "# the other RL diagonals\n",
    "RLUP = [diagRLUP(i) for i in range(2,8)]\n",
    "RLUP\n",
    "        "
   ]
  },
  {
   "cell_type": "markdown",
   "metadata": {},
   "source": [
    "# 0 means empty 1 means a queen\n"
   ]
  },
  {
   "cell_type": "code",
   "execution_count": 10,
   "metadata": {},
   "outputs": [],
   "source": [
    "cells_c  = [ And(0 <= X[i][j], X[i][j] <= 1)\n",
    "             for i in range(8) for j in range(8) ]\n",
    "#cells_c\n"
   ]
  },
  {
   "cell_type": "markdown",
   "metadata": {},
   "source": [
    "# a possible solution of the eight queens problem\n",
    "<img src=\"../eightqueens.png\"/>"
   ]
  },
  {
   "cell_type": "markdown",
   "metadata": {},
   "source": [
    "# each from the 8 rows contains less than 2 queens, or even better 1 "
   ]
  },
  {
   "cell_type": "code",
   "execution_count": 11,
   "metadata": {},
   "outputs": [],
   "source": [
    "allrowCells = [ sum([X[i][j] for j in range(8)]) <= 1 \n",
    "            for i in range(8)]\n",
    "#allrowCells\n"
   ]
  },
  {
   "cell_type": "markdown",
   "metadata": {},
   "source": [
    "# each from the 8 columns contains less than 2 queens"
   ]
  },
  {
   "cell_type": "code",
   "execution_count": 12,
   "metadata": {},
   "outputs": [],
   "source": [
    "allcolCells = [ sum([X[i][j] for i in range(8)]) <= 1 \n",
    "            for j in range(8)]\n",
    "#allcolCells\n"
   ]
  },
  {
   "cell_type": "markdown",
   "metadata": {},
   "source": [
    "# start with all cells"
   ]
  },
  {
   "cell_type": "code",
   "execution_count": 13,
   "metadata": {},
   "outputs": [],
   "source": [
    "all2Cells = [ X[i][j] for i in range(8)\n",
    "            for j in range(8)]\n",
    "#all2Cells\n",
    "\n"
   ]
  },
  {
   "cell_type": "markdown",
   "metadata": {},
   "source": [
    "# there must be 8 queens"
   ]
  },
  {
   "cell_type": "code",
   "execution_count": 14,
   "metadata": {},
   "outputs": [],
   "source": [
    "cond8queens  = sum(all2Cells) == 8"
   ]
  },
  {
   "cell_type": "markdown",
   "metadata": {},
   "source": [
    "# adding all conditions to Solver s \n",
    "## and check for an solution (the first one ;-) )"
   ]
  },
  {
   "cell_type": "code",
   "execution_count": 15,
   "metadata": {},
   "outputs": [
    {
     "data": {
      "text/plain": [
       "sat"
      ]
     },
     "execution_count": 15,
     "metadata": {},
     "output_type": "execute_result"
    }
   ],
   "source": [
    "s = Solver()\n",
    "s.add(cells_c)\n",
    "s.add(allcolCells)\n",
    "s.add(allrowCells)\n",
    "s.add(LRUP)\n",
    "s.add(LRDOWN)\n",
    "s.add(RLDOWN)\n",
    "s.add(RLUP)\n",
    "s.add(cond8queens)\n",
    "s.check()"
   ]
  },
  {
   "cell_type": "markdown",
   "metadata": {},
   "source": [
    "# the result of the check is <font color=\"red\">sat</font>\n",
    "## means a model with solution is now available"
   ]
  },
  {
   "cell_type": "code",
   "execution_count": 16,
   "metadata": {},
   "outputs": [],
   "source": [
    "#PKHG> if you watn to see it: s.model()"
   ]
  },
  {
   "cell_type": "markdown",
   "metadata": {},
   "source": [
    "# s.model heeft 8 keer = 1, OK"
   ]
  },
  {
   "cell_type": "code",
   "execution_count": 17,
   "metadata": {
    "scrolled": true
   },
   "outputs": [],
   "source": [
    "# to look for more solution the found one has\n",
    "# to be disallowed (see hereafter)\n",
    "m = s.model()\n",
    "vals = [X[i][j] == m.evaluate(X[i][j]) for j in range(8)\n",
    "            for i in range(8)]\n",
    "    \n",
    "#PKHG> if you want to see them: vals"
   ]
  },
  {
   "cell_type": "code",
   "execution_count": 18,
   "metadata": {},
   "outputs": [
    {
     "data": {
      "text/plain": [
       "[[0, 0, 0, 0, 1, 0, 0, 0],\n",
       " [1, 0, 0, 0, 0, 0, 0, 0],\n",
       " [0, 0, 0, 1, 0, 0, 0, 0],\n",
       " [0, 0, 0, 0, 0, 1, 0, 0],\n",
       " [0, 0, 0, 0, 0, 0, 0, 1],\n",
       " [0, 1, 0, 0, 0, 0, 0, 0],\n",
       " [0, 0, 0, 0, 0, 0, 1, 0],\n",
       " [0, 0, 1, 0, 0, 0, 0, 0]]"
      ]
     },
     "execution_count": 18,
     "metadata": {},
     "output_type": "execute_result"
    }
   ],
   "source": [
    "m = s.model()\n",
    "r = [ [ m.evaluate(X[i][j]) for j in range(8) ]\n",
    "      for i in range(8) ]\n",
    "r"
   ]
  },
  {
   "cell_type": "markdown",
   "metadata": {},
   "source": [
    "# ^^^ solution looks different ;-)"
   ]
  },
  {
   "cell_type": "markdown",
   "metadata": {},
   "source": [
    "<img src=\"../eightqueens.png\"/>"
   ]
  },
  {
   "cell_type": "markdown",
   "metadata": {},
   "source": [
    "# One solution already found ..."
   ]
  },
  {
   "cell_type": "code",
   "execution_count": 19,
   "metadata": {
    "scrolled": true
   },
   "outputs": [
    {
     "name": "stdout",
     "output_type": "stream",
     "text": [
      "counter =  1\n",
      "counter =  2\n",
      "counter =  3\n",
      "counter =  4\n",
      "counter =  5\n",
      "counter =  6\n",
      "counter =  7\n",
      "counter =  8\n",
      "counter =  9\n",
      "counter =  10\n",
      "counter =  11\n",
      "counter =  12\n",
      "counter =  13\n",
      "counter =  14\n",
      "counter =  15\n",
      "counter =  16\n",
      "counter =  17\n",
      "counter =  18\n",
      "counter =  19\n",
      "counter =  20\n",
      "counter =  21\n",
      "counter =  22\n",
      "counter =  23\n",
      "counter =  24\n",
      "counter =  25\n",
      "counter =  26\n",
      "counter =  27\n",
      "counter =  28\n",
      "counter =  29\n",
      "counter =  30\n",
      "counter =  31\n",
      "counter =  32\n",
      "counter =  33\n",
      "counter =  34\n",
      "counter =  35\n",
      "counter =  36\n",
      "counter =  37\n",
      "counter =  38\n",
      "counter =  39\n",
      "counter =  40\n",
      "counter =  41\n",
      "counter =  42\n",
      "counter =  43\n",
      "counter =  44\n",
      "counter =  45\n",
      "counter =  46\n",
      "counter =  47\n",
      "counter =  48\n",
      "counter =  49\n",
      "counter =  50\n",
      "counter =  51\n",
      "counter =  52\n",
      "counter =  53\n",
      "counter =  54\n",
      "counter =  55\n",
      "counter =  56\n",
      "counter =  57\n",
      "counter =  58\n",
      "counter =  59\n",
      "counter =  60\n",
      "counter =  61\n",
      "counter =  62\n",
      "counter =  63\n",
      "counter =  64\n",
      "counter =  65\n",
      "counter =  66\n",
      "counter =  67\n",
      "counter =  68\n",
      "counter =  69\n",
      "counter =  70\n",
      "counter =  71\n",
      "counter =  72\n",
      "counter =  73\n",
      "counter =  74\n",
      "counter =  75\n",
      "counter =  76\n",
      "counter =  77\n",
      "counter =  78\n",
      "counter =  79\n",
      "counter =  80\n",
      "counter =  81\n",
      "counter =  82\n",
      "counter =  83\n",
      "counter =  84\n",
      "counter =  85\n",
      "counter =  86\n",
      "counter =  87\n",
      "counter =  88\n",
      "counter =  89\n",
      "counter =  90\n",
      "counter =  91\n"
     ]
    }
   ],
   "source": [
    "# save first solution in results\n",
    "m = s.model()\n",
    "r = [ [ m.evaluate(X[i][j]) for j in range(8) ]\n",
    "        for i in range(8) ]\n",
    "results = {}\n",
    "results[0] = r\n",
    "\n",
    "\n",
    "counter = 0\n",
    "maxaantal = 100\n",
    "from z3 import * \n",
    "from mydateFP import getFPnameDate\n",
    "\n",
    "vals = [X[i][j] == m.evaluate(X[i][j]) for j in range(8)\n",
    "        for i in range(8)]\n",
    "\n",
    "######################################################\n",
    "# the standard way to force checking an other solution\n",
    "\n",
    "s.add(Not(And(vals)))\n",
    "\n",
    "######################################################\n",
    "\n",
    "#now loop while a (new!) solution is found but at mowst maxaantal times\n",
    "\n",
    "while s.check() == sat and counter <= maxaantal:\n",
    "    counter += 1\n",
    "    m = s.model()\n",
    "    r = [ [ m.evaluate(X[i][j]) for j in range(8) ]\n",
    "        for i in range(8) ]\n",
    "    results[counter] = r\n",
    "    print(\"counter = \", counter) #inbetween ..\n",
    "    #print_matrix(r)\n",
    "    vals = [X[i][j] == m.evaluate(X[i][j]) for j in range(8)\n",
    "            for i in range(8)]\n",
    "    s.add(Not(And(vals)))\n",
    "    \n",
    " "
   ]
  },
  {
   "cell_type": "code",
   "execution_count": 20,
   "metadata": {},
   "outputs": [
    {
     "data": {
      "text/plain": [
       "92"
      ]
     },
     "execution_count": 20,
     "metadata": {},
     "output_type": "execute_result"
    }
   ],
   "source": [
    "len(results.keys())"
   ]
  },
  {
   "cell_type": "markdown",
   "metadata": {},
   "source": [
    "# from wikipedia:\n",
    "Number of different solutions are **<font color=\"red\"> 92 </font>**\n",
    "# <font color=\"green\"> Jippie: confirmed with z3 </font>"
   ]
  },
  {
   "cell_type": "code",
   "execution_count": null,
   "metadata": {},
   "outputs": [],
   "source": []
  },
  {
   "cell_type": "markdown",
   "metadata": {},
   "source": [
    "# other approach\n",
    "to be found on the WWW: API voor z3 in python ;-)\n",
    "# clever diagonal check (not yet understood)"
   ]
  },
  {
   "cell_type": "code",
   "execution_count": 21,
   "metadata": {},
   "outputs": [
    {
     "name": "stdout",
     "output_type": "stream",
     "text": [
      "[Q_5 = 6,\n",
      " Q_8 = 8,\n",
      " Q_3 = 5,\n",
      " Q_2 = 7,\n",
      " Q_6 = 1,\n",
      " Q_4 = 2,\n",
      " Q_7 = 3,\n",
      " Q_1 = 4]\n"
     ]
    }
   ],
   "source": [
    "from z3 import *\n",
    "# We know each queen must be in a different row.\n",
    "# So, we represent each queen by a single integer: the column position\n",
    "Q = [ Int('Q_%i' % (i + 1)) for i in range(8) ]\n",
    "\n",
    "# Each queen is in a column {1, ... 8 }\n",
    "val_c = [ And(1 <= Q[i], Q[i] <= 8) for i in range(8) ]\n",
    "\n",
    "# At most one queen per column\n",
    "col_c = [ Distinct(Q) ]\n",
    "\n",
    "# Diagonal constraint\n",
    "diag_c = [ If(i == j, \n",
    "              True, \n",
    "              And(Q[i] - Q[j] != i - j, Q[i] - Q[j] != j - i)) \n",
    "           for i in range(8) for j in range(i) ]\n",
    "\n",
    "s = Solver()\n",
    "#s.add([val_c + col_c + diag_c])\n",
    "#print(s.check())       \n",
    "solve(val_c + col_c + diag_c)\n",
    "\n",
    "\n"
   ]
  },
  {
   "cell_type": "code",
   "execution_count": null,
   "metadata": {},
   "outputs": [],
   "source": []
  }
 ],
 "metadata": {
  "kernelspec": {
   "display_name": "Python 3",
   "language": "python",
   "name": "python3"
  },
  "language_info": {
   "codemirror_mode": {
    "name": "ipython",
    "version": 3
   },
   "file_extension": ".py",
   "mimetype": "text/x-python",
   "name": "python",
   "nbconvert_exporter": "python",
   "pygments_lexer": "ipython3",
   "version": "3.7.3"
  }
 },
 "nbformat": 4,
 "nbformat_minor": 2
}
