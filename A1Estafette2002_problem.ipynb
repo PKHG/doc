{
 "cells": [
  {
   "cell_type": "markdown",
   "metadata": {},
   "source": [
    "# Wiskunde estafette 2020 opdracht A1, at Ensched UT\n",
    "\n",
    "# 5 dieren (A,B,C,D) zijn of wolven of honden. \n",
    " Honden vertellen altijd de waarheid en\n",
    " wolven liegen altijd!\n",
    "\n",
    "1. A beweert dat B een hoond is.\n",
    "2. C beweert dat D een wolf is.\n",
    "3. E beweert dat A een hond is.\n",
    "4. B beweert dat C een wolf is.\n",
    "5. D beweert dat B en E niet van dezelfde soort zijn.\n",
    "\n",
    "Hoeveel wolven zijn er?\n",
    "\n",
    "\n",
    "## EN: 5 animals (A, B, C, D, E) are either wolf or dog.\n",
    "\n",
    "# EN: dogs tel the truth, wolves lie\n",
    "1. A claims B is a dog.\n",
    "2. C claims D is a wofl.\n",
    "3. E claims A is a dog.\n",
    "4. B claims C is a wolf.\n",
    "5. D claims  B snd E are not the same sort.\n",
    "\n",
    "### howmany wolfs are there?"
   ]
  },
  {
   "cell_type": "markdown",
   "metadata": {},
   "source": [
    "Hi Peter,\n",
    "\n",
    " \n",
    "\n",
    "The encoding isn’t right. There are just two entities in the universe you declare.\n",
    "\n",
    "This is the encoding I had in mind.\n",
    "\n",
    "It declares a sort Animal, and there are entities a, b, c, d, e that are all animals.\n",
    "\n",
    "They can be of the same species. Since there are just two species in this puzzle,\n",
    "\n",
    "whatever isn’t a dog can be a wolf.\n",
    "\n",
    " "
   ]
  },
  {
   "cell_type": "markdown",
   "metadata": {},
   "source": [
    "# My own try was no succes (learning to use Z3)\n",
    "# Nicolaj B. solved it for me  (thanks again ) ;-)\n",
    "# I tried by hand checking different possibilities and landed by ONE dog\n",
    "# Nice thinking solution by my son in law (below) ;-) (thanks Peter!)"
   ]
  },
  {
   "cell_type": "code",
   "execution_count": 1,
   "metadata": {},
   "outputs": [
    {
     "name": "stdout",
     "output_type": "stream",
     "text": [
      "sat\n",
      "[dog = [else -> Var(0) == c]]\n",
      "nr of wolfs is 4\n"
     ]
    }
   ],
   "source": [
    "from z3 import *\n",
    "\n",
    "Animal, [a,b,c,d,e] = EnumSort('Animal',['a','b','c','d','e'])\n",
    "dog = Function('dog', Animal, BoolSort())\n",
    "\n",
    "def wolf(x):\n",
    "    return Not(dog(x))\n",
    "\n",
    "s = Solver()\n",
    "\n",
    "#add conditions to Solver  \n",
    "def says(x, y):                        #maybe change (original) says into claims ;-)\n",
    "    s.add(Implies(wolf(x), Not(y)))\n",
    "    s.add(Implies(dog(x), y))\n",
    "says(a, dog(b))            # A claims B is a dog.\n",
    "says(c, wolf(d))           # C claims D is a wofl.\n",
    "says(e, dog(a))            # E claims A is a dog.\n",
    "says(b, wolf(c))           # B claims C is a wolf.\n",
    "says(d, dog(e) != dog(d))  #D claims B snd E are not the same sort.\n",
    "\n",
    "print(s.check())\n",
    "print(s.model())\n",
    "print('nr of wolfs is {}'.format(sum(is_true(s.model().eval(wolf(x))) for x in [a,b,c,d,e])))\n",
    "#Peter added 'nr of wolfs is {}; format\"\n"
   ]
  },
  {
   "cell_type": "code",
   "execution_count": 2,
   "metadata": {},
   "outputs": [
    {
     "data": {
      "text/html": [
       "[dog = [else &rarr; &#957;<sub>0</sub> = c]]"
      ],
      "text/plain": [
       "[dog = [else -> Var(0) == c]]"
      ]
     },
     "execution_count": 2,
     "metadata": {},
     "output_type": "execute_result"
    }
   ],
   "source": [
    "s. model()"
   ]
  },
  {
   "cell_type": "code",
   "execution_count": 3,
   "metadata": {},
   "outputs": [
    {
     "data": {
      "text/html": [
       "[&not;dog(a) &rArr; &not;dog(b),\n",
       " dog(a) &rArr; dog(b),\n",
       " &not;dog(c) &rArr; &not;&not;dog(d),\n",
       " dog(c) &rArr; &not;dog(d),\n",
       " &not;dog(e) &rArr; &not;dog(a),\n",
       " dog(e) &rArr; dog(a),\n",
       " &not;dog(b) &rArr; &not;&not;dog(c),\n",
       " dog(b) &rArr; &not;dog(c),\n",
       " &not;dog(d) &rArr; &not;dog(e) &ne; dog(d),\n",
       " dog(d) &rArr; dog(e) &ne; dog(d)]"
      ],
      "text/plain": [
       "[Implies(Not(dog(a)), Not(dog(b))),\n",
       " Implies(dog(a), dog(b)),\n",
       " Implies(Not(dog(c)), Not(Not(dog(d)))),\n",
       " Implies(dog(c), Not(dog(d))),\n",
       " Implies(Not(dog(e)), Not(dog(a))),\n",
       " Implies(dog(e), dog(a)),\n",
       " Implies(Not(dog(b)), Not(Not(dog(c)))),\n",
       " Implies(dog(b), Not(dog(c))),\n",
       " Implies(Not(dog(d)), Not(dog(e) != dog(d))),\n",
       " Implies(dog(d), dog(e) != dog(d))]"
      ]
     },
     "execution_count": 3,
     "metadata": {},
     "output_type": "execute_result"
    }
   ],
   "source": [
    "s"
   ]
  },
  {
   "cell_type": "markdown",
   "metadata": {},
   "source": [
    "# This satisfied model and conditions is not easy readable\n",
    "\n",
    "## My try to use the model of the satified Solve, readable solution ...\n"
   ]
  },
  {
   "cell_type": "code",
   "execution_count": 4,
   "metadata": {},
   "outputs": [
    {
     "name": "stdout",
     "output_type": "stream",
     "text": [
      "aantal wolven is = 4\n"
     ]
    },
    {
     "data": {
      "text/plain": [
       "['a is a wolf is True',\n",
       " 'b is a wolf is True',\n",
       " 'c is a wolf is False',\n",
       " 'd is a wolf is True',\n",
       " 'e is a wolf is True']"
      ]
     },
     "execution_count": 4,
     "metadata": {},
     "output_type": "execute_result"
    }
   ],
   "source": [
    "print('aantal wolven is =', sum(is_true(s.model().eval(wolf(x))) for x in [a,b,c,d,e])) #same as above only text added\n",
    "['{} is a wolf is {}'.format(s.model().eval(x), is_true(s.model().eval(wolf(x)))) for x in [a,b,c,d,e]]"
   ]
  },
  {
   "cell_type": "markdown",
   "metadata": {},
   "source": [
    "# so only ONE dog"
   ]
  },
  {
   "cell_type": "markdown",
   "metadata": {},
   "source": [
    "# solution by thinking from my son in law ;-) \n",
    "Hallo Peter (thats me),\n",
    "\n",
    "Ik (thats him, a Peter too) los het als volgt op:\n",
    "\n",
    "De aanwijzingen zijn:\n",
    "A beweert dat B een hond is.\n",
    "C beweert dat D een wolf is.\n",
    "E beweert dat A een hond is.\n",
    "B beweert dat C een wolf is.\n",
    "D beweert dat de dieren B en E niet van dezelfde soort zijn.\n",
    "\n",
    "Bij een aanwijzing van de vorm \"P beweert dat Q een hond is.\"  zijn er 2 mogelijkheden. P is een hond en spreekt de waarheid en dan is Q ook een hond\n",
    "óf P is een wolf en liegt en dan is Q ook een wolf. \n",
    "De aanwijzing betekent dus \"P en Q zijn van dezelfde soort.\".\n",
    "\n",
    "Bij een aanwijzing van de vorm \"R beweert dat S een wolf is.\" zijn er ook 2 mogelijkheden. R is een hond en spreekt de waarheid en dan is S dus een wolf \n",
    "óf R is een wolf en liegt en dan is S dus een hond. \n",
    "Deze aanwijzing betekent dus \"R en S zijn NIET van dezelfde soort.\"\n",
    "\n",
    "Daarmee kunnen we de oorspronkelijke set aanwijzingen herschrijven:\n",
    "A en B zijn van dezelfde soort.\n",
    "C en D zijn NIET van dezelfde soort.\n",
    "E en A zijn van dezelfde soort.\n",
    "B en C zijn NIET van dezelfde soort.\n",
    "D beweert dat de dieren B en E niet van dezelfde soort zijn.\n",
    "\n",
    "Uit 1. en 3. volgt dat A, B en E van dezelfde soort zijn.\n",
    "Uit 2. en 4. volgt dat B en D van dezelfde soort zijn (want ze zijn allebei van een andere soort dan C en er zijn maar 2 soorten).\n",
    "\n",
    "Dus A, B, D en E zijn van dezelfde soort en C is de enige van de andere soort.\n",
    "\n",
    "Aanwijzing 5. leert ons dan dat D niet de waarheid spreekt want we weten inmiddels dat B en E van dezelfde soort zijn.\n",
    "\n",
    "Dus A, B, D en E zijn wolven en C is de enige hond."
   ]
  }
 ],
 "metadata": {
  "kernelspec": {
   "display_name": "Python 3",
   "language": "python",
   "name": "python3"
  },
  "language_info": {
   "codemirror_mode": {
    "name": "ipython",
    "version": 3
   },
   "file_extension": ".py",
   "mimetype": "text/x-python",
   "name": "python",
   "nbconvert_exporter": "python",
   "pygments_lexer": "ipython3",
   "version": "3.7.6"
  }
 },
 "nbformat": 4,
 "nbformat_minor": 4
}
