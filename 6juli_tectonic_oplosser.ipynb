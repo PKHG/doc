{
 "cells": [
  {
   "cell_type": "markdown",
   "metadata": {},
   "source": [
    "# voor een nieuw tectonic moet men een file aanmaken\n",
    "de eerste regel b.v. \n",
    "### nrKol, nrRij = 9, 9\n",
    "aantal kolommen, aantal rijen\n",
    "## voor elk vak de Coords gevolgd door string data 0 voor niet bekend\n",
    "## in dezelfde volgorde als de gegeven Coords\n",
    "### voorbeeld a1b1b2c2d2 00210  de letters mogen ook uit {A,B,...} zijn\n",
    "# <font color='red'>see the example</font> "
   ]
  },
  {
   "cell_type": "markdown",
   "metadata": {},
   "source": [
    "<img src = '7julitub9x9.jpg'/>\n",
    "\n",
    "# this puzzel converted to a possible inputfile:\n",
    "```\n",
    "nrKol, nrRij = 9, 9\n",
    "a1a2b1b2b3 03200\n",
    "c1c2c3d2e2 00000\n",
    "d1e1f1g1h1 05000\n",
    "i1i2f2g2h2 12000\n",
    "a3a4 00\n",
    "d3d4c4e3f3 04000\n",
    "g3g4g5g6g7 03000\n",
    "h3h4i3i4i5 00100\n",
    "b4b5c5d5d6 00000\n",
    "e4e5e6f4f5 10000\n",
    "h5h6h7h8g8 00030\n",
    "a5a6a7a8b7 03000\n",
    "b6c6c7d7d8 00000\n",
    "f6f7f8e7e8 00300\n",
    "i6i7i8i9 0000\n",
    "a9b8b9c8c9 21000\n",
    "d9e9f9g9h9 00010\n",
    "```"
   ]
  },
  {
   "cell_type": "code",
   "execution_count": 1,
   "metadata": {},
   "outputs": [
    {
     "name": "stdout",
     "output_type": "stream",
     "text": [
      " Volume in drive C has no label.\n",
      " Volume Serial Number is E491-19A0\n",
      "\n",
      " Directory of C:\\Users\\Zbook\\PKHG\\tectonic\\doc-master\n",
      "\n",
      "07-07-2020  07:42               315 7julitub9x9\n",
      "07-07-2020  07:33               315 7julitub9x9~\n",
      "               2 File(s)            630 bytes\n",
      "               0 Dir(s)  348.418.277.376 bytes free\n"
     ]
    }
   ],
   "source": [
    "%ls 7*."
   ]
  },
  {
   "cell_type": "code",
   "execution_count": 2,
   "metadata": {},
   "outputs": [
    {
     "name": "stdout",
     "output_type": "stream",
     "text": [
      "welkbestand bevat het puzzel? 7julitub9x9\n"
     ]
    }
   ],
   "source": [
    "filename = input(\"welkbestand bevat het puzzel? \")\n"
   ]
  },
  {
   "cell_type": "code",
   "execution_count": 45,
   "metadata": {},
   "outputs": [],
   "source": [
    "from z3 import *    # de microsoft solver z3 wordt gebruikt!!!\n",
    "import numpy as np  #om later gekleurde oplossing te laten zien\n",
    "\n",
    "def arithmrij(i):                   #zal voor de som getallen in een vak worden gebruikt\n",
    "    return int(((i + 1) / 2 ) * i)\n",
    "\n",
    "# om A1 ... in np coordinaten te converteren\n",
    "def coord_to_np_coord(w = 'A1'):\n",
    "    yc , xc = w[0], int(w[1:]) - 1\n",
    "    return(xc, ord(yc)- 65)\n",
    "\n",
    "########### kleuren gebruiken voorbereiding\n",
    "from IPython.utils import coloransi\n",
    "#from IPython.core import prompts\n",
    "termcolors = coloransi.TermColors() # the color table\n",
    "#dark = prompts.PColLinux.colors\n",
    "#light = prompts.PColLightBG.colors\n",
    "#dir(coloransi.TermColors)\n",
    "kleurdata = {\n",
    "    'Black': 40, 'Red' : 41, 'Green' :42, 'Yellow': 43,\n",
    "    'Blue' : 44, 'Magenta' :45, 'Cyan':46,   'White':47}\n",
    "# NN print(kleurdata.keys(), kleurdata.values())\n",
    "wijzig = ['\\x1b[0;' + str(el) + 'm' for el in kleurdata.values()]\n",
    "printKleur = dict([])\n",
    "for i, kleur in enumerate(kleurdata.keys()):\n",
    "    printKleur[kleur] = wijzig[i]\n",
    "#printKleur\n"
   ]
  },
  {
   "cell_type": "code",
   "execution_count": 47,
   "metadata": {},
   "outputs": [
    {
     "name": "stdout",
     "output_type": "stream",
     "text": [
      "nrKol = 9  nrRij = 9\n"
     ]
    }
   ],
   "source": [
    "fp = open(filename,'r')\n",
    "alllines = fp.readlines()\n",
    "alllines = [el.rstrip() for el in alllines]\n",
    "\n",
    "exec(alllines[0])\n",
    "print('nrKol = {0}  nrRij = {1}'.format(nrKol, nrRij))\n",
    "#DBG print(len(alllines))\n",
    "alllines.pop(0)\n",
    "#DBG print(len(alllines))\n",
    "#DBG nrKol, nrRij\n",
    "\n",
    "import re\n",
    "p = re.compile(\"[A-Z][0-9]*\") #normal max range was A1..I9\n",
    "def get_Coords(ts):\n",
    "    \"\"\"\n",
    "    Short input splitted into (chess-like) coordinates\n",
    "    \"\"\"\n",
    "    ts = ts.upper()\n",
    "    iterator = p.finditer(ts)\n",
    "    result = []\n",
    "    for match in iterator:\n",
    "        res = match.span()\n",
    "        result.append(ts[res[0]:res[1]])\n",
    "    return result\n",
    "\n",
    "#print(\"example gegenereerde Coords\", get_Coords(\"A1d1B2C2y2\"))\n",
    "#maak een dictionary per rij een dictionary\n",
    "      \n",
    "vak = dict([])\n",
    "localVakGetallen = dict([])\n",
    "#\"\"\"\n",
    "#wijzig\n",
    "vakkleur = 1\n",
    "for i, line in enumerate(alllines):\n",
    "    #PKHG???5juli \n",
    "    vakkleur = 1 + (vakkleur % (len(kleurdata) - 1))  #PKHG????\n",
    "    # index error  vakkleur = 1 + (vakkleur % (len(kleurdata)))\n",
    "    d0, d1 = line.split(' ')\n",
    "    # print('DBG',d0, ' &&&& ', d1)\n",
    "    tmp = get_Coords(d0)\n",
    "    npcoords = [ coord_to_np_coord(el) for el in tmp ]\n",
    "    #DBG  print(\"DBG tmp L34\", tmp)\n",
    "    localVakGetallen = [0 for i in range(len(tmp))]# = { tmp[el]: 0 for el in tmp} #om een oplossing te hebben, zelfde volgprd\n",
    "    #print('line {0} line = {1} dan {2}'.format(i,tmp, d1))\n",
    "    #vak['vak' + str(i)] = [tmp, d1]\n",
    "    ssom = arithmrij(len(tmp))\n",
    "    vak[i] = {'coords':tmp, 'waarden':d1, 'somv': ssom  , 'npcoords': npcoords,\n",
    "             'kleur':wijzig[vakkleur] , 'getallen' : localVakGetallen} #python zero based nummering!!\n",
    "# van example0\n",
    "#print(\"Alle vakken opgeslaan in vak van example0 \")\n",
    "#vak\n",
    "#\"\"\"\n",
    "fp.close()"
   ]
  },
  {
   "cell_type": "code",
   "execution_count": 26,
   "metadata": {},
   "outputs": [
    {
     "name": "stdout",
     "output_type": "stream",
     "text": [
      "{'A2': 3, 'B1': 2, 'E1': 5, 'I1': 1, 'I2': 2, 'D4': 4, 'G4': 3, 'I3': 1, 'E4': 1, 'H8': 3, 'A6': 3, 'F8': 3, 'A9': 2, 'B8': 1, 'G9': 1}\n"
     ]
    }
   ],
   "source": [
    "def gegeven_waarden(puzzel = vak, DBG = False):\n",
    "    \"\"\"\n",
    "    maak een lijst van de in de puzzel gegeven waarden\n",
    "    \"\"\"\n",
    "    gegevenData = dict([])\n",
    "    for i, el in enumerate(list(puzzel.values())):\n",
    "        coords = el['coords']\n",
    "        waarden = [ int(i) for i in el['waarden']]\n",
    "        #print(coords, waarden)\n",
    "        eval_dit = [(a,b) for a,b in zip(coords, waarden)]\n",
    "        if len(eval_dit) == 1:\n",
    "            if DBG:\n",
    "                print(eval_dit[0] , 'wordt', 1)\n",
    "            gegevenData[eval_dit[0][0]] = 1\n",
    "        else:\n",
    "            for coor, waarde in eval_dit:\n",
    "                if waarde > 0:\n",
    "                    if DBG:\n",
    "                        print(coor, 'wordt', waarde)\n",
    "                    gegevenData[coor] = waarde\n",
    "                #print(coor, waarde)\n",
    "        #print(eval_dit)\n",
    "        #print (i, el['coords'], el['waarden'])\n",
    "    return gegevenData\n",
    "\n",
    "print(gegeven_waarden(vak)) #OLD ;-) voor exa3x3 moet dit {} opleveren 4 juli 8:07 OK\n",
    "    "
   ]
  },
  {
   "cell_type": "code",
   "execution_count": 48,
   "metadata": {},
   "outputs": [],
   "source": [
    "#from z3 import *\n",
    "def conditievakken(vak):\n",
    "    \"\"\"\n",
    "    coords in een vak moeten verschillend (Distinct) zijn\n",
    "    \"\"\"\n",
    "    start_condities = []\n",
    "    for i, el in enumerate(list(vak.values())):\n",
    "        coords = el['coords']\n",
    "        waarden = [ int(i) for i in el['waarden']]\n",
    "        len_coords = len(coords)\n",
    "        #print(coords, waarden)\n",
    "        \n",
    "        ### PKHG_TODO de bijbehorende cell hier al op 1 zetten?!!! 4 juli 8:11 PKHG\n",
    "        \n",
    "        if len(coords) == 1:\n",
    "            continue\n",
    "        tmp = Distinct([Int(naam) for naam in coords])\n",
    "        start_condities.append(tmp)\n",
    "        for naam in coords:\n",
    "            tmp = Int(naam)\n",
    "            start_condities.append( And(tmp > 0, tmp <= len_coords))\n",
    "        #print(tmp)\n",
    "        #start_condities.extend([Distinct[ Int(naam) for naam in coords]])\n",
    "    return start_condities    \n",
    "#DBG print(conditievakken(vak))"
   ]
  },
  {
   "cell_type": "code",
   "execution_count": 49,
   "metadata": {},
   "outputs": [],
   "source": [
    "#dbg len(vak)"
   ]
  },
  {
   "cell_type": "code",
   "execution_count": 51,
   "metadata": {},
   "outputs": [
    {
     "name": "stdout",
     "output_type": "stream",
     "text": [
      "Alle coordinaten gegeven ;-) \n"
     ]
    }
   ],
   "source": [
    "all_coords = set({})\n",
    "for i in range(len(vak)):\n",
    "    for cors in vak[i]['coords']:\n",
    "        all_coords.add(cors)\n",
    "if len(all_coords) != nrKol * nrRij:\n",
    "    print(\"ERROR in invoer, niet genoeg coordinaten gevonden\")\n",
    "    print(\"check now e.g. all_coords\")\n",
    "    import sys\n",
    "    sys.exit()\n",
    "else:\n",
    "    print(\"Alle coordinaten gegeven ;-) \")"
   ]
  },
  {
   "cell_type": "code",
   "execution_count": 31,
   "metadata": {},
   "outputs": [],
   "source": [
    "class Tectonic_start:\n",
    "    \"\"\"\n",
    "    de puzzel met alle benodigede waarden heet nu vak en is intussen aangemaaket\n",
    "    voor de eerste test wordt het boven gemaakte puzzel gebruikt,\n",
    "    door davoor  in __init__ de waarden als default waarden te nemen\n",
    "    \n",
    "    het zijn dus: vak, nrRij en nrKol\n",
    "    er is een debug mogelijk ingeboud te activern via een specifieke DBG = \"????\"\n",
    "    \n",
    "    \"\"\"\n",
    "    # PKHG ???? puzzel dict gebruiken? global vakkenlijst\n",
    "    def __init__(self, vak, nrRij = nrRij, nrKol = nrKol, DBG = ' '):\n",
    "        # input waarden Class variablen maken en andere voorbereidingen\n",
    "        self.DBG = DBG\n",
    "        self.vak = vak\n",
    "        self.lenvaknamen = 1\n",
    "        self.nrRij = nrRij\n",
    "        self.nrKol = nrKol\n",
    "        self.todolist = []\n",
    "        self.oplossingen = dict()\n",
    "        self.sol = None # changed in run ...   # de z3 Solver wordt gebruikt\n",
    "        self.inbetween = None\n",
    "        self.startconditions = []\n",
    "        self.solution_models = []\n",
    "        # de coordintaten (a la chess A1 ... I9 9x9 puzzel)\n",
    "        self.kolnamen = [chr(65 + i) for i in range(nrKol)]    # dus een lijst van kolom namen ['A', 'B', ...]\n",
    "        self.rijnamen = [chr(49 + i) for i in range(nrRij)]    # net zo voor de rijen\n",
    "        self.allElements = [ a + b for a in self.kolnamen for b in self.rijnamen]  # de namen voor elkce cell zijn dus nu klaar\n",
    "        \n",
    "        # omdat alle vakken gebruikt moeten worden is een lijst van vakken nodig:\n",
    "        #self.vakkenlijst = [el['coords'] for el in puzzel()]\n",
    "        #daarmee wordt een maakelijk bruikbaar dictionary gemaakt\n",
    "        \n",
    "        # s a dictionary met keys de namen van de vakken values de Int van de bijbehorende naam\n",
    "        self.s = {e: Int(e) for e in self.allElements}\n",
    "        \n",
    "        # uit het gegeven puzzel de gegeven waaren halen ==> een dict\n",
    "        self.gegevenWaarden = dict()\n",
    "        self.vakcondities = conditievakken(vak)  # voor de solver een lijst van tectonic condities gebruiken:\n",
    "        self.strwaarden = []\n",
    "        self.strnamen = []\n",
    "        #self.gegevenData = dict([])\n",
    "        self.gegevenData = gegeven_waarden(self.vak)\n",
    "        self.startconditions = conditievakken(self.vak)\n",
    "       \n",
    "    def verschuifInfo_algemeen(self, r, s, nrRij  = nrRij, nrKol = nrKol):\n",
    "        \"\"\"\n",
    "        r is (zero based) rij index,  s is (zero based) kol index het CENTRUM element\n",
    "        nrRij het aantal rijen, nrKol aantal kolommen\n",
    "        result  [centrum [lijst omringende cellen]]\n",
    "        \"\"\"\n",
    "        #r += 1   #namen zijn om een verschoven met zero based real coordinates\n",
    "        #s += 1\n",
    "        res = [(-1 + s , r - 1 + i) for i in range(3)]\n",
    "        res.extend([(0 + s, r - 1 + i) for i in range(3)])\n",
    "        res.extend([(1 + s, r - 1 + i) for i in range(3)])\n",
    "        result = [ chr(65 + x ) + str(y + 1) for x, y in res if x > -1 and y > -1 and x < nrKol and y < nrRij]\n",
    "        midden = chr(65 + s ) + str(r + 1)\n",
    "        result.pop(result.index(midden))\n",
    "        return (midden, result)\n",
    "    #nrRij , nrKol\n",
    "    \n",
    "    def make_todolist(self):\n",
    "        \"\"\"\n",
    "        Berekening van alle vakken moeten verschillend cellen bevatten...\n",
    "        \"\"\"\n",
    "        selftodolist = []\n",
    "        for i in range(self.nrRij):\n",
    "            for j in range(self.nrKol):\n",
    "                #print(i,j, self.verschuifInfo_algemeen(i,j))\n",
    "                selftodolist.append(self.verschuifInfo_algemeen(i,j))\n",
    "        for naam, lis in selftodolist:\n",
    "            for tweede in lis:\n",
    "                self.todolist.append(self.s[naam] != self.s[tweede])\n",
    "                #print('DBGl82', self.todolist[-1])\n",
    "        return self.todolist\n",
    "    \n",
    "    def run_z3(self, countmax = 2):\n",
    "        \"\"\"\n",
    "         z3 is gebruikt om te zien of alle condities kloppen\n",
    "         countmax is default op 2 gezet, om te zien of een oplossig\n",
    "         wel of niet eenduidig is.\n",
    "        \"\"\"\n",
    "        self.todolist = self.make_todolist()\n",
    "        #print(\"DBGL81 todolist = {0}\".format(str(self.todolist)))\n",
    "        self.sol = Solver()\n",
    "        \n",
    "        # DBG L95 self.gegevenWaarden {'F1': 3, 'F3': 4, 'A2': 5, 'C4': 3, 'E5': 2, 'F5': 3}\n",
    "        for el in self.gegevenData.keys(): #self.gegevenWaarden.keys():\n",
    "            if self.DBG == 'gegevens':\n",
    "                print(\"DBG L91 self.gegevenWaarden\", self.gegevenData)\n",
    "                print(\"DBG L92 el\", el, self.s[el] ==  self.gegevenData[el])\n",
    "            self.sol.add(self.s[el] == self.gegevenData[el])\n",
    "        for el in self.todolist:\n",
    "            self.sol.add(el)\n",
    "        #self.sol.add([self.make_todolist()])\n",
    "        for el in self.startconditions:\n",
    "            self.sol.add(el)\n",
    "        count = 0\n",
    "        while self.sol.check() == sat and count < countmax:\n",
    "            count += 1\n",
    "            if self.DBG == 'oplossing counter':\n",
    "                print('oplossing {0} '.format(str(count)))\n",
    "            m = self.sol.model()\n",
    "            self.solution_models.append(m)\n",
    "            r = [el + ' = ' + str(m.evaluate(self.s[el])) for el in self.allElements]\n",
    "            self.oplossingen[count] = r\n",
    "            if self.DBG == 'oplossing direct':\n",
    "                print('de oplossing van boven naar beneden', r)\n",
    "            \n",
    "            vals = [ self.s[el] ==  m.evaluate(self.s[el]) for i, el in enumerate(self.allElements) ]\n",
    "            #[self.A[i][j] == m.evaluate(self.A[i][j]) for j in range(size)  for i in range(size)]\n",
    "            self.sol.add(Not(And(vals)))\n",
    "            \"\"\"\n",
    "            for nietdit in vals:\n",
    "                self.sol.add(nietdit)\n",
    "            print ('DBG L122 deze dus niet', vals)\n",
    "            \"\"\"\n",
    "            #DBG self.inbetween = self.sol\n",
    "        #DBG return self.sol\n",
    "    \n",
    "   #DBG return self.s, self.gegevenWaarden, self.vakcondities, self.sol\n",
    "\n"
   ]
  },
  {
   "cell_type": "markdown",
   "metadata": {},
   "source": [
    "vak"
   ]
  },
  {
   "cell_type": "code",
   "execution_count": 56,
   "metadata": {},
   "outputs": [
    {
     "name": "stdout",
     "output_type": "stream",
     "text": [
      "de oplossing van boven naar beneden ['A1 = 1', 'A2 = 3', 'A3 = 1', 'A4 = 2', 'A5 = 1', 'A6 = 3', 'A7 = 4', 'A8 = 5', 'A9 = 2', 'B1 = 2', 'B2 = 4', 'B3 = 5', 'B4 = 3', 'B5 = 4', 'B6 = 5', 'B7 = 2', 'B8 = 1', 'B9 = 3', 'C1 = 5', 'C2 = 3', 'C3 = 2', 'C4 = 1', 'C5 = 2', 'C6 = 3', 'C7 = 4', 'C8 = 5', 'C9 = 4', 'D1 = 2', 'D2 = 4', 'D3 = 5', 'D4 = 4', 'D5 = 5', 'D6 = 1', 'D7 = 2', 'D8 = 1', 'D9 = 3', 'E1 = 5', 'E2 = 1', 'E3 = 3', 'E4 = 1', 'E5 = 2', 'E6 = 3', 'E7 = 5', 'E8 = 4', 'E9 = 5', 'F1 = 3', 'F2 = 4', 'F3 = 2', 'F4 = 5', 'F5 = 4', 'F6 = 1', 'F7 = 2', 'F8 = 3', 'F9 = 2', 'G1 = 1', 'G2 = 5', 'G3 = 1', 'G4 = 3', 'G5 = 2', 'G6 = 5', 'G7 = 4', 'G8 = 5', 'G9 = 1', 'H1 = 4', 'H2 = 3', 'H3 = 4', 'H4 = 5', 'H5 = 4', 'H6 = 1', 'H7 = 2', 'H8 = 3', 'H9 = 4', 'I1 = 1', 'I2 = 2', 'I3 = 1', 'I4 = 3', 'I5 = 2', 'I6 = 3', 'I7 = 4', 'I8 = 1', 'I9 = 2']\n",
      "\n",
      " aantal gevonden oplossingen 1\n"
     ]
    }
   ],
   "source": [
    "rt = Tectonic_start(vak,  DBG = 'oplossing direct')  \n",
    "# DBG :laat de gevonden  waarden (per oplossing) zien, zonder DBG =  , dan geen uitvoer \n",
    "laatsteRES = rt.run_z3(countmax = 36)   # een andere invoer had 'veel' oplossingen\n",
    "print('\\n aantal gevonden oplossingen', len(rt.oplossingen))"
   ]
  },
  {
   "cell_type": "code",
   "execution_count": 54,
   "metadata": {},
   "outputs": [],
   "source": [
    "#DBG rt.todolist"
   ]
  },
  {
   "cell_type": "markdown",
   "metadata": {},
   "source": [
    "rt.gegevenData"
   ]
  },
  {
   "cell_type": "code",
   "execution_count": 33,
   "metadata": {},
   "outputs": [
    {
     "data": {
      "text/plain": [
       "{}"
      ]
     },
     "execution_count": 33,
     "metadata": {},
     "output_type": "execute_result"
    }
   ],
   "source": [
    "rt.gegevenWaarden"
   ]
  },
  {
   "cell_type": "code",
   "execution_count": 34,
   "metadata": {},
   "outputs": [],
   "source": [
    "def getallen_voor_vak(rt = rt, vak = vak, model_nr = 0, DBG = False):\n",
    "    \"\"\"\n",
    "      zet de oplossing in het puzzel \n",
    "    \"\"\"\n",
    "    try:\n",
    "        res = rt.solution_models[model_nr]\n",
    "        len_vak = len(vak)\n",
    "        for i in range(len_vak):\n",
    "            riji = [ res.evaluate(rt.s[el]) for el in vak[i]['coords']]\n",
    "            if DBG:\n",
    "                print(i, riji)\n",
    "            vak[i]['getallen'] = riji\n",
    "    except:\n",
    "        print(\"of er is geen oplossing of ...\")\n",
    "    return vak\n",
    "#getallen_voor_vak(model_nr = 0)"
   ]
  },
  {
   "cell_type": "code",
   "execution_count": 35,
   "metadata": {},
   "outputs": [
    {
     "name": "stdout",
     "output_type": "stream",
     "text": [
      "\u001b[0;34m ik ben blue \u001b[0;45m background magenta\n"
     ]
    }
   ],
   "source": [
    "\"\"\"\n",
    "Foreground colors\n",
    "       30    Black\n",
    "       31    Red\n",
    "       32    Green\n",
    "       33    Yellow\n",
    "       34    Blue\n",
    "       35    Magenta\n",
    "       36    Cyan\n",
    "       37    White\n",
    " \n",
    "    Background colors\n",
    "       40    Black\n",
    "       41    Red\n",
    "       42    Green\n",
    "       43    Yellow\n",
    "       44    Blue\n",
    "       45    Magenta\n",
    "       46    Cyan\n",
    "       47    White\n",
    "\"\"\"\n",
    "\n",
    "\"\"\"\n",
    "kleurdata = {\n",
    "    'Black': 40,\n",
    "        'Red' : 41,\n",
    "        'Green' :42,\n",
    "        'Yellow': 43,\n",
    "          'Blue' : 44,\n",
    "          'Magenta' :45,\n",
    "          'Cyan':46,\n",
    "            'White':47}\n",
    "print(kleurdata.keys(), kleurdata.values())\n",
    "wijzig = ['\\x1b[0;' + str(el) + 'm' for el in kleurdata.values()]\n",
    "wijzig\n",
    "\"\"\"\n",
    "\n",
    "print('\\x1b[0;34m', 'ik ben blue', '\\x1b[0;45m', 'background magenta')"
   ]
  },
  {
   "cell_type": "code",
   "execution_count": 36,
   "metadata": {},
   "outputs": [],
   "source": [
    "#rt.oplossingen.values()"
   ]
  },
  {
   "cell_type": "markdown",
   "metadata": {},
   "source": [
    "str(rt.solution_models[0].get_universe).split(' of ')"
   ]
  },
  {
   "cell_type": "code",
   "execution_count": 37,
   "metadata": {},
   "outputs": [],
   "source": [
    "solutionDictViaCords = dict([])"
   ]
  },
  {
   "cell_type": "code",
   "execution_count": 38,
   "metadata": {},
   "outputs": [
    {
     "name": "stdout",
     "output_type": "stream",
     "text": [
      "9 9\n"
     ]
    }
   ],
   "source": [
    "print(rt.nrRij,rt.nrKol)\n",
    "nog0 = np.zeros((nrRij,nrKol), dtype = '<U9')\n",
    "#nog0"
   ]
  },
  {
   "cell_type": "markdown",
   "metadata": {},
   "source": [
    "def coord_to_np_coord(w = 'A1'):\n",
    "    yc , xc = w[0], int(w[1:]) - 1\n",
    "    return(xc, ord(yc)- 65)\n",
    "coord_to_np_coord('G5')"
   ]
  },
  {
   "cell_type": "code",
   "execution_count": 39,
   "metadata": {
    "scrolled": false
   },
   "outputs": [],
   "source": [
    "#print(toinsert[1])\n",
    "if False:\n",
    "    for nrdeze in range(1,  len(rt.oplossingen) + 1): #len(toinsert) + 1):     \n",
    "        #print(oplossingdeze)\n",
    "        #continue 6 matrices 2 x 3 met 0 gevuld\n",
    "        #print(rt.oplossingen[nrdeze])\n",
    "        gebruiknu = rt.oplossingen[nrdeze]\n",
    "        #print(gebruiknu)\n",
    "        oplossingdeze = np.zeros((nrRij, nrKol), dtype = int)\n",
    "        #print(oplossingdeze)\n",
    "        teller = -1\n",
    "        for i in range(nrRij):\n",
    "            for j in range(nrKol):\n",
    "                teller += 1\n",
    "                #tmp = int(gebruiknu[teller][-1])\n",
    "                naam, getalnaam = gebruiknu[teller].split(' = ')\n",
    "                \n",
    "                #print(coord_to_np_coord(naam), getalnaam)\n",
    "                x , y = coord_to_np_coord(naam)\n",
    "                oplossingdeze[x,y] = getalnaam\n",
    "        print(nrdeze, '\\n', oplossingdeze)\n"
   ]
  },
  {
   "cell_type": "markdown",
   "metadata": {},
   "source": [
    "# convert a numpy array into a html-table"
   ]
  },
  {
   "cell_type": "markdown",
   "metadata": {},
   "source": [
    "print(coloransi.TermColors.Green, \"peter\", coloransi.TermColors.Red, \"ikke\")\n",
    "print(printKleur['White'] + str(4))"
   ]
  },
  {
   "cell_type": "code",
   "execution_count": 40,
   "metadata": {},
   "outputs": [
    {
     "data": {
      "text/plain": [
       "['Black', 'Red', 'Green', 'Yellow', 'Blue', 'Magenta', 'Cyan', 'White']"
      ]
     },
     "execution_count": 40,
     "metadata": {},
     "output_type": "execute_result"
    }
   ],
   "source": [
    "alleklekleuren = list(kleurdata.keys())\n",
    "\n",
    "alleklekleuren"
   ]
  },
  {
   "cell_type": "code",
   "execution_count": 41,
   "metadata": {},
   "outputs": [],
   "source": [
    "def coord_to_np_coord(w = 'A1'):\n",
    "    yc , xc = w[0], int(w[1:]) - 1\n",
    "    return(xc, ord(yc)- 65)\n",
    "#coord_to_np_coord('G5')\n",
    "helper1 = dict([])\n",
    "for co in list(rt.s.keys()):\n",
    "    helper1[co] = coord_to_np_coord(co)\n",
    "    #print(co , ' ==> ', coord_to_np_coord(co))"
   ]
  },
  {
   "cell_type": "code",
   "execution_count": 42,
   "metadata": {},
   "outputs": [],
   "source": [
    "def generate_vak_nr_per_rij(rt = rt, nrOplossing = 1):\n",
    "    opl = rt.oplossingen[nrOplossing]\n",
    "    vak = rt.vak\n",
    "    #print(rt.allElements)\n",
    "    coordsRijen = [[rt.allElements[i] for i in range(j, nrKol*nrRij, nrKol)] for j in range(nrRij)]\n",
    "    #print(\"coordinaten per rij\", coordsRijen)\n",
    "    #print(\"de oplossing = \", opl)\n",
    "    for i in range(len(vak)):\n",
    "        #print('vak{} ='.format(i),vak[i]['coords'])\n",
    "        for coor in vak[i]['coords']:\n",
    "            #print(coor, helper1[coor])\n",
    "            pass\n",
    "generate_vak_nr_per_rij()"
   ]
  },
  {
   "cell_type": "code",
   "execution_count": 43,
   "metadata": {},
   "outputs": [],
   "source": [
    "def print_oplossing(model_nr = 0):\n",
    "    #getallen_voor_vak(model_nr = 1)\n",
    "    getallen_voor_vak(model_nr = model_nr) # wijzigd vak\n",
    "    np_oplossing = np.empty((nrRij,nrKol), dtype = '<U10')\n",
    "    np_oplossing\n",
    "    for i in range(len(vak)):\n",
    "        #print(vak[i]['npcoords'])\n",
    "        vak_i = vak[i]\n",
    "        for j , npcor in enumerate(vak_i['npcoords']):\n",
    "            np_oplossing[npcor] = vak_i['kleur'] +  ' ' + str(vak_i['getallen'][j]) + ' '\n",
    "\n",
    "    for i in range(len(np_oplossing)):\n",
    "        print(\"\".join(np_oplossing[i]))\n",
    "    "
   ]
  },
  {
   "cell_type": "code",
   "execution_count": 44,
   "metadata": {},
   "outputs": [
    {
     "name": "stdout",
     "output_type": "stream",
     "text": [
      "\u001b[0;47m oplossing 0 \n",
      "\n",
      "\u001b[0;42m 1 \u001b[0;42m 2 \u001b[0;43m 5 \u001b[0;44m 2 \u001b[0;44m 5 \u001b[0;44m 3 \u001b[0;44m 1 \u001b[0;44m 4 \u001b[0;45m 1 \n",
      "\u001b[0;42m 3 \u001b[0;42m 4 \u001b[0;43m 3 \u001b[0;43m 4 \u001b[0;43m 1 \u001b[0;45m 4 \u001b[0;45m 5 \u001b[0;45m 3 \u001b[0;45m 2 \n",
      "\u001b[0;46m 1 \u001b[0;42m 5 \u001b[0;43m 2 \u001b[0;47m 5 \u001b[0;47m 3 \u001b[0;47m 2 \u001b[0;41m 1 \u001b[0;42m 4 \u001b[0;42m 1 \n",
      "\u001b[0;46m 2 \u001b[0;43m 3 \u001b[0;47m 1 \u001b[0;47m 4 \u001b[0;44m 1 \u001b[0;44m 5 \u001b[0;41m 3 \u001b[0;42m 5 \u001b[0;42m 3 \n",
      "\u001b[0;46m 1 \u001b[0;43m 4 \u001b[0;43m 2 \u001b[0;43m 5 \u001b[0;44m 2 \u001b[0;44m 4 \u001b[0;41m 2 \u001b[0;45m 4 \u001b[0;42m 2 \n",
      "\u001b[0;46m 3 \u001b[0;47m 5 \u001b[0;47m 3 \u001b[0;43m 1 \u001b[0;44m 3 \u001b[0;41m 1 \u001b[0;41m 5 \u001b[0;45m 1 \u001b[0;42m 3 \n",
      "\u001b[0;46m 4 \u001b[0;46m 2 \u001b[0;47m 4 \u001b[0;47m 2 \u001b[0;41m 5 \u001b[0;41m 2 \u001b[0;41m 4 \u001b[0;45m 2 \u001b[0;42m 4 \n",
      "\u001b[0;46m 5 \u001b[0;43m 1 \u001b[0;43m 5 \u001b[0;47m 1 \u001b[0;41m 4 \u001b[0;41m 3 \u001b[0;45m 5 \u001b[0;45m 3 \u001b[0;42m 1 \n",
      "\u001b[0;43m 2 \u001b[0;43m 3 \u001b[0;43m 4 \u001b[0;44m 3 \u001b[0;44m 5 \u001b[0;44m 2 \u001b[0;44m 1 \u001b[0;44m 4 \u001b[0;42m 2 \n",
      "\n"
     ]
    }
   ],
   "source": [
    "def pri_alle_opl(rt = rt):\n",
    "    len_opl = len(rt.oplossingen)\n",
    "    for i in range(len_opl):\n",
    "        print(printKleur['White'],'oplossing', i,  '\\n')\n",
    "        print_oplossing(model_nr = i)\n",
    "        print()\n",
    "\n",
    "pri_alle_opl()"
   ]
  },
  {
   "cell_type": "markdown",
   "metadata": {},
   "source": [
    "# De berekende oplossing van\n",
    "<img src = '7julitub9x9.jpg'/>\n",
    "\n",
    "```\n",
    " oplossing 0 \n",
    "\n",
    " 1  2  5  2  5  3  1  4  1 \n",
    " 3  4  3  4  1  4  5  3  2 \n",
    " 1  5  2  5  3  2  1  4  1 \n",
    " 2  3  1  4  1  5  3  5  3 \n",
    " 1  4  2  5  2  4  2  4  2 \n",
    " 3  5  3  1  3  1  5  1  3 \n",
    " 4  2  4  2  5  2  4  2  4 \n",
    " 5  1  5  1  4  3  5  3  1 \n",
    " 2  3  4  3  5  2  1  4  2 \n",
    " ```\n",
    " "
   ]
  },
  {
   "cell_type": "code",
   "execution_count": null,
   "metadata": {},
   "outputs": [],
   "source": []
  }
 ],
 "metadata": {
  "kernelspec": {
   "display_name": "Python 3",
   "language": "python",
   "name": "python3"
  },
  "language_info": {
   "codemirror_mode": {
    "name": "ipython",
    "version": 3
   },
   "file_extension": ".py",
   "mimetype": "text/x-python",
   "name": "python",
   "nbconvert_exporter": "python",
   "pygments_lexer": "ipython3",
   "version": "3.7.6"
  }
 },
 "nbformat": 4,
 "nbformat_minor": 4
}
