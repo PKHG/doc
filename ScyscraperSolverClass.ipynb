{
 "cells": [
  {
   "cell_type": "markdown",
   "metadata": {},
   "source": [
    "# www http://brainbashers.com/skyscrapers.asp\n",
    "\n",
    "## get e.g. a  puzzle from ^^^\n",
    "### and check there your solution: ==> green square if ok\n",
    "\n",
    "#example end of this file"
   ]
  },
  {
   "cell_type": "markdown",
   "metadata": {},
   "source": [
    "# for easy use,\n",
    "one has to define an input manor for the scy-scraper puzzle\n",
    "\n",
    "# my choice: \n",
    "the numbers from Upside, Right, Down and Left have to be given  as wel the size (size x size)\n",
    "\n",
    "# use the helper function: <font color ='red'> maakStartVals </font>\n",
    "\n",
    "# if numbers inside are given \n",
    "you have to give them to the program too\n",
    "\n",
    "# use my <font color = 'red'> SudokuBaseClass </font>\n",
    "It delivers the z3-conditions for puzzles of size size, see. \n",
    "Taking care of importing z3.\n",
    "\n",
    "### see In[1] "
   ]
  },
  {
   "cell_type": "code",
   "execution_count": 1,
   "metadata": {},
   "outputs": [
    {
     "name": "stdout",
     "output_type": "stream",
     "text": [
      "from z3 import * #done!\n",
      "A, cells_c, rows_c, cols_c , instance NOW in SC available\n"
     ]
    }
   ],
   "source": [
    "from SudokuBaseClass import * #see result of this cell ;-)\n",
    "\n",
    "# self. because the result of maakStartVals is later used in th solver class\n",
    "def maakStartVals(size = 4):\n",
    "    \"\"\"\n",
    "        make empty startvalue example for ScyscrInfo\n",
    "    \"\"\"\n",
    "    w = ['self.U', 'self.R', 'self.D', 'self.L']\n",
    "    result = []\n",
    "    for LL in w:\n",
    "        tmp = LL + ';'\n",
    "        for i in range(size - 1):\n",
    "            tmp += '0 '\n",
    "        tmp += '0'\n",
    "        result.append(tmp)\n",
    "    result.append('self.instance;x,y,w 0,0,0') \n",
    "    print('zero based counting! first column is col number 0 etc.')\n",
    "    print('x,y zero based coordinates w given border value')                 \n",
    "    print('if 2 or more bordervalues are given use ONE space as seperator token')\n",
    "    print('have a look of the possible examples, in this notebook')\n",
    "    return result\n",
    "\n",
    "SC = SudokuConditions()\n"
   ]
  },
  {
   "cell_type": "markdown",
   "metadata": {},
   "source": [
    "# maybe start here adjusting size and the if ... ;-)"
   ]
  },
  {
   "cell_type": "code",
   "execution_count": 2,
   "metadata": {},
   "outputs": [
    {
     "name": "stdout",
     "output_type": "stream",
     "text": [
      "Help on function maakStartVals in module __main__:\n",
      "\n",
      "maakStartVals(size=4)\n",
      "    make empty startvalue example for ScyscrInfo\n",
      "\n"
     ]
    }
   ],
   "source": [
    "help(maakStartVals)"
   ]
  },
  {
   "cell_type": "code",
   "execution_count": 3,
   "metadata": {},
   "outputs": [
    {
     "name": "stdout",
     "output_type": "stream",
     "text": [
      "zero based counting! first column is col number 0 etc.\n",
      "x,y zero based coordinates w given border value\n",
      "if 2 or more bordervalues are given use ONE space as seperator token\n",
      "have a look of the possible examples, in this notebook\n"
     ]
    },
    {
     "data": {
      "text/plain": [
       "['self.U;0 0 0 0',\n",
       " 'self.R;0 0 0 0',\n",
       " 'self.D;0 0 0 0',\n",
       " 'self.L;0 0 0 0',\n",
       " 'self.instance;x,y,w 0,0,0']"
      ]
     },
     "execution_count": 3,
     "metadata": {},
     "output_type": "execute_result"
    }
   ],
   "source": [
    "maakStartVals()"
   ]
  },
  {
   "cell_type": "code",
   "execution_count": 4,
   "metadata": {
    "scrolled": true
   },
   "outputs": [
    {
     "data": {
      "text/plain": [
       "(4,\n",
       " ['self.U;3 0 3 0',\n",
       "  'self.R;0 1 0 0',\n",
       "  'self.D;0 0 0 0',\n",
       "  'self.L;0 0 3 0',\n",
       "  'self.instance:'])"
      ]
     },
     "execution_count": 4,
     "metadata": {},
     "output_type": "execute_result"
    }
   ],
   "source": [
    "size = 4 #for one of three examples in this notebook\n",
    "\n",
    "# use Helper maakStartVals for describing the given borderconditions and inside numbers\n",
    "\n",
    "\n",
    "ScyscrInfo = []\n",
    "if size == 8:\n",
    "    ScyscrInfo = ['self.U;3 3 0 0 2 3 2 4',\n",
    "            'self.R;0 0 0 3 2 0 0 3',\n",
    "            'self.D;5 0 0 0 0 0 3 2',\n",
    "            'self.L;3 3 0 0 0 0 2 0',\n",
    "            'self.instance;0,7,4 1,6,1 2,0,6 3,4,1 3,5,7 4,2,2 5,3,6 6,6,5'\n",
    "            ]\n",
    "\n",
    "elif size == 3:\n",
    "    ScyscrInfo = ['self.U;3 2 1',\n",
    "          'self.R;0 2 2',\n",
    "          'self.D;0 0 0',\n",
    "          'self.L;0 0 0',\n",
    "          'self.instance;1,0,2'\n",
    "         ]\n",
    "elif size == 4:\n",
    "    ScyscrInfo = ['self.U;3 0 3 0', 'self.R;0 1 0 0', 'self.D;0 0 0 0', 'self.L;0 0 3 0', 'self.instance:']\n",
    "size, ScyscrInfo"
   ]
  },
  {
   "cell_type": "code",
   "execution_count": 5,
   "metadata": {},
   "outputs": [],
   "source": [
    "class z3_PKHG_Scyscraper_Solver:\n",
    "    \"\"\"\n",
    "    two parameters have to be prepared to use this class\n",
    "    the size of the puzzle (size = ...) has to be set\n",
    "    the Scyscraper-infos see the maakStartVals function to build ScyscrInfo \n",
    "    \"\"\"\n",
    "    def  __init__(self, begin_data = [], size=size, ScyscrInfo=ScyscrInfo):\n",
    "        self.SC = SudokuConditions(size)\n",
    "        self.A =  self.SC.A\n",
    "        self.ScyscrInfo = ScyscrInfo\n",
    "        self.size = size\n",
    "        self.cells_c = self.SC.cells_c\n",
    "        self.rows_c = self.SC.rows_c\n",
    "        self.cols_c = self.SC.cols_c\n",
    "        self.instance = self.SC.instance\n",
    "        self.begin_data = begin_data\n",
    "        self.allemijneresults = []\n",
    "        self.U, self.R, self.D, self.L = self.makeRanden()\n",
    "        self.res_use_all_all = self.use_all_all()\n",
    "    \n",
    "        self.endit = self.givenElements()\n",
    "        if self.begin_data == []:\n",
    "            self.begin_data = self.makeConditionsNEW()\n",
    "            for i, data in enumerate(self.begin_data):\n",
    "                tmpvwk = self.verwerk_defCLASS_c(data)\n",
    "                self.allemijneresults.append(tmpvwk) #self.verwerk_defCLASS_c(data))\n",
    "   \n",
    "        self.instance_c = [ If(self.instance[i][j] == 0,\n",
    "                  True,\n",
    "                  self.A[i][j] == self.instance[i][j])\n",
    "               for i in range(size) for j in range(size) ]\n",
    "        self.stDD = self.cells_c + self.rows_c + self.cols_c + self.instance_c\n",
    "        self.scyscraper_c = self.allemijneresults\n",
    "        #res = self.verwerk_defCLASS_c(self.begin_data)\n",
    "        \n",
    "        \n",
    "        \n",
    "    def myMax(self, A, B):\n",
    "         return If(A > B, A, B)\n",
    "       \n",
    "    def verwerk_defCLASS_c(self, bgi):\n",
    "        l_As, l_val = bgi\n",
    "        result = ['1', 'If(' +  l_As[1] + ' > ' + l_As[0] + ', 1, 0)']\n",
    "        \n",
    "        tmp = result[1]\n",
    "        newResult = [1, eval(tmp)]\n",
    "        helper = 'self.myMax(' + l_As[0] + ',' + l_As[1] + ')'\n",
    "        \n",
    "        \n",
    "        for i, el in enumerate(l_As[2:]):\n",
    "            newResult.append(eval('If(' + el + ' > ' + helper + ', 1, 0 )'))\n",
    "            helper = 'self.myMax(' + l_As[i + 2] + ', ' + helper + ')'\n",
    "        return Sum(newResult) == l_val\n",
    "    \n",
    "    def use_all_all(self, inpu=ScyscrInfo): # ScyscraperInfo was gegeens\n",
    "        global instance\n",
    "        result = []\n",
    "        linpu = len(inpu)\n",
    "        if inpu[-1] == 'self.instance;':\n",
    "            #inpu[-1] = 'instance;0,0,0'\n",
    "            linpu += -1\n",
    "        for el in inpu[0:linpu] :\n",
    "            if el == 'self.instance;':\n",
    "                continue\n",
    "            res = self.use_one_el_CLASS(el)\n",
    "            result.append(res)\n",
    "            if res == True:\n",
    "                continue\n",
    "            for i, el in enumerate(res):\n",
    "                if el == []:\n",
    "                    continue\n",
    "                exec(el)\n",
    "        return result\n",
    "\n",
    "   \n",
    "    def use_one_el_CLASS(self, geg):\n",
    "        instance = self.instance \n",
    "        if len(geg) < 3: # each row starts e.g. like thid: 'U; or 'instance\n",
    "            return 0\n",
    "        result = []\n",
    "        firstSplit = geg.split(';')\n",
    "        sort = firstSplit[0]\n",
    "        tmp = [] #later needed\n",
    "        if sort in ['self.U','self.R','self.D','self.L']:\n",
    "            for el in firstSplit[1:]: #there was only ONE ; in each row\n",
    "                spsplit = el.split(' ')       # values separated by 1 space\n",
    "                for i, w in enumerate(spsplit):\n",
    "                    if w == '0':\n",
    "                        continue\n",
    "                    tmp =  sort + '[' +str(i) + '] =  ' + w\n",
    "                    exec(tmp)\n",
    "                result.append(tmp) \n",
    "        elif sort == 'self.instance':\n",
    "            if firstSplit[1] == '':\n",
    "                return True\n",
    "            data = firstSplit[1].split(' ')   #up to ; is already removed\n",
    "            for el in data: \n",
    "                x, y, wat = el.split(',')\n",
    "                xx = int(x) + 0\n",
    "                yy = int(y) + 0\n",
    "                watw = int(wat) + 0\n",
    "                instance[xx][yy] = watw  #insert given numbers\n",
    "            return True          \n",
    "        return result\n",
    "\n",
    "    def makeRanden(self, size = size):\n",
    "        result = []\n",
    "        randen = ['u','r','d','l']\n",
    "        for letter in randen:\n",
    "            capL = 'self.' +letter.upper()\n",
    "            tmp = capL + ' = [ Int(\"' + letter + '%s\" % (i)) for i in range('+ str(size) + ')]'\n",
    "            exec(tmp)\n",
    "            result.append(eval(capL))\n",
    "        return result\n",
    "\n",
    "    def givenElements(self):\n",
    "        elm = ['self.U', 'self.L', 'self.R', 'self.D']\n",
    "        results = []\n",
    "        for name in elm:\n",
    "            tmp = [name]\n",
    "            obj = eval(name)\n",
    "            for i, el in enumerate(obj):\n",
    "                if type(el) == type(1):\n",
    "                    tmp.append([i, el])\n",
    "            results.append(tmp)\n",
    "        return results\n",
    "\n",
    "\n",
    "    def w_elements_str(self, side, nr, s=size): #rembemer, this is for 6x6 puzzle\n",
    "        result = []\n",
    "        if side == 'self.U': #from above to below\n",
    "            for i in range(s):\n",
    "                #res = ('AA[' + str(i) + '][' + str(nr) + ']')\n",
    "                result.append('self.A[' + str(i) + '][' + str(nr) + ']') # U measn from 1 to size downwards colum nr\n",
    "        elif side == 'self.L':  # from left to right\n",
    "            for i in range(s):\n",
    "                #result.append(A[nr][i])\n",
    "                result.append('self.A[' + str(nr) + '][' + str(i) + ']')\n",
    "        elif side == 'self.R':  #form right to left\n",
    "            for i in range(s -1, -1, -1):\n",
    "                #result.append(A[nr][i]) # U measn from 1 to size downwards colum nr\n",
    "                result.append('self.A[' + str(nr) + '][' + str(i) + ']')\n",
    "        elif side == 'self.D':  #form right to left\n",
    "            for i in range(s -1, -1, -1):\n",
    "                result.append('self.A[' + str(i) + '][' + str(nr) + ']')\n",
    "        return result\n",
    "\n",
    "\n",
    "    def makeConditionsNEW(self):\n",
    "        result = []\n",
    "        whatToDo = self.endit #givenElements()\n",
    "        for what in whatToDo:\n",
    "            if len(what) > 1:\n",
    "                z3obj = eval(what[0])\n",
    "                side_name = what[0]\n",
    "                #continue\n",
    "                for doth in what[1:]:\n",
    "                    tmp = self.w_elements_str(side_name,doth[0]) #, z3obj[doth[1]])\n",
    "                    tmp1 = [tmp, doth[1]]\n",
    "                    result.append([tmp, doth[1]])\n",
    "        return result\n",
    "\n",
    "    def runthesolver(self, size = size, countmax=2):        \n",
    "        startdata = self.stDD.copy()  + self.scyscraper_c\n",
    "        \n",
    "        count = 0\n",
    "        countmax = 2 #if there are more than on solution\n",
    "        z3solver = Solver()\n",
    "        z3solver.add(startdata)\n",
    "        while z3solver.check() == sat and count < countmax:\n",
    "            count += 1\n",
    "            print('count = ', count)\n",
    "            m = z3solver.model()\n",
    "            r = [ [ m.evaluate(self.A[i][j]) for j in range(size) ]  for i in range(size) ]\n",
    "            for rij in r:\n",
    "                print(rij)\n",
    "            vals = [self.A[i][j] == m.evaluate(self.A[i][j]) for j in range(size)  for i in range(size)]\n",
    "            z3solver.add(Not(And(vals)))\n",
    "        print(\"\\n====thanks to z3 ;-) =========\\n\")\n",
    "        if count == 0:\n",
    "            print('unsat')\n",
    "        elif count == 1:\n",
    "            print('solution found')\n",
    "        else:\n",
    "            print('count = {} '.format(count), '\\n but more solutions possible!')\n",
    "    \n",
    "\n",
    "\n",
    "\n",
    "       "
   ]
  },
  {
   "cell_type": "code",
   "execution_count": 6,
   "metadata": {},
   "outputs": [
    {
     "name": "stdout",
     "output_type": "stream",
     "text": [
      "Help on class z3_PKHG_Scyscraper_Solver in module __main__:\n",
      "\n",
      "class z3_PKHG_Scyscraper_Solver(builtins.object)\n",
      " |  z3_PKHG_Scyscraper_Solver(begin_data=[], size=4, ScyscrInfo=['self.U;3 0 3 0', 'self.R;0 1 0 0', 'self.D;0 0 0 0', 'self.L;0 0 3 0', 'self.instance:'])\n",
      " |  \n",
      " |  two parameters have to be prepared to use this class\n",
      " |  the size of the puzzle (size = ...) has to be set\n",
      " |  the Scyscraper-infos see the maakStartVals function to build ScyscrInfo\n",
      " |  \n",
      " |  Methods defined here:\n",
      " |  \n",
      " |  __init__(self, begin_data=[], size=4, ScyscrInfo=['self.U;3 0 3 0', 'self.R;0 1 0 0', 'self.D;0 0 0 0', 'self.L;0 0 3 0', 'self.instance:'])\n",
      " |      Initialize self.  See help(type(self)) for accurate signature.\n",
      " |  \n",
      " |  givenElements(self)\n",
      " |  \n",
      " |  makeConditionsNEW(self)\n",
      " |  \n",
      " |  makeRanden(self, size=4)\n",
      " |  \n",
      " |  myMax(self, A, B)\n",
      " |  \n",
      " |  runthesolver(self, size=4, countmax=2)\n",
      " |  \n",
      " |  use_all_all(self, inpu=['self.U;3 0 3 0', 'self.R;0 1 0 0', 'self.D;0 0 0 0', 'self.L;0 0 3 0', 'self.instance:'])\n",
      " |  \n",
      " |  use_one_el_CLASS(self, geg)\n",
      " |  \n",
      " |  verwerk_defCLASS_c(self, bgi)\n",
      " |  \n",
      " |  w_elements_str(self, side, nr, s=4)\n",
      " |  \n",
      " |  ----------------------------------------------------------------------\n",
      " |  Data descriptors defined here:\n",
      " |  \n",
      " |  __dict__\n",
      " |      dictionary for instance variables (if defined)\n",
      " |  \n",
      " |  __weakref__\n",
      " |      list of weak references to the object (if defined)\n",
      "\n"
     ]
    }
   ],
   "source": [
    "help(z3_PKHG_Scyscraper_Solver) #given values used"
   ]
  },
  {
   "cell_type": "code",
   "execution_count": 7,
   "metadata": {},
   "outputs": [
    {
     "name": "stdout",
     "output_type": "stream",
     "text": [
      "A, cells_c, rows_c, cols_c , instance NOW in SC available\n",
      "A\n",
      "D\n",
      "L\n",
      "R\n",
      "SC\n",
      "ScyscrInfo\n",
      "U\n",
      "allemijneresults\n",
      "begin_data\n",
      "cells_c\n",
      "cols_c\n",
      "endit\n",
      "givenElements\n",
      "instance\n",
      "instance_c\n",
      "makeConditionsNEW\n",
      "makeRanden\n",
      "myMax\n",
      "res_use_all_all\n",
      "rows_c\n",
      "runthesolver\n",
      "scyscraper_c\n",
      "size\n",
      "stDD\n",
      "use_all_all\n",
      "use_one_el_CLASS\n",
      "verwerk_defCLASS_c\n",
      "w_elements_str\n"
     ]
    }
   ],
   "source": [
    "MC = z3_PKHG_Scyscraper_Solver()\n",
    "for el in dir(MC):\n",
    "    if el.startswith('_'):\n",
    "        continue\n",
    "    else:\n",
    "        print(el)"
   ]
  },
  {
   "cell_type": "code",
   "execution_count": 8,
   "metadata": {
    "scrolled": false
   },
   "outputs": [
    {
     "name": "stdout",
     "output_type": "stream",
     "text": [
      "count =  1\n",
      "[2, 4, 1, 3]\n",
      "[3, 1, 2, 4]\n",
      "[1, 3, 4, 2]\n",
      "[4, 2, 3, 1]\n",
      "\n",
      "====thanks to z3 ;-) =========\n",
      "\n",
      "solution found\n"
     ]
    }
   ],
   "source": [
    "# %timeit MC.runthesolver()\n",
    "MC.runthesolver()"
   ]
  },
  {
   "cell_type": "code",
   "execution_count": null,
   "metadata": {},
   "outputs": [],
   "source": []
  },
  {
   "cell_type": "markdown",
   "metadata": {},
   "source": [
    "# <font color ='red'>timeit used gives:</font>\n",
    "## 8x8 puzzle\n",
    "solution found\n",
    "1.99 s ± 321 m\n",
    "s per loop (mean ± std. dev. of 7 runs, 1 loop each)\n",
    "\n",
    "\n",
    "solution found\n",
    "2.65 s ± 623 ms per loop (mean ± std. dev. of 7 runs, 1 loop each)\n",
    "\n",
    "## 4x4 puzzle:\n",
    "\n",
    "solution found\n",
    "73.6 ms ± 10.9 ms per loop (mean ± std. dev. of 7 runs, 10 loops each)\n",
    "\n",
    "solution found\n",
    "65.6 ms ± 1.93 ms per loop (mean ± std. dev. of 7 runs, 10 loops each)"
   ]
  },
  {
   "cell_type": "markdown",
   "metadata": {},
   "source": [
    "# 4x4 test 31 src contains date\n",
    "# try this one, (my first 6x6 solved) ;-)\n",
    "<img src=\"sol6x6_14aug.png\" />\n",
    "\n",
    "<img src='sol4x4_31aug.png'/>\n",
    "\n",
    "<img src=\"sol8x8_20aug.png\"/>"
   ]
  },
  {
   "cell_type": "code",
   "execution_count": null,
   "metadata": {},
   "outputs": [],
   "source": []
  }
 ],
 "metadata": {
  "kernelspec": {
   "display_name": "Python 3",
   "language": "python",
   "name": "python3"
  },
  "language_info": {
   "codemirror_mode": {
    "name": "ipython",
    "version": 3
   },
   "file_extension": ".py",
   "mimetype": "text/x-python",
   "name": "python",
   "nbconvert_exporter": "python",
   "pygments_lexer": "ipython3",
   "version": "3.7.3"
  }
 },
 "nbformat": 4,
 "nbformat_minor": 2
}
