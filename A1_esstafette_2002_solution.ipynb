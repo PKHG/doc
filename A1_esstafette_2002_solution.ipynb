{
 "cells": [
  {
   "cell_type": "markdown",
   "metadata": {},
   "source": []
  },
  {
   "cell_type": "markdown",
   "metadata": {},
   "source": [
    "# Wiskunde estafette 2020 opdracht A1\n",
    "\n",
    "<img src = 'estafette_pagina1.jpg'/>\n",
    "\n",
    " 5 dieren (A,B,C,D) zijn of wolven of honden. \n",
    " Honden vertellen altijd de waarheid en\n",
    " wolven liegen altijd!\n",
    "\n",
    "1. A beweert dat B een hoond is.\n",
    "2. C beweert dat D een wolf is.\n",
    "3. E beweert dat A een hond is.\n",
    "4. B beweert dat C een wolf is.\n",
    "5. D beweert dat B en E niet van dezelfde soort zijn.\n",
    "\n",
    "### hoeveel wolven zijn er?"
   ]
  },
  {
   "cell_type": "markdown",
   "metadata": {},
   "source": [
    "# mainly by help of Nikolaj Bjoerner ;-)"
   ]
  },
  {
   "cell_type": "code",
   "execution_count": 5,
   "metadata": {},
   "outputs": [],
   "source": [
    "\n",
    "from z3 import *\n",
    "\n",
    "Animal,(hond, wolf) = EnumSort(\"Animal\", ['hond', 'wolf'])\n",
    "wolf = Function('wolf', Animal, BoolSort())\n",
    "dog = Function('dog', Animal, BoolSort())\n",
    "\n",
    "a, b, c, d, e = Consts('a b c d e', Animal)\n",
    "\n",
    "s = Solver()\n",
    "# these commands say that an animal can not be a dog AND a wolf\n",
    "s.add(Xor(wolf(a),dog(a)))\n",
    "s.add(Xor(wolf(b),dog(b)))\n",
    "s.add(Xor(wolf(c),dog(c)))\n",
    "s.add(Xor(wolf(d),dog(d)))\n",
    "s.add(Xor(wolf(e),dog(e)))\n",
    "\n",
    "def says(x, y):\n",
    "    s.add(Implies(wolf(x), Not(y)))\n",
    "    s.add(Implies(dog(x), y))\n",
    "\n",
    "# crucial condition\n",
    "says(d, dog(e) != dog(d))      ## 5. D beweert dat B en E niet van dezelfde soort zijn.\n",
    "says(a, dog(a)) \n",
    "says(b, dog(b))\n",
    "says(c, dog(c))\n",
    "says(d, dog(d))\n",
    "says(e, dog(e))\n",
    "if s.check() == sat:\n",
    "    #print(s.model())\n",
    "    s.model()\n",
    "    # gives [b = hond, a = hond, c = hond, d = wolf, e = hond, wolf = [wolf → False, else → True], dog = [else → ν0 = wolf]]\n",
    "else:\n",
    "    print('not solvable')\n"
   ]
  },
  {
   "cell_type": "code",
   "execution_count": 8,
   "metadata": {},
   "outputs": [
    {
     "name": "stdout",
     "output_type": "stream",
     "text": [
      "[b = hond,\n",
      " a = hond,\n",
      " c = hond,\n",
      " d = wolf,\n",
      " e = hond,\n",
      " wolf = [wolf -> False, else -> True],\n",
      " dog = [else -> Var(0) == wolf]]\n"
     ]
    }
   ],
   "source": [
    "print(s.model())"
   ]
  },
  {
   "cell_type": "code",
   "execution_count": null,
   "metadata": {},
   "outputs": [],
   "source": []
  }
 ],
 "metadata": {
  "kernelspec": {
   "display_name": "Python 3",
   "language": "python",
   "name": "python3"
  },
  "language_info": {
   "codemirror_mode": {
    "name": "ipython",
    "version": 3
   },
   "file_extension": ".py",
   "mimetype": "text/x-python",
   "name": "python",
   "nbconvert_exporter": "python",
   "pygments_lexer": "ipython3",
   "version": "3.7.6"
  }
 },
 "nbformat": 4,
 "nbformat_minor": 4
}
