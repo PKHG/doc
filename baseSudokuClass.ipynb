{
 "cells": [
  {
   "cell_type": "markdown",
   "metadata": {},
   "source": [
    "# Sudoku-like puzzels need some basic z3 conditions\n",
    "## use: from SudokuBaseClass import *\n",
    "### try it ;-): SS = SudokuConditions(size = 4) #maybe with(DBG = True)\n",
    "\n",
    "# With success used for \n",
    "- <font color='red'> normal Sudokus</font>\n",
    "- <font color='red'> Calculus-Sudokus</font>\n",
    "- <font color = 'red'>ScyScraper-Sudokus</font>"
   ]
  },
  {
   "cell_type": "markdown",
   "metadata": {},
   "source": [
    "# because src is here below\n",
    "## a number of cells are now MD's"
   ]
  },
  {
   "cell_type": "markdown",
   "metadata": {},
   "source": [
    "from SudokuBaseClass import *"
   ]
  },
  {
   "cell_type": "markdown",
   "metadata": {},
   "source": [
    "SS = SudokuConditions(size = 4, DBG=True)"
   ]
  },
  {
   "cell_type": "markdown",
   "metadata": {},
   "source": [
    "# source of ...\n",
    "```!cat SudokuBaseClass.py\n",
    "from z3 import *\n",
    "print(\"from z3 import * #don!\")\n",
    "class SudokuConditions:\n",
    "    \"\"\"\n",
    "    Sudoku - like puzzels need 'always' these info for z3-solvers\n",
    "    1. ONE input: the size of the square: size x size (default is 3)\n",
    "    z3 needs size**2 integer-variables called: A[i][j]  in in j in range(size)\n",
    "    First condition: all values of a cell ar between a and size -1\n",
    "    Second condition: rows and colums are all different\n",
    "    Third: a way to fill in given cell-values, here: instance\n",
    "    \"\"\"\n",
    "    def __init__(self, size=3, DBG=False):\n",
    "        self.size = size\n",
    "        if DBG:\n",
    "            print('got: size = {}'.format(self.size))\n",
    "        self.randen = ['u','r','d','l']\n",
    "        self.instance = [[0 for i in range(self.size)] for j in range(self.size)]  \n",
    "        self.A = [ [ Int(\"a_%s_%s\" % (i, j)) for j in range(self.size) ]  \\\n",
    "                  for i in range(self.size) ] \n",
    "        #PKHG>OK print('SS L14 A = {}'.format(self.A))\n",
    "        \n",
    "        #elements are between 1 and size -1 \n",
    "        self.cells_c  = [ And(1 <= self.A[i][j], self.A[i][j] <= self.size)\n",
    "          for i in range(self.size) for j in range(self.size) ]   \n",
    "        # each row contains a digit at most once\n",
    "        self.rows_c   = [ Distinct(self.A[i]) for i in range(self.size) ]\n",
    "        #A[i] all of row i\n",
    "        self.cols_c   = [ Distinct([ self.A[i][j] for i in range(self.size)]) \n",
    "               for j in range(self.size)]\n",
    "        #use insctance to set know values\n",
    "        #print('*_c = {}'.format(self.rows_c))\n",
    "        print('A, cells_c, rows_c, cols_c , instance NOW in SC available')\n",
    "  ```"
   ]
  },
  {
   "cell_type": "code",
   "execution_count": 7,
   "metadata": {},
   "outputs": [],
   "source": [
    "\n",
    "class SudokuConditions:\n",
    "    \"\"\"\n",
    "    Sudoku - like puzzels need 'always' these info for z3-solvers\n",
    "    1. ONE input: the size of the square: size x size (default is 3)\n",
    "    z3 needs size**2 integer-variables called: A[i][j]  in in j in range(size)\n",
    "    First condition: all values of a cell ar between a and size -1\n",
    "    Second condition: rows and colums are all different\n",
    "    Third: a way to fill in given cell-values, here: instance\n",
    "    \"\"\"\n",
    "    def __init__(self, size=3, DBG=False):\n",
    "        self.size = size\n",
    "        if DBG:\n",
    "            print('SuC L5 size = {}'.format(self.size))\n",
    "        self.randen = ['u','r','d','l']\n",
    "        self.instance = [[0 for i in range(self.size)] for j in range(self.size)]  \n",
    "        self.A = [ [ Int(\"a_%s_%s\" % (i, j)) for j in range(self.size) ]  \\\n",
    "                  for i in range(self.size) ] \n",
    "        #PKHG>OK print('SS L14 A = {}'.format(self.A))\n",
    "        \n",
    "        #elements are between 1 and size -1 \n",
    "        self.cells_c  = [ And(1 <= self.A[i][j], self.A[i][j] <= self.size)\n",
    "          for i in range(self.size) for j in range(self.size) ]   \n",
    "        # each row contains a digit at most once\n",
    "        self.rows_c   = [ Distinct(self.A[i]) for i in range(self.size) ]\n",
    "        #A[i] all of row i\n",
    "        self.cols_c   = [ Distinct([ self.A[i][j] for i in range(self.size)]) \n",
    "               for j in range(self.size)]\n",
    "        #use insctance to set know values\n",
    "        #print('*_c = {}'.format(self.rows_c))\n",
    "        print('A, cells_c, rows_c, cols_c , instance NOW in SC available')\n",
    "  \n",
    "    "
   ]
  },
  {
   "cell_type": "code",
   "execution_count": 8,
   "metadata": {},
   "outputs": [
    {
     "name": "stdout",
     "output_type": "stream",
     "text": [
      "A, cells_c, rows_c, cols_c , instance NOW in SC available\n"
     ]
    },
    {
     "data": {
      "text/plain": [
       "[[a_0_0, a_0_1], [a_1_0, a_1_1]]"
      ]
     },
     "execution_count": 8,
     "metadata": {},
     "output_type": "execute_result"
    }
   ],
   "source": [
    "SS = SudokuConditions(size = 2)\n",
    "SS.A"
   ]
  },
  {
   "cell_type": "code",
   "execution_count": 9,
   "metadata": {},
   "outputs": [
    {
     "data": {
      "text/plain": [
       "[a_0_0 != a_1_0, a_0_1 != a_1_1]"
      ]
     },
     "execution_count": 9,
     "metadata": {},
     "output_type": "execute_result"
    }
   ],
   "source": [
    "SS.cols_c"
   ]
  },
  {
   "cell_type": "code",
   "execution_count": null,
   "metadata": {},
   "outputs": [],
   "source": []
  }
 ],
 "metadata": {
  "kernelspec": {
   "display_name": "Python 3",
   "language": "python",
   "name": "python3"
  },
  "language_info": {
   "codemirror_mode": {
    "name": "ipython",
    "version": 3
   },
   "file_extension": ".py",
   "mimetype": "text/x-python",
   "name": "python",
   "nbconvert_exporter": "python",
   "pygments_lexer": "ipython3",
   "version": "3.7.3"
  }
 },
 "nbformat": 4,
 "nbformat_minor": 2
}
