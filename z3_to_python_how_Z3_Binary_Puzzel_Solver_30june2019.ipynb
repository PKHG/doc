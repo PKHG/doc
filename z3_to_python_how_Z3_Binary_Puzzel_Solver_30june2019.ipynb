{
 "cells": [
  {
   "cell_type": "markdown",
   "metadata": {},
   "source": [
    "# Solution idea is from\n",
    "#### Original (but not a notebook)\n",
    "https://pclubiiti.github.io/blog/Inroduction-toSAT-solving/\n",
    "\n",
    "Uses http://binarypuzzle.com\n",
    "\n",
    "### remark: not Python 3 used\n",
    "\n",
    "# completed by Peter Gragert"
   ]
  },
  {
   "cell_type": "markdown",
   "metadata": {},
   "source": [
    "# a Binary Puzzel is a 2n x 2n quadratic scheme\n",
    "consisting of 0s and 1s and .s (denoting not yet known) boxes.\n",
    "\n",
    "\n",
    "# The rules\n",
    "\n",
    "Each binary puzzle should be solved according to the following rules:\n",
    "\n",
    "- Each box should contains a zero or a one.\n",
    "- No more than two similar numbers next to or below each other are allowed.\n",
    "- Each row and each column should contain an equal number of zeros and ones.\n",
    "- Each row is unique and each column is unique. \n",
    "\n",
    "<p style=\"font-family:Courier; color:Blue; font-size: 20px;\">\n",
    "A really good bindary puzzel should have ONE solution and can be solved without gessing.</p>"
   ]
  },
  {
   "cell_type": "code",
   "execution_count": 1,
   "metadata": {},
   "outputs": [],
   "source": [
    "# example of a 10 x 10 puzzel (ONE solution)\n",
    "\n",
    "game = \"\"\"\n",
    "...00....1\n",
    "........01\n",
    "..0...1.0.\n",
    ".1...1....\n",
    ".0.0.11...\n",
    "1.....1...\n",
    ".0...1....\n",
    "...1.1.11.\n",
    "..........\n",
    "..00......\n",
    "\"\"\"\n",
    "\n",
    "from z3 import *\n",
    "import numpy as np # to show (first) solution matrice\n",
    "s = Solver()\n",
    "vals = []\n",
    "\n",
    "\n",
    "def SolvePuzzel(game, maxCounter = 2):\n",
    "    \"\"\"\n",
    "    game is to be solved\n",
    "    default counter maximized by 2 to see if\n",
    "    there is more than ONE solution\n",
    "    solutions are stored in a dictionary and returned\n",
    "    \n",
    "    PKHG>HOW????\n",
    "    \n",
    "    \"\"\"\n",
    "    global vals\n",
    "    #for controlling the number of solutions!\n",
    "    result = dict()\n",
    "    counter = 0 #while loop uses it\n",
    "    \n",
    "    #check input game!\n",
    "    try:\n",
    "        game = [y for y in filter(lambda x:x in '01.', game)]\n",
    "        sizeXsize = len(game)\n",
    "        size = int(math.sqrt(sizeXsize))\n",
    "        assert(size * size == sizeXsize) \n",
    "        half_int_size = int(size/2)\n",
    "        assert(size == 2 * int(size/2)) #even number of rows and columns\n",
    "    except:\n",
    "        return(\"check input game\")\n",
    "    #  a list cordinates to access (later) rows or columns)\n",
    "    vs = [(r,c) for r in range(size) for c in range(size)]\n",
    "\n",
    "    #  all cells declared as BitVectors Z3-variables\n",
    "    # _ used to   rows and colum indices\n",
    "    bV  = [[z3.BitVec('v_%d_%d' % (r,c), 5)  for c in range(size)] \n",
    "      for r in range(size)]\n",
    "    \n",
    "    #initializing all variables using the given info\n",
    "    # either 0 or 1 or condition BINARY (value 0 or 1)\n",
    "    \n",
    "    # the z3-solver\n",
    "    #s = Solver()\n",
    "\n",
    "    for ((r,c), val) in zip(vs, game):\n",
    "        if val == '.':  s.add(0 <= bV[r][c], bV[r][c] <= 1)\n",
    "        else:           s.add(bV[r][c] == (int(val)))\n",
    "\n",
    "    #helpers for row and colum indices \n",
    "    def row(n):   return [(n, i) for i in range(size)]\n",
    "    def col(n):   return [(i, n) for i in range(size)]\n",
    "\n",
    "    #Puzzel condition: rows, columns must sum up to size/2\n",
    "    for i in range(size):\n",
    "        s.add(z3.Sum([bV[r][c] for r,c in row(i)]) == (size/2))\n",
    "        s.add(z3.Sum([bV[r][c] for r,c in col(i)]) == (size/2))\n",
    "\n",
    "    # puzzel condition at moost two 1s or 0s in row resp. column\n",
    "    # help functions for 3 consecutive cells (rows or cols)\n",
    "    def row3(n,m):   return [(n, i) for i in range(m,m+3)]\n",
    "    def col3(n,m):   return [(i, n) for i in range(m,m+3)]\n",
    "    \n",
    "    for i in range(size):\n",
    "        for j in range(size-2):\n",
    "            #at most two 1s\n",
    "            s.add(z3.Sum([bV[r][c] for r,c in row3(i,j)]) <= 2)\n",
    "            #at most two 0s\n",
    "            s.add(z3.Sum([bV[r][c] for r,c in row3(i,j)]) >= 1)\n",
    "            # same for the columns\n",
    "            s.add(z3.Sum([bV[r][c] for r,c in col3(i,j)]) <= 2)\n",
    "            s.add(z3.Sum([bV[r][c] for r,c in col3(i,j)]) >= 1)\n",
    "\n",
    "    \n",
    "    #That just leaves Rule #4 Each row is unique \n",
    "    # and each column is unique. Z3 has a Unique keyword.\n",
    "    s.add(z3.Distinct([z3.Concat([bV[r][c] for r,c in row(i)])\n",
    "                       for i in range(size)]))\n",
    "    s.add(z3.Distinct([z3.Concat([bV[r][c] for r,c in col(i)]) \n",
    "                       for i in range(size)]))\n",
    "\n",
    "    #result = s.check()\n",
    "    while s.check() == sat and counter < maxCounter:\n",
    "        m = s.model()\n",
    "        result[counter] = s.model()\n",
    "        counter += 1\n",
    "        sol = [[m[bV[r][c]] for c in range(size)] for r in range(size)]\n",
    "        print_matrix(sol)\n",
    "        #pp(sol)\n",
    "        if counter >= 1:\n",
    "        #PKHG>want to save first resp. all solutions\n",
    "            'todo'\n",
    "        # deny found solution\n",
    "        vals = [bV[i][j] == m.evaluate(bV[i][j]) for j in range(size)\n",
    "            for i in range(size)]\n",
    "        #PKHG>????\n",
    "        '''\n",
    "        for i in range(2):\n",
    "            print(i, vals[i])\n",
    "        '''\n",
    "        s.add(Not(And(vals)))\n",
    "    if counter == 1:\n",
    "        print(\"Exactly ONE solution\")\n",
    "    elif counter > 1:\n",
    "        print(\"several solutions found:\" , counter)\n",
    "    else:\n",
    "        print(\"no solution\")\n",
    "    return result\n",
    "\n"
   ]
  },
  {
   "cell_type": "code",
   "execution_count": 2,
   "metadata": {
    "scrolled": false
   },
   "outputs": [
    {
     "name": "stdout",
     "output_type": "stream",
     "text": [
      "[[0, 1, 0, 1, 1, 0, 1, 0, 0, 1, 1, 0],\n",
      " [0, 0, 1, 0, 0, 1, 0, 1, 1, 0, 1, 1],\n",
      " [1, 1, 0, 0, 1, 0, 1, 1, 0, 1, 0, 0],\n",
      " [1, 0, 0, 1, 0, 0, 1, 0, 1, 0, 1, 1],\n",
      " [0, 1, 1, 0, 1, 1, 0, 1, 0, 0, 1, 0],\n",
      " [0, 1, 1, 0, 0, 1, 0, 0, 1, 1, 0, 1],\n",
      " [1, 0, 0, 1, 1, 0, 1, 0, 1, 0, 0, 1],\n",
      " [1, 0, 1, 0, 0, 1, 0, 1, 0, 1, 1, 0],\n",
      " [0, 1, 0, 1, 1, 0, 1, 0, 1, 0, 0, 1],\n",
      " [1, 0, 1, 1, 0, 0, 1, 0, 1, 1, 0, 0],\n",
      " [1, 1, 0, 0, 1, 1, 0, 1, 0, 0, 1, 0],\n",
      " [0, 0, 1, 1, 0, 1, 0, 1, 0, 1, 0, 1]]\n",
      "[[0, 1, 0, 1, 1, 0, 1, 0, 0, 1, 1, 0],\n",
      " [0, 0, 1, 1, 0, 1, 0, 0, 1, 0, 1, 1],\n",
      " [1, 1, 0, 0, 1, 0, 1, 1, 0, 1, 0, 0],\n",
      " [1, 0, 0, 1, 0, 0, 1, 0, 1, 1, 0, 1],\n",
      " [0, 1, 1, 0, 1, 1, 0, 1, 0, 0, 1, 0],\n",
      " [0, 1, 1, 0, 0, 1, 0, 0, 1, 1, 0, 1],\n",
      " [1, 0, 0, 1, 1, 0, 1, 1, 0, 0, 1, 0],\n",
      " [1, 0, 1, 0, 0, 1, 1, 0, 0, 1, 0, 1],\n",
      " [0, 1, 0, 0, 1, 0, 0, 1, 1, 0, 1, 1],\n",
      " [1, 0, 1, 1, 0, 0, 1, 0, 1, 1, 0, 0],\n",
      " [1, 1, 0, 0, 1, 1, 0, 1, 0, 0, 1, 0],\n",
      " [0, 0, 1, 1, 0, 1, 0, 1, 1, 0, 0, 1]]\n",
      "several solutions found: 2\n"
     ]
    }
   ],
   "source": [
    "g12 = \"\"\"\n",
    ".......00.1.\n",
    "..1.......1.\n",
    "...0.0..0..0\n",
    ".....0......\n",
    ".11.1..1.0..\n",
    ".11.0.00....\n",
    "10.1........\n",
    "1..00...0...\n",
    "............\n",
    "..1.....1...\n",
    "...0..0..0.0\n",
    "..1...0.....\n",
    "\"\"\"\n",
    "res = SolvePuzzel(g12)"
   ]
  },
  {
   "cell_type": "code",
   "execution_count": 3,
   "metadata": {},
   "outputs": [
    {
     "data": {
      "text/plain": [
       "2"
      ]
     },
     "execution_count": 3,
     "metadata": {},
     "output_type": "execute_result"
    }
   ],
   "source": [
    "len(res.keys())"
   ]
  },
  {
   "cell_type": "markdown",
   "metadata": {},
   "source": [
    "### stop here ??"
   ]
  },
  {
   "cell_type": "code",
   "execution_count": 4,
   "metadata": {},
   "outputs": [],
   "source": [
    "#PKHG>??? and now???? rr"
   ]
  },
  {
   "cell_type": "code",
   "execution_count": 5,
   "metadata": {},
   "outputs": [
    {
     "name": "stdout",
     "output_type": "stream",
     "text": [
      "[[0, 1], [1, 0]]\n",
      "[[1, 0], [0, 1]]\n",
      "several solutions found: 2\n"
     ]
    }
   ],
   "source": [
    "s = Solver()\n",
    "g2 = \"\"\"\n",
    "..\n",
    "..\n",
    "\"\"\"\n",
    "resg2 = SolvePuzzel(g2)"
   ]
  },
  {
   "cell_type": "code",
   "execution_count": 6,
   "metadata": {},
   "outputs": [
    {
     "data": {
      "text/plain": [
       "{0: [v_1_0 = 1, v_1_1 = 0, v_0_0 = 0, v_0_1 = 1],\n",
       " 1: [v_0_1 = 0, v_0_0 = 1, v_1_1 = 1, v_1_0 = 0]}"
      ]
     },
     "execution_count": 6,
     "metadata": {},
     "output_type": "execute_result"
    }
   ],
   "source": [
    "resg2"
   ]
  },
  {
   "cell_type": "code",
   "execution_count": 7,
   "metadata": {},
   "outputs": [
    {
     "data": {
      "text/plain": [
       "(z3.z3.ModelRef, [v_1_0 = 1, v_1_1 = 0, v_0_0 = 0, v_0_1 = 1])"
      ]
     },
     "execution_count": 7,
     "metadata": {},
     "output_type": "execute_result"
    }
   ],
   "source": [
    "r0 = resg2[0]\n",
    "type(r0), r0"
   ]
  },
  {
   "cell_type": "code",
   "execution_count": 8,
   "metadata": {},
   "outputs": [
    {
     "data": {
      "text/plain": [
       "z3.z3.ModelRef"
      ]
     },
     "execution_count": 8,
     "metadata": {},
     "output_type": "execute_result"
    }
   ],
   "source": [
    "type(r0)"
   ]
  },
  {
   "cell_type": "code",
   "execution_count": 9,
   "metadata": {},
   "outputs": [
    {
     "data": {
      "text/plain": [
       "'(define-fun v_1_0 () (_ BitVec 5)\\n  #b00001)\\n(define-fun v_1_1 () (_ BitVec 5)\\n  #b00000)\\n(define-fun v_0_0 () (_ BitVec 5)\\n  #b00000)\\n(define-fun v_0_1 () (_ BitVec 5)\\n  #b00001)'"
      ]
     },
     "execution_count": 9,
     "metadata": {},
     "output_type": "execute_result"
    }
   ],
   "source": [
    "#could be used ??? HOW???\n",
    "r0.sexpr()"
   ]
  },
  {
   "cell_type": "code",
   "execution_count": 10,
   "metadata": {},
   "outputs": [
    {
     "data": {
      "text/plain": [
       "[v_1_0 = 1, v_1_1 = 0, v_0_0 = 0, v_0_1 = 1]"
      ]
     },
     "execution_count": 10,
     "metadata": {},
     "output_type": "execute_result"
    }
   ],
   "source": [
    "r0"
   ]
  },
  {
   "cell_type": "code",
   "execution_count": 11,
   "metadata": {},
   "outputs": [
    {
     "name": "stdout",
     "output_type": "stream",
     "text": [
      "[[0, 1, 0, 1], [1, 0, 0, 1], [1, 0, 1, 0], [0, 1, 1, 0]]\n",
      "Exactly ONE solution\n"
     ]
    },
    {
     "data": {
      "text/plain": [
       "{0: [v_1_0 = 1,\n",
       "  v_2_3 = 0,\n",
       "  v_0_2 = 0,\n",
       "  v_3_1 = 1,\n",
       "  v_3_0 = 0,\n",
       "  v_1_2 = 0,\n",
       "  v_1_3 = 1,\n",
       "  v_2_1 = 0,\n",
       "  v_0_3 = 1,\n",
       "  v_1_1 = 0,\n",
       "  v_0_1 = 1,\n",
       "  v_3_3 = 0,\n",
       "  v_3_2 = 1,\n",
       "  v_2_2 = 1,\n",
       "  v_2_0 = 1,\n",
       "  v_0_0 = 0]}"
      ]
     },
     "execution_count": 11,
     "metadata": {},
     "output_type": "execute_result"
    }
   ],
   "source": [
    "s = Solver()\n",
    "g4 = \"\"\"\n",
    "0...\n",
    "....\n",
    "1.1.\n",
    "..10\n",
    "\"\"\"\n",
    "SolvePuzzel(g4,100)"
   ]
  },
  {
   "cell_type": "code",
   "execution_count": 12,
   "metadata": {},
   "outputs": [],
   "source": [
    "#import numpy as np\n",
    "myg4 = np.matrix([[0, 1, 0, 1], [1, 0, 0, 1], [1, 0, 1, 0], [0, 1, 1, 0]])"
   ]
  },
  {
   "cell_type": "code",
   "execution_count": 13,
   "metadata": {},
   "outputs": [
    {
     "data": {
      "text/plain": [
       "matrix([[0, 1, 0, 1],\n",
       "        [1, 0, 0, 1],\n",
       "        [1, 0, 1, 0],\n",
       "        [0, 1, 1, 0]])"
      ]
     },
     "execution_count": 13,
     "metadata": {},
     "output_type": "execute_result"
    }
   ],
   "source": [
    "myg4"
   ]
  },
  {
   "cell_type": "markdown",
   "metadata": {},
   "source": [
    "#  12x12 puzzel but with more then 100 solutions\n",
    "### computed above (186 on my PC)"
   ]
  },
  {
   "cell_type": "code",
   "execution_count": 14,
   "metadata": {},
   "outputs": [
    {
     "data": {
      "text/plain": [
       "[v_3_2,\n",
       " v_8_8,\n",
       " v_7_2,\n",
       " v_9_7,\n",
       " v_8_3,\n",
       " v_2_7,\n",
       " v_5_10,\n",
       " v_2_10,\n",
       " v_5_9,\n",
       " v_3_9,\n",
       " v_11_5,\n",
       " v_2_9,\n",
       " v_9_0,\n",
       " v_9_5,\n",
       " v_8_11,\n",
       " v_2_1,\n",
       " v_1_6,\n",
       " v_0_3,\n",
       " v_0_1,\n",
       " v_2_6,\n",
       " v_11_0,\n",
       " v_6_9,\n",
       " v_5_5,\n",
       " v_6_11,\n",
       " v_11_7,\n",
       " v_3_7,\n",
       " v_9_10,\n",
       " v_1_8,\n",
       " v_6_8,\n",
       " v_9_9,\n",
       " v_10_1,\n",
       " v_8_10,\n",
       " v_1_7,\n",
       " v_1_11,\n",
       " v_0_5,\n",
       " v_4_10,\n",
       " v_8_0,\n",
       " v_1_0,\n",
       " v_10_5,\n",
       " v_8_4,\n",
       " v_11_10,\n",
       " v_10_2,\n",
       " v_4_5,\n",
       " v_0_9,\n",
       " v_3_3,\n",
       " v_3_6,\n",
       " v_7_7,\n",
       " v_10_8,\n",
       " v_1_1,\n",
       " v_8_2,\n",
       " v_3_4,\n",
       " v_0_2,\n",
       " v_3_0,\n",
       " v_1_9,\n",
       " v_7_5,\n",
       " v_9_3,\n",
       " v_4_3,\n",
       " v_0_0,\n",
       " v_11_11,\n",
       " v_9_11,\n",
       " v_4_6,\n",
       " v_2_4,\n",
       " v_8_1,\n",
       " v_6_7,\n",
       " v_4_8,\n",
       " v_8_5,\n",
       " v_7_6,\n",
       " v_6_4,\n",
       " v_3_1,\n",
       " v_8_9,\n",
       " v_8_7,\n",
       " v_8_6,\n",
       " v_10_4,\n",
       " v_6_10,\n",
       " v_11_9,\n",
       " v_5_11,\n",
       " v_5_8,\n",
       " v_11_1,\n",
       " v_9_6,\n",
       " v_2_0,\n",
       " v_1_5,\n",
       " v_7_11,\n",
       " v_4_0,\n",
       " v_10_7,\n",
       " v_11_8,\n",
       " v_9_1,\n",
       " v_6_6,\n",
       " v_2_2,\n",
       " v_0_11,\n",
       " v_11_3,\n",
       " v_10_0,\n",
       " v_0_4,\n",
       " v_7_10,\n",
       " v_0_6,\n",
       " v_4_11,\n",
       " v_10_10,\n",
       " v_7_1,\n",
       " v_7_9,\n",
       " v_11_4,\n",
       " v_9_4,\n",
       " v_6_5,\n",
       " v_5_3,\n",
       " v_5_0,\n",
       " v_3_11,\n",
       " v_1_4,\n",
       " v_1_3,\n",
       " v_6_2,\n",
       " v_3_10,\n",
       " v_3_8,\n",
       " v_11_6,\n",
       " v_11_2,\n",
       " v_10_11,\n",
       " v_10_9,\n",
       " v_10_6,\n",
       " v_10_3,\n",
       " v_9_8,\n",
       " v_9_2,\n",
       " v_7_8,\n",
       " v_7_4,\n",
       " v_7_3,\n",
       " v_7_0,\n",
       " v_6_3,\n",
       " v_6_1,\n",
       " v_6_0,\n",
       " v_5_7,\n",
       " v_5_6,\n",
       " v_5_4,\n",
       " v_5_2,\n",
       " v_5_1,\n",
       " v_4_9,\n",
       " v_4_7,\n",
       " v_4_4,\n",
       " v_4_2,\n",
       " v_4_1,\n",
       " v_3_5,\n",
       " v_2_11,\n",
       " v_2_8,\n",
       " v_2_5,\n",
       " v_2_3,\n",
       " v_1_10,\n",
       " v_1_2,\n",
       " v_0_10,\n",
       " v_0_8,\n",
       " v_0_7]"
      ]
     },
     "execution_count": 14,
     "metadata": {},
     "output_type": "execute_result"
    }
   ],
   "source": [
    "r0t = [res[0][i] for i in range(144)]\n",
    "r0t"
   ]
  },
  {
   "cell_type": "code",
   "execution_count": 15,
   "metadata": {},
   "outputs": [],
   "source": [
    "#r0t[143] ==> v_0_7"
   ]
  },
  {
   "cell_type": "code",
   "execution_count": 16,
   "metadata": {},
   "outputs": [
    {
     "data": {
      "text/plain": [
       "(144,\n",
       " [(v_3_2, 0),\n",
       "  (v_8_8, 1),\n",
       "  (v_7_2, 1),\n",
       "  (v_9_7, 0),\n",
       "  (v_8_3, 1),\n",
       "  (v_2_7, 1),\n",
       "  (v_5_10, 0),\n",
       "  (v_2_10, 0),\n",
       "  (v_5_9, 1),\n",
       "  (v_3_9, 0),\n",
       "  (v_11_5, 1),\n",
       "  (v_2_9, 1),\n",
       "  (v_9_0, 1),\n",
       "  (v_9_5, 0),\n",
       "  (v_8_11, 1),\n",
       "  (v_2_1, 1),\n",
       "  (v_1_6, 0),\n",
       "  (v_0_3, 1),\n",
       "  (v_0_1, 1),\n",
       "  (v_2_6, 1),\n",
       "  (v_11_0, 0),\n",
       "  (v_6_9, 0),\n",
       "  (v_5_5, 1),\n",
       "  (v_6_11, 1),\n",
       "  (v_11_7, 1),\n",
       "  (v_3_7, 0),\n",
       "  (v_9_10, 0),\n",
       "  (v_1_8, 1),\n",
       "  (v_6_8, 1),\n",
       "  (v_9_9, 1),\n",
       "  (v_10_1, 1),\n",
       "  (v_8_10, 0),\n",
       "  (v_1_7, 1),\n",
       "  (v_1_11, 1),\n",
       "  (v_0_5, 0),\n",
       "  (v_4_10, 1),\n",
       "  (v_8_0, 0),\n",
       "  (v_1_0, 0),\n",
       "  (v_10_5, 1),\n",
       "  (v_8_4, 1),\n",
       "  (v_11_10, 0),\n",
       "  (v_10_2, 0),\n",
       "  (v_4_5, 1),\n",
       "  (v_0_9, 1),\n",
       "  (v_3_3, 1),\n",
       "  (v_3_6, 1),\n",
       "  (v_7_7, 1),\n",
       "  (v_10_8, 0),\n",
       "  (v_1_1, 0),\n",
       "  (v_8_2, 0),\n",
       "  (v_3_4, 0),\n",
       "  (v_0_2, 0),\n",
       "  (v_3_0, 1),\n",
       "  (v_1_9, 0),\n",
       "  (v_7_5, 1),\n",
       "  (v_9_3, 1),\n",
       "  (v_4_3, 0),\n",
       "  (v_0_0, 0),\n",
       "  (v_11_11, 1),\n",
       "  (v_9_11, 0),\n",
       "  (v_4_6, 0),\n",
       "  (v_2_4, 1),\n",
       "  (v_8_1, 1),\n",
       "  (v_6_7, 0),\n",
       "  (v_4_8, 0),\n",
       "  (v_8_5, 0),\n",
       "  (v_7_6, 0),\n",
       "  (v_6_4, 1),\n",
       "  (v_3_1, 0),\n",
       "  (v_8_9, 0),\n",
       "  (v_8_7, 0),\n",
       "  (v_8_6, 1),\n",
       "  (v_10_4, 1),\n",
       "  (v_6_10, 0),\n",
       "  (v_11_9, 1),\n",
       "  (v_5_11, 1),\n",
       "  (v_5_8, 1),\n",
       "  (v_11_1, 0),\n",
       "  (v_9_6, 1),\n",
       "  (v_2_0, 1),\n",
       "  (v_1_5, 1),\n",
       "  (v_7_11, 0),\n",
       "  (v_4_0, 0),\n",
       "  (v_10_7, 1),\n",
       "  (v_11_8, 0),\n",
       "  (v_9_1, 0),\n",
       "  (v_6_6, 1),\n",
       "  (v_2_2, 0),\n",
       "  (v_0_11, 0),\n",
       "  (v_11_3, 1),\n",
       "  (v_10_0, 1),\n",
       "  (v_0_4, 1),\n",
       "  (v_7_10, 1),\n",
       "  (v_0_6, 1),\n",
       "  (v_4_11, 0),\n",
       "  (v_10_10, 1),\n",
       "  (v_7_1, 0),\n",
       "  (v_7_9, 1),\n",
       "  (v_11_4, 0),\n",
       "  (v_9_4, 0),\n",
       "  (v_6_5, 0),\n",
       "  (v_5_3, 0),\n",
       "  (v_5_0, 0),\n",
       "  (v_3_11, 1),\n",
       "  (v_1_4, 0),\n",
       "  (v_1_3, 0),\n",
       "  (v_6_2, 0),\n",
       "  (v_3_10, 1),\n",
       "  (v_3_8, 1),\n",
       "  (v_11_6, 0),\n",
       "  (v_11_2, 1),\n",
       "  (v_10_11, 0),\n",
       "  (v_10_9, 0),\n",
       "  (v_10_6, 0),\n",
       "  (v_10_3, 0),\n",
       "  (v_9_8, 1),\n",
       "  (v_9_2, 1),\n",
       "  (v_7_8, 0),\n",
       "  (v_7_4, 0),\n",
       "  (v_7_3, 0),\n",
       "  (v_7_0, 1),\n",
       "  (v_6_3, 1),\n",
       "  (v_6_1, 0),\n",
       "  (v_6_0, 1),\n",
       "  (v_5_7, 0),\n",
       "  (v_5_6, 0),\n",
       "  (v_5_4, 0),\n",
       "  (v_5_2, 1),\n",
       "  (v_5_1, 1),\n",
       "  (v_4_9, 0),\n",
       "  (v_4_7, 1),\n",
       "  (v_4_4, 1),\n",
       "  (v_4_2, 1),\n",
       "  (v_4_1, 1),\n",
       "  (v_3_5, 0),\n",
       "  (v_2_11, 0),\n",
       "  (v_2_8, 0),\n",
       "  (v_2_5, 0),\n",
       "  (v_2_3, 0),\n",
       "  (v_1_10, 1),\n",
       "  (v_1_2, 1),\n",
       "  (v_0_10, 1),\n",
       "  (v_0_8, 0),\n",
       "  (v_0_7, 0)])"
      ]
     },
     "execution_count": 16,
     "metadata": {},
     "output_type": "execute_result"
    }
   ],
   "source": [
    "r0n = [(el, res[0][el]) for el in r0t]\n",
    "len(r0n), r0n"
   ]
  },
  {
   "cell_type": "code",
   "execution_count": 17,
   "metadata": {},
   "outputs": [
    {
     "data": {
      "text/plain": [
       "(list, 144)"
      ]
     },
     "execution_count": 17,
     "metadata": {},
     "output_type": "execute_result"
    }
   ],
   "source": [
    "type(r0n), len(r0n)"
   ]
  },
  {
   "cell_type": "code",
   "execution_count": 18,
   "metadata": {},
   "outputs": [
    {
     "data": {
      "text/plain": [
       "([3, 2], 0)"
      ]
     },
     "execution_count": 18,
     "metadata": {},
     "output_type": "execute_result"
    }
   ],
   "source": [
    "def convert_v_in_coord(name):\n",
    "    tmp = str(name)\n",
    "    tmp2 = tmp.split('_')\n",
    "    #print(tmp2)\n",
    "    tmp3 = eval(tmp2[1])\n",
    "    tmp4 = tmp2[2][:-1]\n",
    "    #print(\"tmp4\" , tmp4, type(tmp4))\n",
    "    tmp5 = tmp4.split(',')\n",
    "    return([tmp3, eval(tmp5[0])],eval(tmp5[1]) )\n",
    "    \n",
    "convert_v_in_coord(r0n[0])\n"
   ]
  },
  {
   "cell_type": "code",
   "execution_count": 19,
   "metadata": {},
   "outputs": [
    {
     "data": {
      "text/plain": [
       "(144,\n",
       " [([3, 2], 0),\n",
       "  ([8, 8], 1),\n",
       "  ([7, 2], 1),\n",
       "  ([9, 7], 0),\n",
       "  ([8, 3], 1),\n",
       "  ([2, 7], 1),\n",
       "  ([5, 10], 0),\n",
       "  ([2, 10], 0),\n",
       "  ([5, 9], 1),\n",
       "  ([3, 9], 0),\n",
       "  ([11, 5], 1),\n",
       "  ([2, 9], 1),\n",
       "  ([9, 0], 1),\n",
       "  ([9, 5], 0),\n",
       "  ([8, 11], 1),\n",
       "  ([2, 1], 1),\n",
       "  ([1, 6], 0),\n",
       "  ([0, 3], 1),\n",
       "  ([0, 1], 1),\n",
       "  ([2, 6], 1),\n",
       "  ([11, 0], 0),\n",
       "  ([6, 9], 0),\n",
       "  ([5, 5], 1),\n",
       "  ([6, 11], 1),\n",
       "  ([11, 7], 1),\n",
       "  ([3, 7], 0),\n",
       "  ([9, 10], 0),\n",
       "  ([1, 8], 1),\n",
       "  ([6, 8], 1),\n",
       "  ([9, 9], 1),\n",
       "  ([10, 1], 1),\n",
       "  ([8, 10], 0),\n",
       "  ([1, 7], 1),\n",
       "  ([1, 11], 1),\n",
       "  ([0, 5], 0),\n",
       "  ([4, 10], 1),\n",
       "  ([8, 0], 0),\n",
       "  ([1, 0], 0),\n",
       "  ([10, 5], 1),\n",
       "  ([8, 4], 1),\n",
       "  ([11, 10], 0),\n",
       "  ([10, 2], 0),\n",
       "  ([4, 5], 1),\n",
       "  ([0, 9], 1),\n",
       "  ([3, 3], 1),\n",
       "  ([3, 6], 1),\n",
       "  ([7, 7], 1),\n",
       "  ([10, 8], 0),\n",
       "  ([1, 1], 0),\n",
       "  ([8, 2], 0),\n",
       "  ([3, 4], 0),\n",
       "  ([0, 2], 0),\n",
       "  ([3, 0], 1),\n",
       "  ([1, 9], 0),\n",
       "  ([7, 5], 1),\n",
       "  ([9, 3], 1),\n",
       "  ([4, 3], 0),\n",
       "  ([0, 0], 0),\n",
       "  ([11, 11], 1),\n",
       "  ([9, 11], 0),\n",
       "  ([4, 6], 0),\n",
       "  ([2, 4], 1),\n",
       "  ([8, 1], 1),\n",
       "  ([6, 7], 0),\n",
       "  ([4, 8], 0),\n",
       "  ([8, 5], 0),\n",
       "  ([7, 6], 0),\n",
       "  ([6, 4], 1),\n",
       "  ([3, 1], 0),\n",
       "  ([8, 9], 0),\n",
       "  ([8, 7], 0),\n",
       "  ([8, 6], 1),\n",
       "  ([10, 4], 1),\n",
       "  ([6, 10], 0),\n",
       "  ([11, 9], 1),\n",
       "  ([5, 11], 1),\n",
       "  ([5, 8], 1),\n",
       "  ([11, 1], 0),\n",
       "  ([9, 6], 1),\n",
       "  ([2, 0], 1),\n",
       "  ([1, 5], 1),\n",
       "  ([7, 11], 0),\n",
       "  ([4, 0], 0),\n",
       "  ([10, 7], 1),\n",
       "  ([11, 8], 0),\n",
       "  ([9, 1], 0),\n",
       "  ([6, 6], 1),\n",
       "  ([2, 2], 0),\n",
       "  ([0, 11], 0),\n",
       "  ([11, 3], 1),\n",
       "  ([10, 0], 1),\n",
       "  ([0, 4], 1),\n",
       "  ([7, 10], 1),\n",
       "  ([0, 6], 1),\n",
       "  ([4, 11], 0),\n",
       "  ([10, 10], 1),\n",
       "  ([7, 1], 0),\n",
       "  ([7, 9], 1),\n",
       "  ([11, 4], 0),\n",
       "  ([9, 4], 0),\n",
       "  ([6, 5], 0),\n",
       "  ([5, 3], 0),\n",
       "  ([5, 0], 0),\n",
       "  ([3, 11], 1),\n",
       "  ([1, 4], 0),\n",
       "  ([1, 3], 0),\n",
       "  ([6, 2], 0),\n",
       "  ([3, 10], 1),\n",
       "  ([3, 8], 1),\n",
       "  ([11, 6], 0),\n",
       "  ([11, 2], 1),\n",
       "  ([10, 11], 0),\n",
       "  ([10, 9], 0),\n",
       "  ([10, 6], 0),\n",
       "  ([10, 3], 0),\n",
       "  ([9, 8], 1),\n",
       "  ([9, 2], 1),\n",
       "  ([7, 8], 0),\n",
       "  ([7, 4], 0),\n",
       "  ([7, 3], 0),\n",
       "  ([7, 0], 1),\n",
       "  ([6, 3], 1),\n",
       "  ([6, 1], 0),\n",
       "  ([6, 0], 1),\n",
       "  ([5, 7], 0),\n",
       "  ([5, 6], 0),\n",
       "  ([5, 4], 0),\n",
       "  ([5, 2], 1),\n",
       "  ([5, 1], 1),\n",
       "  ([4, 9], 0),\n",
       "  ([4, 7], 1),\n",
       "  ([4, 4], 1),\n",
       "  ([4, 2], 1),\n",
       "  ([4, 1], 1),\n",
       "  ([3, 5], 0),\n",
       "  ([2, 11], 0),\n",
       "  ([2, 8], 0),\n",
       "  ([2, 5], 0),\n",
       "  ([2, 3], 0),\n",
       "  ([1, 10], 1),\n",
       "  ([1, 2], 1),\n",
       "  ([0, 10], 1),\n",
       "  ([0, 8], 0),\n",
       "  ([0, 7], 0)])"
      ]
     },
     "execution_count": 19,
     "metadata": {},
     "output_type": "execute_result"
    }
   ],
   "source": [
    "results = [convert_v_in_coord(el) for el in r0n]\n",
    "len(results),results"
   ]
  },
  {
   "cell_type": "code",
   "execution_count": 20,
   "metadata": {},
   "outputs": [],
   "source": [
    "#convert_v_in_coord(r0n[1])[1:]"
   ]
  },
  {
   "cell_type": "code",
   "execution_count": 21,
   "metadata": {},
   "outputs": [
    {
     "data": {
      "text/plain": [
       "[(v_3_2, 0), (v_8_8, 1), (v_7_2, 1)]"
      ]
     },
     "execution_count": 21,
     "metadata": {},
     "output_type": "execute_result"
    }
   ],
   "source": [
    "r0n[:3]"
   ]
  },
  {
   "cell_type": "code",
   "execution_count": 22,
   "metadata": {},
   "outputs": [],
   "source": [
    "m = np.zeros((12,12), dtype = int)\n",
    "#m"
   ]
  },
  {
   "cell_type": "code",
   "execution_count": 23,
   "metadata": {
    "scrolled": true
   },
   "outputs": [
    {
     "data": {
      "text/plain": [
       "array([[0, 1, 0, 1, 1, 0, 1, 0, 0, 1, 1, 0],\n",
       "       [0, 0, 1, 0, 0, 1, 0, 1, 1, 0, 1, 1],\n",
       "       [1, 1, 0, 0, 1, 0, 1, 1, 0, 1, 0, 0],\n",
       "       [1, 0, 0, 1, 0, 0, 1, 0, 1, 0, 1, 1],\n",
       "       [0, 1, 1, 0, 1, 1, 0, 1, 0, 0, 1, 0],\n",
       "       [0, 1, 1, 0, 0, 1, 0, 0, 1, 1, 0, 1],\n",
       "       [1, 0, 0, 1, 1, 0, 1, 0, 1, 0, 0, 1],\n",
       "       [1, 0, 1, 0, 0, 1, 0, 1, 0, 1, 1, 0],\n",
       "       [0, 1, 0, 1, 1, 0, 1, 0, 1, 0, 0, 1],\n",
       "       [1, 0, 1, 1, 0, 0, 1, 0, 1, 1, 0, 0],\n",
       "       [1, 1, 0, 0, 1, 1, 0, 1, 0, 0, 1, 0],\n",
       "       [0, 0, 1, 1, 0, 1, 0, 1, 0, 1, 0, 1]])"
      ]
     },
     "execution_count": 23,
     "metadata": {},
     "output_type": "execute_result"
    }
   ],
   "source": [
    "for el in results:\n",
    "    if el[1] == 1:\n",
    "        #print(m[el[0][0], el[0][1]])\n",
    "        m[el[0][0], el[0][1]] = 1\n",
    "m"
   ]
  },
  {
   "cell_type": "code",
   "execution_count": 24,
   "metadata": {},
   "outputs": [
    {
     "name": "stdout",
     "output_type": "stream",
     "text": [
      "6\n",
      "6\n",
      "6\n",
      "6\n",
      "6\n",
      "6\n",
      "6\n",
      "6\n",
      "6\n",
      "6\n",
      "6\n",
      "6\n"
     ]
    }
   ],
   "source": [
    "for i in range(12):\n",
    "    print(sum(m[i]))"
   ]
  },
  {
   "cell_type": "code",
   "execution_count": 25,
   "metadata": {},
   "outputs": [
    {
     "data": {
      "text/plain": [
       "array([[0, 0, 1, 1, 0, 0, 1, 1, 0, 1, 1, 0],\n",
       "       [1, 0, 1, 0, 1, 1, 0, 0, 1, 0, 1, 0],\n",
       "       [0, 1, 0, 0, 1, 1, 0, 1, 0, 1, 0, 1],\n",
       "       [1, 0, 0, 1, 0, 0, 1, 0, 1, 1, 0, 1],\n",
       "       [1, 0, 1, 0, 1, 0, 1, 0, 1, 0, 1, 0],\n",
       "       [0, 1, 0, 0, 1, 1, 0, 1, 0, 0, 1, 1],\n",
       "       [1, 0, 1, 1, 0, 0, 1, 0, 1, 1, 0, 0],\n",
       "       [0, 1, 1, 0, 1, 0, 0, 1, 0, 0, 1, 1],\n",
       "       [0, 1, 0, 1, 0, 1, 1, 0, 1, 1, 0, 0],\n",
       "       [1, 0, 1, 0, 0, 1, 0, 1, 0, 1, 0, 1],\n",
       "       [1, 1, 0, 1, 1, 0, 0, 1, 0, 0, 1, 0],\n",
       "       [0, 1, 0, 1, 0, 1, 1, 0, 1, 0, 0, 1]])"
      ]
     },
     "execution_count": 25,
     "metadata": {},
     "output_type": "execute_result"
    }
   ],
   "source": [
    "m.T"
   ]
  },
  {
   "cell_type": "code",
   "execution_count": 26,
   "metadata": {},
   "outputs": [
    {
     "name": "stdout",
     "output_type": "stream",
     "text": [
      "6\n",
      "6\n",
      "6\n",
      "6\n",
      "6\n",
      "6\n",
      "6\n",
      "6\n",
      "6\n",
      "6\n",
      "6\n",
      "6\n"
     ]
    }
   ],
   "source": [
    "mT = m.T\n",
    "for i in range(12):\n",
    "    print(sum(mT[i]))"
   ]
  },
  {
   "cell_type": "code",
   "execution_count": 27,
   "metadata": {},
   "outputs": [
    {
     "data": {
      "text/plain": [
       "'finish so far'"
      ]
     },
     "execution_count": 27,
     "metadata": {},
     "output_type": "execute_result"
    }
   ],
   "source": [
    "'finish so far'"
   ]
  },
  {
   "cell_type": "code",
   "execution_count": null,
   "metadata": {},
   "outputs": [],
   "source": []
  }
 ],
 "metadata": {
  "kernelspec": {
   "display_name": "Python 3",
   "language": "python",
   "name": "python3"
  },
  "language_info": {
   "codemirror_mode": {
    "name": "ipython",
    "version": 3
   },
   "file_extension": ".py",
   "mimetype": "text/x-python",
   "name": "python",
   "nbconvert_exporter": "python",
   "pygments_lexer": "ipython3",
   "version": "3.7.3"
  }
 },
 "nbformat": 4,
 "nbformat_minor": 2
}
