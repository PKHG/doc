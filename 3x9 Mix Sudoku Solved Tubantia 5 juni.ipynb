{
 "cells": [
  {
   "cell_type": "markdown",
   "metadata": {},
   "source": [
    "# From the sudoku solver adjusted for\n",
    "# SUDOKU MIX  \n",
    "## Tubantia sudoku mix from 5 june upper right corner used plus rest upper row\n",
    "At several places on the www to be found, e.g. below in https://ericpony.github.io/z3py-tutorial/guide-examples.htm\n",
    "<img src=\"sudokumix5jun.jpg\"/>"
   ]
  },
  {
   "cell_type": "code",
   "execution_count": 1,
   "metadata": {},
   "outputs": [
    {
     "name": "stdout",
     "output_type": "stream",
     "text": [
      "2019-06-10 11:54:08.185034\n"
     ]
    }
   ],
   "source": [
    "from mydateFP import getFPnameDate"
   ]
  },
  {
   "cell_type": "code",
   "execution_count": 2,
   "metadata": {},
   "outputs": [
    {
     "name": "stdout",
     "output_type": "stream",
     "text": [
      "def getFPnameDate(voor = \"mixSodudoku\"):\r\n",
      "    from datetime  import datetime\r\n",
      "    d0, d1  = str(datetime.now()).split(\" \")\r\n",
      "    print (d0,d1)\r\n",
      "    return voor + (d0[5:] + \"_\" + d1[0:2] + d1[3:5]).replace(\"-\",\"\") + \".py\"\r\n",
      "getFPnameDate()\r\n"
     ]
    }
   ],
   "source": [
    "!cat mydateFP.py"
   ]
  },
  {
   "cell_type": "markdown",
   "metadata": {},
   "source": [
    "# a Sudoku MIX 3x9"
   ]
  },
  {
   "cell_type": "code",
   "execution_count": 3,
   "metadata": {},
   "outputs": [
    {
     "name": "stdout",
     "output_type": "stream",
     "text": [
      "2019-06-10 11:54:13.913621\n",
      "results will be saved in  (this working dir):  mixSodudoku0610_1154.py\n",
      "[[4, 6, 5, 9, 8, 1, 2, 7, 3],\n",
      " [7, 3, 8, 5, 2, 6, 1, 4, 9],\n",
      " [9, 2, 1, 4, 3, 7, 5, 8, 6]]\n",
      "[[4, 6, 5, 9, 1, 8, 2, 7, 3],\n",
      " [7, 3, 8, 5, 2, 6, 4, 1, 9],\n",
      " [2, 9, 1, 4, 3, 7, 5, 8, 6]]\n",
      "all different? True\n"
     ]
    }
   ],
   "source": [
    "# show at most 41 solutions\n",
    "maxaantal = 41\n",
    "from z3 import *\n",
    "from mydateFP import getFPnameDate\n",
    "\n",
    "#print inbetween results\n",
    "tussenresultaat = True\n",
    "fpname = getFPnameDate()\n",
    "print(\"results will be saved in  (this working dir): \", fpname)\n",
    "fp = open(fpname , \"w\")\n",
    "\n",
    "# a 3x3 Sudoku where ONE number is given a ^ lower right corner\n",
    "nulrij = [0 for i in range(9)]\n",
    "NulSodoku = [ nulrij for i in range(3)]\n",
    "\n",
    "NulSodoku[0] = [0,0,0,0,0,0,0,0,0]\n",
    "NulSodoku[1] = [0,0,0,0,0,0,0,0,0]\n",
    "NulSodoku[2] = [0,0,0,0,0,0,0,0,6]\n",
    "\n",
    "instance = NulSodoku\n",
    "\n",
    "\"\"\"\n",
    "# show at most 41 solutions\n",
    "maxaantal = 40\n",
    "from z3 import *\n",
    "from mydateFP import getFPnameDate\n",
    "\n",
    "#print inbetween results\n",
    "tussenresultaat = True\n",
    "fpname = getFPnameDate()\n",
    "print(\"results will be saved in  (this working dir): \", fpname)\n",
    "fp = open(fpname , \"w\")\n",
    "\"\"\"\n",
    "# a 3x3 Sudoku where ONE number is given a ^ lower right corner\n",
    "nulrij = [0 for i in range(9)]\n",
    "NulSodoku = [ nulrij for i in range(3)]\n",
    "\n",
    "NulSodoku[0] = [0,0,0,0,0,0,0,0,0]\n",
    "NulSodoku[1] = [0,0,0,0,0,0,0,0,0]\n",
    "NulSodoku[2] = [0,0,0,0,0,0,0,0,6]\n",
    "\n",
    "instance = NulSodoku\n",
    "\n",
    "# 3x9 matrix of integer variables, zero based indexing!\n",
    "X = [ [ Int(\"x_%s_%s\" % (i, j)) for j in range(9) ]\n",
    "      for i in range(3) ]\n",
    "\n",
    "# each cell contains a value in {1, ..., 9}\n",
    "cells_c  = [ And(1 <= X[i][j], X[i][j] <= 9)\n",
    "             for i in range(3) for j in range(9) ]\n",
    "#PKHG>tothier\n",
    "# each row contains a digit at most once\n",
    "rows_c   = [ Distinct(X[i]) for i in range(3) ]\n",
    "\n",
    "# each column contains a digit at most once\n",
    "cols_c   = [ Distinct([ X[i][j] for i in range(3)]) for j in range(9)]\n",
    " \n",
    "\n",
    "# each 3x3 square contains a digit at most once\n",
    "\"\"\"\n",
    "sq_c     = [ Distinct([ X[i0 + i][j0 + j ]\n",
    "                        for i in range(3) for j in range(3) ])\n",
    "             for i0 in range(1) for j0 in range(3) ]\n",
    "\"\"\"\n",
    "sq_c     = [ Distinct([ X[3*i0 + i][3*j0 + j]\n",
    "                        for i in range(3) for j in range(3) ])\n",
    "             for i0 in range(1) for j0 in range(3) ]\n",
    "\n",
    "\n",
    "    \n",
    "\n",
    "# rectangles in the 3x9 Sudoku are given:\n",
    "c00_10 = [And(X[0][6] + X[0][7]  == 9),\n",
    "          And(X[1][6] + X[1][7]  == 5),\n",
    "          And(X[2][6] + X[2][7] == 13),\n",
    "        #subtract the known 6 in last column gives:\n",
    "          And(X[0][8] + X[1][8] == 18 - 6),\n",
    "          And(X[2][8] == 6), #up to here seems ok\n",
    "          \n",
    "          And(X[0][0] + X[1][0] == 11),\n",
    "          And(X[0][1] + X[1][1] == 9),\n",
    "          And(X[0][2] + X[0][3] == 14),\n",
    "          And(X[1][2] + X[2][2] == 9),\n",
    "          \n",
    "          And(X[0][4] + X[0][5] == 9),\n",
    "          And(X[1][3] + X[2][3] == 9),\n",
    "          And(X[1][4] + X[2][4] == 5),\n",
    "          #PKHG>??? And(X[1][5] + X[2][5] == 13)\n",
    "         ]\n",
    "         #And(X[][] + X[][] == ),\n",
    "         \n",
    "         \n",
    "#all conditions put together\n",
    "sudoku_c = cells_c + rows_c + cols_c + sq_c + c00_10\n",
    "\n",
    "# sudoku instance, we use '0' for empty cells\n",
    "\n",
    "instance_c = [ If(instance[i][j] == 0,\n",
    "                  True,\n",
    "                  X[i][j] == instance[i][j])\n",
    "               for i in range(3) for j in range(3) ]\n",
    "allSolutions = []\n",
    "s = Solver()\n",
    "s.add(sudoku_c + instance_c) \n",
    "\n",
    "#while loop will stop if counter is > maxaantal, or \n",
    "#no new solutions anymore found\n",
    "counter  = 0\n",
    "while s.check() == sat:\n",
    "    counter += 1\n",
    "    fp.write(\"p\" + str(counter) + \" = \")\n",
    "    m = s.model()\n",
    "    r = [ [ m.evaluate(X[i][j]) for j in range(9) ]\n",
    "          for i in range(3) ]\n",
    "    t = \"\"\n",
    "    for el in r:\n",
    "    #print(el)\n",
    "        res = [ \"\" + str(c) for c in el]\n",
    "        tmp = \"\".join(res)\n",
    "        t += tmp\n",
    "    fp.write(t + \"\\n\")\n",
    "    \n",
    "    ns = int(t)\n",
    "    allSolutions.append(ns)\n",
    "    \n",
    "    #print(len(allSolutions))\n",
    "    #print(counter , t)\n",
    "    if tussenresultaat:\n",
    "        print_matrix(r)\n",
    "    \n",
    "    # the solution found will be not anymore allowed: Not(And(vals))\n",
    "    vals = [X[i][j] == m.evaluate(X[i][j]) for j in range(3)\n",
    "            for i in range(3)]\n",
    "    s.add(Not(And(vals)))\n",
    "    if counter > maxaantal:\n",
    "        break\n",
    "fp.close()\n",
    "allSolasSet = set(allSolutions)\n",
    "if counter:\n",
    "    print(\"all different?\" , len(allSolutions) == counter)\n",
    "else:\n",
    "    print(\"no solution, check instance\", instance)\n",
    "                    "
   ]
  },
  {
   "cell_type": "code",
   "execution_count": 4,
   "metadata": {},
   "outputs": [],
   "source": [
    "# last 3x3 cotains no 1 and 4???  ==> errro"
   ]
  },
  {
   "cell_type": "code",
   "execution_count": 5,
   "metadata": {},
   "outputs": [
    {
     "data": {
      "text/plain": [
       "2"
      ]
     },
     "execution_count": 5,
     "metadata": {},
     "output_type": "execute_result"
    }
   ],
   "source": [
    "counter"
   ]
  },
  {
   "cell_type": "markdown",
   "metadata": {},
   "source": [
    "# filename from an earlier run!\n",
    "## change if you like"
   ]
  },
  {
   "cell_type": "code",
   "execution_count": 18,
   "metadata": {},
   "outputs": [
    {
     "data": {
      "text/plain": [
       "'mixSodudoku0610_1154.py'"
      ]
     },
     "execution_count": 18,
     "metadata": {},
     "output_type": "execute_result"
    }
   ],
   "source": [
    "fpname"
   ]
  },
  {
   "cell_type": "code",
   "execution_count": 19,
   "metadata": {},
   "outputs": [
    {
     "name": "stdout",
     "output_type": "stream",
     "text": [
      "p1 = 465981273738526149921437586\r\n",
      "p2 = 465918273738526419291437586\r\n"
     ]
    }
   ],
   "source": [
    "!cat mixSodudoku0610_1154.py"
   ]
  },
  {
   "cell_type": "code",
   "execution_count": 20,
   "metadata": {},
   "outputs": [],
   "source": [
    "from mixSodudoku0610_1154 import *"
   ]
  },
  {
   "cell_type": "code",
   "execution_count": 21,
   "metadata": {},
   "outputs": [
    {
     "name": "stdout",
     "output_type": "stream",
     "text": [
      "[4, 6, 5, 9, 8, 1, 2, 7, 3, 7, 3, 8, 5, 2, 6, 1, 4, 9, 9, 2, 1, 4, 3, 7, 5, 8, 6]\n"
     ]
    }
   ],
   "source": [
    "plv = [eval(el) for el in str(p1)]\n",
    "print(plv)"
   ]
  },
  {
   "cell_type": "code",
   "execution_count": 62,
   "metadata": {},
   "outputs": [
    {
     "data": {
      "text/plain": [
       "matrix([[4, 6, 5, 9, 1, 8, 2, 7, 3],\n",
       "        [7, 3, 8, 5, 2, 6, 4, 1, 9],\n",
       "        [2, 9, 1, 4, 3, 7, 5, 8, 6]])"
      ]
     },
     "execution_count": 62,
     "metadata": {},
     "output_type": "execute_result"
    }
   ],
   "source": [
    "import numpy as np\n",
    "def convtomat(pw, mr = 3, mc = 9):\n",
    "    \n",
    "    tmp = np.array([eval(el) for el in list(str(pw))])\n",
    "    return np.matrix(tmp).reshape(mr,mc)\n",
    "p2_np = convtomat(p2)\n",
    "p2_np"
   ]
  },
  {
   "cell_type": "code",
   "execution_count": 78,
   "metadata": {},
   "outputs": [
    {
     "data": {
      "text/plain": [
       "(27,)"
      ]
     },
     "execution_count": 78,
     "metadata": {},
     "output_type": "execute_result"
    }
   ],
   "source": [
    "allv = np.array([eval(el) for el in list(str(p2))])\n",
    "allv.shape"
   ]
  },
  {
   "cell_type": "code",
   "execution_count": 82,
   "metadata": {},
   "outputs": [
    {
     "name": "stdout",
     "output_type": "stream",
     "text": [
      "[[4 6 5 9 1 8 2 7 3]\n",
      " [7 3 8 5 2 6 4 1 9]\n",
      " [2 9 1 4 3 7 5 8 6]]\n"
     ]
    }
   ],
   "source": [
    "allv2 = allv.reshape((3,9))\n",
    "print(allv2)"
   ]
  },
  {
   "cell_type": "markdown",
   "metadata": {},
   "source": [
    "# pandas is sometimes a bit nicer then numpy"
   ]
  },
  {
   "cell_type": "code",
   "execution_count": 23,
   "metadata": {},
   "outputs": [],
   "source": [
    "import pandas as pd"
   ]
  },
  {
   "cell_type": "code",
   "execution_count": 24,
   "metadata": {},
   "outputs": [
    {
     "data": {
      "text/html": [
       "<div>\n",
       "<style scoped>\n",
       "    .dataframe tbody tr th:only-of-type {\n",
       "        vertical-align: middle;\n",
       "    }\n",
       "\n",
       "    .dataframe tbody tr th {\n",
       "        vertical-align: top;\n",
       "    }\n",
       "\n",
       "    .dataframe thead th {\n",
       "        text-align: right;\n",
       "    }\n",
       "</style>\n",
       "<table border=\"1\" class=\"dataframe\">\n",
       "  <thead>\n",
       "    <tr style=\"text-align: right;\">\n",
       "      <th></th>\n",
       "      <th>a</th>\n",
       "      <th>b</th>\n",
       "      <th>c</th>\n",
       "      <th>d</th>\n",
       "      <th>e</th>\n",
       "      <th>f</th>\n",
       "      <th>g</th>\n",
       "      <th>h</th>\n",
       "      <th>i</th>\n",
       "    </tr>\n",
       "  </thead>\n",
       "  <tbody>\n",
       "    <tr>\n",
       "      <th>0</th>\n",
       "      <td>4</td>\n",
       "      <td>6</td>\n",
       "      <td>5</td>\n",
       "      <td>9</td>\n",
       "      <td>1</td>\n",
       "      <td>8</td>\n",
       "      <td>2</td>\n",
       "      <td>7</td>\n",
       "      <td>3</td>\n",
       "    </tr>\n",
       "    <tr>\n",
       "      <th>1</th>\n",
       "      <td>7</td>\n",
       "      <td>3</td>\n",
       "      <td>8</td>\n",
       "      <td>5</td>\n",
       "      <td>2</td>\n",
       "      <td>6</td>\n",
       "      <td>4</td>\n",
       "      <td>1</td>\n",
       "      <td>9</td>\n",
       "    </tr>\n",
       "    <tr>\n",
       "      <th>2</th>\n",
       "      <td>2</td>\n",
       "      <td>9</td>\n",
       "      <td>1</td>\n",
       "      <td>4</td>\n",
       "      <td>3</td>\n",
       "      <td>7</td>\n",
       "      <td>5</td>\n",
       "      <td>8</td>\n",
       "      <td>6</td>\n",
       "    </tr>\n",
       "  </tbody>\n",
       "</table>\n",
       "</div>"
      ],
      "text/plain": [
       "   a  b  c  d  e  f  g  h  i\n",
       "0  4  6  5  9  1  8  2  7  3\n",
       "1  7  3  8  5  2  6  4  1  9\n",
       "2  2  9  1  4  3  7  5  8  6"
      ]
     },
     "execution_count": 24,
     "metadata": {},
     "output_type": "execute_result"
    }
   ],
   "source": [
    "pdm = pd.DataFrame(p2_np,columns=['a','b','c','d','e','f','g','h','i'])\n",
    "pdm"
   ]
  },
  {
   "cell_type": "code",
   "execution_count": 35,
   "metadata": {},
   "outputs": [
    {
     "data": {
      "text/plain": [
       "45"
      ]
     },
     "execution_count": 35,
     "metadata": {},
     "output_type": "execute_result"
    }
   ],
   "source": [
    "sum(pdm['a']) +sum(pdm['b']) + sum(pdm['c'])"
   ]
  },
  {
   "cell_type": "code",
   "execution_count": 28,
   "metadata": {},
   "outputs": [
    {
     "data": {
      "text/html": [
       "<div>\n",
       "<style scoped>\n",
       "    .dataframe tbody tr th:only-of-type {\n",
       "        vertical-align: middle;\n",
       "    }\n",
       "\n",
       "    .dataframe tbody tr th {\n",
       "        vertical-align: top;\n",
       "    }\n",
       "\n",
       "    .dataframe thead th {\n",
       "        text-align: right;\n",
       "    }\n",
       "</style>\n",
       "<table border=\"1\" class=\"dataframe\">\n",
       "  <thead>\n",
       "    <tr style=\"text-align: right;\">\n",
       "      <th></th>\n",
       "      <th>0</th>\n",
       "      <th>1</th>\n",
       "      <th>2</th>\n",
       "      <th>3</th>\n",
       "      <th>4</th>\n",
       "      <th>5</th>\n",
       "      <th>6</th>\n",
       "      <th>7</th>\n",
       "      <th>8</th>\n",
       "    </tr>\n",
       "  </thead>\n",
       "  <tbody>\n",
       "    <tr>\n",
       "      <th>0</th>\n",
       "      <td>4</td>\n",
       "      <td>6</td>\n",
       "      <td>5</td>\n",
       "      <td>9</td>\n",
       "      <td>1</td>\n",
       "      <td>8</td>\n",
       "      <td>2</td>\n",
       "      <td>7</td>\n",
       "      <td>3</td>\n",
       "    </tr>\n",
       "    <tr>\n",
       "      <th>1</th>\n",
       "      <td>7</td>\n",
       "      <td>3</td>\n",
       "      <td>8</td>\n",
       "      <td>5</td>\n",
       "      <td>2</td>\n",
       "      <td>6</td>\n",
       "      <td>4</td>\n",
       "      <td>1</td>\n",
       "      <td>9</td>\n",
       "    </tr>\n",
       "    <tr>\n",
       "      <th>2</th>\n",
       "      <td>2</td>\n",
       "      <td>9</td>\n",
       "      <td>1</td>\n",
       "      <td>4</td>\n",
       "      <td>3</td>\n",
       "      <td>7</td>\n",
       "      <td>5</td>\n",
       "      <td>8</td>\n",
       "      <td>6</td>\n",
       "    </tr>\n",
       "  </tbody>\n",
       "</table>\n",
       "</div>"
      ],
      "text/plain": [
       "   0  1  2  3  4  5  6  7  8\n",
       "0  4  6  5  9  1  8  2  7  3\n",
       "1  7  3  8  5  2  6  4  1  9\n",
       "2  2  9  1  4  3  7  5  8  6"
      ]
     },
     "execution_count": 28,
     "metadata": {},
     "output_type": "execute_result"
    }
   ],
   "source": [
    "pdm2 = pd.DataFrame(p2_np,columns=[i for i in range(9)])\n",
    "pdm2"
   ]
  },
  {
   "cell_type": "code",
   "execution_count": 32,
   "metadata": {},
   "outputs": [
    {
     "data": {
      "text/plain": [
       "[45, 45, 45]"
      ]
     },
     "execution_count": 32,
     "metadata": {},
     "output_type": "execute_result"
    }
   ],
   "source": [
    "[sum(pdm2.T[i]) for i in range(3)]"
   ]
  },
  {
   "cell_type": "code",
   "execution_count": 52,
   "metadata": {},
   "outputs": [
    {
     "data": {
      "text/plain": [
       "[45, 45, 45]"
      ]
     },
     "execution_count": 52,
     "metadata": {},
     "output_type": "execute_result"
    }
   ],
   "source": [
    "#sum of the 3x3 parts\n",
    "[sum(pdm2[0 + 3 * i]) + sum(pdm2[1 + 3 * i])+ sum(pdm2[2 + 3 * i]) for i in range(3)]"
   ]
  },
  {
   "cell_type": "markdown",
   "metadata": {},
   "source": [
    "# check (in this case) if the last colums\n",
    "# sum is 18"
   ]
  },
  {
   "cell_type": "code",
   "execution_count": 56,
   "metadata": {},
   "outputs": [
    {
     "data": {
      "text/plain": [
       "0    True\n",
       "1    True\n",
       "2    True\n",
       "dtype: bool"
      ]
     },
     "execution_count": 56,
     "metadata": {},
     "output_type": "execute_result"
    }
   ],
   "source": [
    "pdm['i'] == pdm2[8]"
   ]
  },
  {
   "cell_type": "code",
   "execution_count": 58,
   "metadata": {},
   "outputs": [
    {
     "data": {
      "text/plain": [
       "18"
      ]
     },
     "execution_count": 58,
     "metadata": {},
     "output_type": "execute_result"
    }
   ],
   "source": [
    "sum(pdm2[8])"
   ]
  },
  {
   "cell_type": "markdown",
   "metadata": {},
   "source": [
    "# because row conditions to sum\n",
    "matrix has to be transposed (easy: .T )"
   ]
  },
  {
   "cell_type": "code",
   "execution_count": 13,
   "metadata": {},
   "outputs": [
    {
     "data": {
      "text/plain": [
       "45"
      ]
     },
     "execution_count": 13,
     "metadata": {},
     "output_type": "execute_result"
    }
   ],
   "source": [
    "sum(pdm.T[2])"
   ]
  },
  {
   "cell_type": "markdown",
   "metadata": {},
   "source": [
    "# check sum of the first two cels sums to 9\n",
    "(though easily seen from the matrix print above)"
   ]
  },
  {
   "cell_type": "code",
   "execution_count": 14,
   "metadata": {},
   "outputs": [
    {
     "data": {
      "text/plain": [
       "False"
      ]
     },
     "execution_count": 14,
     "metadata": {},
     "output_type": "execute_result"
    }
   ],
   "source": [
    "pdm['a'][0] + pdm['b'][0] == 9"
   ]
  },
  {
   "cell_type": "code",
   "execution_count": 17,
   "metadata": {},
   "outputs": [
    {
     "data": {
      "text/plain": [
       "pandas.core.frame.DataFrame"
      ]
     },
     "execution_count": 17,
     "metadata": {},
     "output_type": "execute_result"
    }
   ],
   "source": [
    "type(pdm)"
   ]
  },
  {
   "cell_type": "code",
   "execution_count": null,
   "metadata": {},
   "outputs": [],
   "source": []
  }
 ],
 "metadata": {
  "kernelspec": {
   "display_name": "Python 3",
   "language": "python",
   "name": "python3"
  },
  "language_info": {
   "codemirror_mode": {
    "name": "ipython",
    "version": 3
   },
   "file_extension": ".py",
   "mimetype": "text/x-python",
   "name": "python",
   "nbconvert_exporter": "python",
   "pygments_lexer": "ipython3",
   "version": "3.7.3"
  }
 },
 "nbformat": 4,
 "nbformat_minor": 2
}
