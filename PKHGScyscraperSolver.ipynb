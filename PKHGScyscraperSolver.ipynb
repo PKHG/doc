{
 "cells": [
  {
   "cell_type": "markdown",
   "metadata": {},
   "source": [
    "# www http://brainbashers.com/skyscrapers.asp\n",
    "get e.g. a puzzle from ^^^\n",
    "and check there your solution: ==> green square if ok\n",
    "#example end of this file"
   ]
  },
  {
   "cell_type": "markdown",
   "metadata": {},
   "source": [
    "# notebook with demonstration of 4 puzzles ;-)\n",
    "by PKHG"
   ]
  },
  {
   "cell_type": "code",
   "execution_count": null,
   "metadata": {},
   "outputs": [],
   "source": [
    "from SudokuBaseClass import * #see result of this cell ;-)\n",
    "\n",
    "# self. because the result of maakStartVals is later used in th solver class\n",
    "def maakStartVals(s):\n",
    "    \"\"\"\n",
    "        make empty startvalue example for ScyscrInfo\n",
    "    \"\"\"\n",
    "    w = ['self.U', 'self.R', 'self.D', 'self.L']\n",
    "    result = []\n",
    "    for LL in w:\n",
    "        tmp = LL + ';'\n",
    "        for i in range(s - 1):\n",
    "            tmp += '0 '\n",
    "        tmp += '0'\n",
    "        result.append(tmp)\n",
    "    result.append('self.instance;x,y,w 0,0,0') \n",
    "    print('zero based counting! first column is col number 0 etc.')\n",
    "    print('x,y zero based coordinates w given border value')                 \n",
    "    print('if 2 or more bordervalues are given use ONE space as seperator token')\n",
    "    print('have a look of the possible examples, in this notebook')\n",
    "    return result\n",
    "\n",
    "SC = SudokuConditions()\n",
    "print('from initializing SC SC.size {}'.format(SC.size))"
   ]
  },
  {
   "cell_type": "code",
   "execution_count": null,
   "metadata": {},
   "outputs": [],
   "source": [
    "#ScyscrInfo = []\n",
    "\n",
    "def example(size):\n",
    "    \"\"\"\n",
    "    4 examplels of size 3, 4, 8, 9 possible\n",
    "    usage: size, ScyscrInfo = example(x)\n",
    "    x in {3, 4, 8, 9}\n",
    "    \"\"\"\n",
    "    if size == 8:\n",
    "        ScyscrInfo = ['self.U;3 3 0 0 2 3 2 4',\n",
    "            'self.R;0 0 0 3 2 0 0 3',\n",
    "            'self.D;5 0 0 0 0 0 3 2',\n",
    "            'self.L;3 3 0 0 0 0 2 0',\n",
    "            'self.instance;0,7,4 1,6,1 2,0,6 3,4,1 3,5,7 4,2,2 5,3,6 6,6,5'\n",
    "            ]\n",
    "\n",
    "    elif size == 3:\n",
    "        ScyscrInfo = ['self.U;3 2 1',\n",
    "          'self.R;0 2 2',\n",
    "          'self.D;0 0 0',\n",
    "          'self.L;0 0 0',\n",
    "          'self.instance;'\n",
    "         ]\n",
    "    elif size == 4:\n",
    "        ScyscrInfo = ['self.U;3 0 3 0', 'self.R;0 1 0 0', 'self.D;0 0 0 0',\n",
    "                      'self.L;0 0 3 0', 'self.instance;']\n",
    "    elif size == 9:\n",
    "        ScyscrInfo = ['self.U;1 2 3 3 4 3 2 2 4',\n",
    "                  'self.R;4 3 2 2 3 3 4 3 1', \n",
    "                  'self.D;4 4 2 3 2 3 3 3 1', \n",
    "                  'self.L;1 2 4 2 3 3 2 4 5', \n",
    "                  'self.instance;0,1,3 0,8,4 1,2,1 1,4,6 1,8,7 2,0,2 2,1,6 3,2,5 3,6,4 3,7,2 3,8,8 4,0,6 4,2,2 4,3,5 5,6,9 5,7,5 6,7,3 7,1,5 7,5,8 8,0,3 8,3,2 8,7,6']\n",
    "    return (size, ScyscrInfo)\n",
    "\n",
    "size, ScyscrInfo = example(size = 3)\n",
    "size, ScyscrInfo"
   ]
  },
  {
   "cell_type": "code",
   "execution_count": 3,
   "metadata": {},
   "outputs": [],
   "source": [
    "class z3_PKHG_Scy_solver(SudokuConditions):\n",
    "    def __init__(self, size, DBG, Info):\n",
    "        SudokuConditions.__init__(self, size, DBG)\n",
    "        self.ScyscrInfo = Info\n",
    "        #DBG print(self.size)\n",
    "        #DBG print(self.instance)\n",
    "        self.U, self.R, self.D, self.L = self.makeRanden() #yet empty\n",
    "        self.fillRandenInstance()\n",
    "        self.instance_c = [ If(self.instance[i][j] == 0,\n",
    "                  True,\n",
    "                  self.A[i][j] == self.instance[i][j])\n",
    "               for i in range(size) for j in range(self.size) ]\n",
    "        self.elmTODO = self.givenElements()\n",
    "        #print('DBG PKHG LL14 elmTODO {}'.format(self.elmTODO))\n",
    "        self.scyscraper_c = self.makeCondData()\n",
    "        self.stDD = self.cells_c + self.rows_c + self.cols_c + self.instance_c\n",
    "        \n",
    "        print('\\n\\nSolving prepared')\n",
    "     \n",
    "    def makeCondData(self):\n",
    "        size = self.size\n",
    "        end_result = []\n",
    "        def w_elements_str(side, nr): #rembemer, this is for 6x6 puzzle\n",
    "            result = []\n",
    "            if side == 'self.U': #from above to below\n",
    "                for i in range(size):\n",
    "                    #res = ('AA[' + str(i) + '][' + str(nr) + ']')\n",
    "                    result.append('self.A[' + str(i) + '][' + str(nr) + ']') # U measn from 1 to size downwards colum nr\n",
    "            elif side == 'self.L':  # from left to right\n",
    "                for i in range(size):\n",
    "                    #result.append(A[nr][i])\n",
    "                    result.append('self.A[' + str(nr) + '][' + str(i) + ']')\n",
    "            elif side == 'self.R':  #form right to left\n",
    "                for i in range(size -1, -1, -1):\n",
    "                    #result.append(A[nr][i]) # U measn from 1 to size downwards colum nr\n",
    "                    result.append('self.A[' + str(nr) + '][' + str(i) + ']')\n",
    "            elif side == 'self.D':  #form right to left\n",
    "                for i in range(size -1, -1, -1):\n",
    "                    result.append('self.A[' + str(i) + '][' + str(nr) + ']')\n",
    "            return result\n",
    "\n",
    "        doThese = self.elmTODO\n",
    "        #DBG print('DBGLL43 doThese {} + len {}'.format(doThese, len(doThese)))\n",
    "        #DBGLL43 doThese [['self.U', [0, 3], [1, 2], [2, 1]], ['self.L'],\n",
    "        #['self.R', [1, 2], [2, 2]], ['self.D']]\n",
    "        for toth in doThese:\n",
    "            if len(toth) == 1:\n",
    "                #DBG print('DBG LL49 eval(toth[0]) {}'.format(eval(toth[0])))\n",
    "                #DBG LL46 eval(toth[0]) [d0, d1, d2]  #OK\n",
    "                continue\n",
    "            #DBG print('DBG LL53 REST toth {}'.format(toth[1:]))\n",
    "            name = toth[0]\n",
    "            #DBG print('DBFG LL76 name = {}'.format(name))\n",
    "            for doGeg in toth[1:]:\n",
    "                #DBG print('DBG LL57 doGeg = {} '.format(doGeg))\n",
    "                result = []\n",
    "                nr = doGeg[0]\n",
    "                if name == 'self.U': #from above to below\n",
    "                    for i in range(size):\n",
    "                        #res = ('AA[' + str(i) + '][' + str(nr) + ']')\n",
    "                        result.append('self.A[' + str(i) + '][' + str(nr) + ']') # U measn from 1 to size downwards colum nr\n",
    "                elif name == 'self.L':  # from left to right\n",
    "                    for i in range(size):\n",
    "                        #result.append(A[nr][i])\n",
    "                        result.append('self.A[' + str(nr) + '][' + str(i) + ']')\n",
    "                elif name == 'self.R':  #form right to left\n",
    "                    for i in range(size -1, -1, -1):\n",
    "                        #result.append(A[nr][i]) # U measn from 1 to size downwards colum nr\n",
    "                        result.append('self.A[' + str(nr) + '][' + str(i) + ']')\n",
    "                elif name == 'self.D':  #form right to left\n",
    "                    for i in range(size -1, -1, -1):\n",
    "                        result.append('self.A[' + str(i) + '][' + str(nr) + ']')\n",
    "                #DBG print('DBG LL95 result {}'.format(result))\n",
    "                result = [result]\n",
    "                result.append(doGeg[1])\n",
    "                #now the ScyScraper for z3 has to be created\n",
    "                newResult = [] #initialize\n",
    "                bgi = result\n",
    "                #DBG print('DBG LL80 bgi = {}'.format(bgi))\n",
    "                \n",
    "                l_As, l_val = bgi\n",
    "                #DBG print('DBG 15:47 LL106 l_As = {} l_val = {}'.format(l_As, l_val))\n",
    "                \n",
    "                tijdelijk = [1, eval('If(' +  l_As[1] + ' > ' + l_As[0] + ', 1, 0)')]\n",
    "                #tmp = result[1]\n",
    "                newResult = tijdelijk\n",
    "                #DBG print('DBG PKHGTIJDELIJK LL111 tijdelijk {}'.format(tijdelijk))\n",
    "                      \n",
    "                #DBG print('DBG LL135  tmp = {} newResult = {}'.format(tmp, newResult))\n",
    "                helper = 'self.myMax(' + l_As[0] + ',' + l_As[1] + ')'\n",
    "                #DBG print('DBG LL138 l_As[2:] = {}'.format(l_As[2:]))\n",
    "                for i, el in enumerate(l_As[2:]):\n",
    "                    newResult.append(eval('If(' + el + ' > ' + helper + ', 1, 0 )'))\n",
    "                    helper = 'self.myMax(' + l_As[i + 2] + ', ' + helper + ')'\n",
    "                end_result.append(Sum(newResult) == l_val)\n",
    "                #DBG print('DBGLL114 end_result[-1] = {}'.format(end_result[-1]))\n",
    "                \n",
    "        return end_result\n",
    "                #res = w_elements_str(name, doGeg)\n",
    "                #print('dbg LL79 res = {}'.format(res))\n",
    "  \n",
    "    def myMax(self, A, B):\n",
    "         return If(A > B, A, B)  \n",
    "        \n",
    "    def makeRanden(self):\n",
    "        \"\"\"\n",
    "        make 4 empty z3 borderarrays ,e.g. self.U] = [u0, u1, ... u(size-1) ] \n",
    "        \"\"\"\n",
    "        size = self.size\n",
    "        result = []\n",
    "        randen = ['u','r','d','l']\n",
    "        for letter in randen:\n",
    "            capL = 'self.' + letter.upper()\n",
    "            tmp = capL + ' = [ Int(\"' + letter + '%s\" % (i)) for i in range('+ str(size) + ')]'\n",
    "            #DBG print(tmp)\n",
    "            exec(tmp)\n",
    "            result.append(eval(capL))\n",
    "        return result\n",
    "\n",
    "    def fillRandenInstance(self):\n",
    "        \"\"\"\n",
    "        z3Bordernames alreay done in __init__\n",
    "        given bordernumbers are inserted\n",
    "        \"\"\"\n",
    "        bordernames = ['self.U', 'self.R', 'self.D', 'self.L']\n",
    "        for i, el in enumerate(self.ScyscrInfo):\n",
    "            if i < 4:\n",
    "                thisBorderInfo = el[7:].split(' ')\n",
    "                for j in range(self.size):\n",
    "                    tmp = bordernames[i] + '[' + str(j) + ']='\n",
    "                    if thisBorderInfo[j] == '0': #not given border\n",
    "                        continue\n",
    "                    tmp += thisBorderInfo[j] \n",
    "                    #DBG print('DBG LL40 tmp {}'.format(tmp))\n",
    "                    exec(tmp)\n",
    "                #vals = el[7:].split(' ')\n",
    "                #DBG print(vals)\n",
    "            else:\n",
    "                #DBG print('len(el) {} '.format(len(el[14:])))\n",
    "                if len(el) == 14:\n",
    "                    print('Info: no internal numbers given')\n",
    "                else:\n",
    "                    triples = el[14:].split(' ')\n",
    "                    #8x8: ['0,7,4', '1,6,1', '2,0,6', '3,4,1', '3,5,7', '4,2,2', '5,3,6', '6,6,5']\n",
    "                    #DBG print('DBG LL51 triples = {}'.format(triples))\n",
    "                    for cova in triples:\n",
    "                        xx,yy,ww = cova.split(',')\n",
    "                        self.instance[int(xx)][int(yy)] = int(ww)\n",
    "    \n",
    "    def givenElements(self):\n",
    "        elm = ['self.U', 'self.L', 'self.R', 'self.D']\n",
    "        results = []\n",
    "        for name in elm:\n",
    "            tmp = [name]\n",
    "            obj = eval(name)\n",
    "            for i, el in enumerate(obj):\n",
    "                if type(el) == type(1):\n",
    "                    tmp.append([i, el])\n",
    "            results.append(tmp)\n",
    "        return results\n",
    "\n",
    "    def runthesolver(self, countmax=2):   \n",
    "        self.countmax = countmax\n",
    "        startdata = self.stDD.copy()  + self.scyscraper_c\n",
    "        size = self.size\n",
    "        count = 0\n",
    "        countmax = 2 #if there are more than on solution\n",
    "        z3solver = Solver()\n",
    "        z3solver.add(startdata)\n",
    "        while z3solver.check() == sat and count < self.countmax:\n",
    "            count += 1\n",
    "            print('count = ', count)\n",
    "            m = z3solver.model()\n",
    "            r = [ [ m.evaluate(self.A[i][j]) for j in range(size) ]  for i in range(size) ]\n",
    "            for rij in r:\n",
    "                print(rij)\n",
    "            vals = [self.A[i][j] == m.evaluate(self.A[i][j]) for j in range(size)  for i in range(size)]\n",
    "            z3solver.add(Not(And(vals)))\n",
    "        if count == 0:\n",
    "            print('unsat')\n",
    "        elif count == 1:\n",
    "            print(\"\\n====thanks to z3 ;-) =========\\n\")\n",
    "            print('THE solution found')\n",
    "        elif count <= self.countmax:\n",
    "            print('all solutions found, wrong puzzle or input errors')\n",
    "        else:\n",
    "            print('count = {} '.format(count), '\\nmaybe more solutions possible!')\n",
    "  \n",
    "                                             \n",
    "        "
   ]
  },
  {
   "cell_type": "code",
   "execution_count": 4,
   "metadata": {},
   "outputs": [
    {
     "data": {
      "text/plain": [
       "(9,\n",
       " ['self.U;1 2 3 3 4 3 2 2 4',\n",
       "  'self.R;4 3 2 2 3 3 4 3 1',\n",
       "  'self.D;4 4 2 3 2 3 3 3 1',\n",
       "  'self.L;1 2 4 2 3 3 2 4 5',\n",
       "  'self.instance;0,1,3 0,8,4 1,2,1 1,4,6 1,8,7 2,0,2 2,1,6 3,2,5 3,6,4 3,7,2 3,8,8 4,0,6 4,2,2 4,3,5 5,6,9 5,7,5 6,7,3 7,1,5 7,5,8 8,0,3 8,3,2 8,7,6'])"
      ]
     },
     "execution_count": 4,
     "metadata": {},
     "output_type": "execute_result"
    }
   ],
   "source": [
    "size, ScyscrInfo = example(size = 9)\n",
    "size, ScyscrInfo"
   ]
  },
  {
   "cell_type": "code",
   "execution_count": 5,
   "metadata": {
    "scrolled": true
   },
   "outputs": [
    {
     "name": "stdout",
     "output_type": "stream",
     "text": [
      "got: size = 9\n",
      "A, cells_c, rows_c, cols_c , instance NOW in SC available\n",
      "\n",
      "\n",
      "Solving prepared\n"
     ]
    }
   ],
   "source": [
    "#M = None\n",
    "M = z3_PKHG_Scy_solver(size,1, ScyscrInfo)"
   ]
  },
  {
   "cell_type": "code",
   "execution_count": 6,
   "metadata": {},
   "outputs": [
    {
     "name": "stdout",
     "output_type": "stream",
     "text": [
      "count =  1\n",
      "[9, 3, 6, 1, 2, 5, 8, 7, 4]\n",
      "[5, 9, 1, 8, 6, 2, 3, 4, 7]\n",
      "[2, 6, 8, 3, 5, 4, 7, 9, 1]\n",
      "[7, 1, 5, 9, 3, 6, 4, 2, 8]\n",
      "[6, 7, 2, 5, 4, 9, 1, 8, 3]\n",
      "[1, 8, 4, 6, 7, 3, 9, 5, 2]\n",
      "[8, 2, 9, 4, 1, 7, 6, 3, 5]\n",
      "[4, 5, 3, 7, 9, 8, 2, 1, 6]\n",
      "[3, 4, 7, 2, 8, 1, 5, 6, 9]\n",
      "\n",
      "====thanks to z3 ;-) =========\n",
      "\n",
      "THE solution found\n"
     ]
    }
   ],
   "source": [
    "M.runthesolver()"
   ]
  },
  {
   "cell_type": "code",
   "execution_count": 7,
   "metadata": {},
   "outputs": [
    {
     "data": {
      "text/plain": [
       "36"
      ]
     },
     "execution_count": 7,
     "metadata": {},
     "output_type": "execute_result"
    }
   ],
   "source": [
    "len(M.scyscraper_c)"
   ]
  },
  {
   "cell_type": "code",
   "execution_count": 8,
   "metadata": {},
   "outputs": [
    {
     "data": {
      "text/plain": [
       "([1, 2, 3, 3, 4, 3, 2, 2, 4],\n",
       " [4, 3, 2, 2, 3, 3, 4, 3, 1],\n",
       " [4, 4, 2, 3, 2, 3, 3, 3, 1],\n",
       " [1, 2, 4, 2, 3, 3, 2, 4, 5],\n",
       " [[0, 3, 0, 0, 0, 0, 0, 0, 4],\n",
       "  [0, 0, 1, 0, 6, 0, 0, 0, 7],\n",
       "  [2, 6, 0, 0, 0, 0, 0, 0, 0],\n",
       "  [0, 0, 5, 0, 0, 0, 4, 2, 8],\n",
       "  [6, 0, 2, 5, 0, 0, 0, 0, 0],\n",
       "  [0, 0, 0, 0, 0, 0, 9, 5, 0],\n",
       "  [0, 0, 0, 0, 0, 0, 0, 3, 0],\n",
       "  [0, 5, 0, 0, 0, 8, 0, 0, 0],\n",
       "  [3, 0, 0, 2, 0, 0, 0, 6, 0]])"
      ]
     },
     "execution_count": 8,
     "metadata": {},
     "output_type": "execute_result"
    }
   ],
   "source": [
    "M.U, M.R, M.D, M.L, M.instance"
   ]
  },
  {
   "cell_type": "code",
   "execution_count": 9,
   "metadata": {},
   "outputs": [
    {
     "name": "stdout",
     "output_type": "stream",
     "text": [
      "A\n",
      "D\n",
      "L\n",
      "R\n",
      "ScyscrInfo\n",
      "U\n",
      "cells_c\n",
      "cols_c\n",
      "countmax\n",
      "elmTODO\n",
      "fillRandenInstance\n",
      "givenElements\n",
      "instance\n",
      "instance_c\n",
      "makeCondData\n",
      "makeRanden\n",
      "myMax\n",
      "randen\n",
      "rows_c\n",
      "runthesolver\n",
      "scyscraper_c\n",
      "size\n",
      "stDD\n"
     ]
    }
   ],
   "source": [
    "for el in dir(M):\n",
    "    if el.startswith('_'):\n",
    "        continue\n",
    "    print(el)"
   ]
  },
  {
   "cell_type": "code",
   "execution_count": 10,
   "metadata": {},
   "outputs": [
    {
     "name": "stdout",
     "output_type": "stream",
     "text": [
      "got: size = 3\n",
      "A, cells_c, rows_c, cols_c , instance NOW in SC available\n",
      "Info: no internal numbers given\n",
      "\n",
      "\n",
      "Solving prepared\n",
      "count =  1\n",
      "[1, 2, 3]\n",
      "[2, 3, 1]\n",
      "[3, 1, 2]\n",
      "\n",
      "====thanks to z3 ;-) =========\n",
      "\n",
      "THE solution found\n",
      "got: size = 4\n",
      "A, cells_c, rows_c, cols_c , instance NOW in SC available\n",
      "Info: no internal numbers given\n",
      "\n",
      "\n",
      "Solving prepared\n",
      "count =  1\n",
      "[2, 4, 1, 3]\n",
      "[3, 1, 2, 4]\n",
      "[1, 3, 4, 2]\n",
      "[4, 2, 3, 1]\n",
      "\n",
      "====thanks to z3 ;-) =========\n",
      "\n",
      "THE solution found\n",
      "got: size = 8\n",
      "A, cells_c, rows_c, cols_c , instance NOW in SC available\n",
      "\n",
      "\n",
      "Solving prepared\n",
      "count =  1\n",
      "[5, 1, 7, 8, 2, 6, 3, 4]\n",
      "[2, 7, 6, 4, 8, 3, 1, 5]\n",
      "[6, 5, 3, 2, 4, 1, 8, 7]\n",
      "[8, 6, 4, 5, 1, 7, 2, 3]\n",
      "[7, 8, 2, 1, 3, 5, 4, 6]\n",
      "[4, 3, 1, 6, 5, 2, 7, 8]\n",
      "[3, 2, 8, 7, 6, 4, 5, 1]\n",
      "[1, 4, 5, 3, 7, 8, 6, 2]\n",
      "\n",
      "====thanks to z3 ;-) =========\n",
      "\n",
      "THE solution found\n",
      "got: size = 9\n",
      "A, cells_c, rows_c, cols_c , instance NOW in SC available\n",
      "\n",
      "\n",
      "Solving prepared\n",
      "count =  1\n",
      "[9, 3, 6, 1, 2, 5, 8, 7, 4]\n",
      "[5, 9, 1, 8, 6, 2, 3, 4, 7]\n",
      "[2, 6, 8, 3, 5, 4, 7, 9, 1]\n",
      "[7, 1, 5, 9, 3, 6, 4, 2, 8]\n",
      "[6, 7, 2, 5, 4, 9, 1, 8, 3]\n",
      "[1, 8, 4, 6, 7, 3, 9, 5, 2]\n",
      "[8, 2, 9, 4, 1, 7, 6, 3, 5]\n",
      "[4, 5, 3, 7, 9, 8, 2, 1, 6]\n",
      "[3, 4, 7, 2, 8, 1, 5, 6, 9]\n",
      "\n",
      "====thanks to z3 ;-) =========\n",
      "\n",
      "THE solution found\n"
     ]
    }
   ],
   "source": [
    "for exam in [3,4,8,9]:\n",
    "    size, ScyscrInfo = example(size = exam)\n",
    "    size, ScyscrInfo\n",
    "    M = z3_PKHG_Scy_solver(size,1, ScyscrInfo)\n",
    "    M.runthesolver()"
   ]
  },
  {
   "cell_type": "code",
   "execution_count": 12,
   "metadata": {},
   "outputs": [
    {
     "name": "stdout",
     "output_type": "stream",
     "text": [
      "sol4x4_31aug.png sol6x6_14aug.png sol8x8_20aug.png sol9x9_0609.png\r\n"
     ]
    }
   ],
   "source": [
    "!ls sol*.*"
   ]
  },
  {
   "cell_type": "markdown",
   "metadata": {},
   "source": [
    "# 4x4 test 31 src contains date\n",
    "# try this one, (my first 6x6 solved) ;-)\n",
    "<img src=\"sol6x6_14aug.png\" />\n",
    "\n",
    "<img src='sol4x4_31aug.png'/>\n",
    "\n",
    "<img src=\"sol8x8_20aug.png\"/>\n",
    "\n",
    "<img src=\"sol9x9_0609.png\">"
   ]
  },
  {
   "cell_type": "code",
   "execution_count": 13,
   "metadata": {},
   "outputs": [
    {
     "name": "stdout",
     "output_type": "stream",
     "text": [
      "zero based counting! first column is col number 0 etc.\n",
      "x,y zero based coordinates w given border value\n",
      "if 2 or more bordervalues are given use ONE space as seperator token\n",
      "have a look of the possible examples, in this notebook\n"
     ]
    },
    {
     "data": {
      "text/plain": [
       "['self.U;0 0 0 0 0 0',\n",
       " 'self.R;0 0 0 0 0 0',\n",
       " 'self.D;0 0 0 0 0 0',\n",
       " 'self.L;0 0 0 0 0 0',\n",
       " 'self.instance;x,y,w 0,0,0']"
      ]
     },
     "execution_count": 13,
     "metadata": {},
     "output_type": "execute_result"
    }
   ],
   "source": [
    "maakStartVals(6)"
   ]
  },
  {
   "cell_type": "markdown",
   "metadata": {},
   "source": [
    "# new special scyscraper puzzle (see picture)\n",
    "<img src=\"start6x6_1408.png\"/>"
   ]
  },
  {
   "cell_type": "code",
   "execution_count": 14,
   "metadata": {},
   "outputs": [],
   "source": [
    "# From left to right resp. up to down\n",
    "ScyscrInfo = [\n",
    " 'self.U;0 0 0 0 3 0', #the 4 removed for more solutions (exactly 4 ;-) )\n",
    " 'self.R;3 0 5 0 4 0', # if 1,3,1 is given ==> one solution!\n",
    " 'self.D;0 0 0 0 3 3',\n",
    " 'self.L;3 0 1 2 0 3',\n",
    " 'self.instance;'] #two solutions   one condition more needed e.g. next line\n",
    " #'self.instance;1,3,1'] #Without unsat ? no inside values?!"
   ]
  },
  {
   "cell_type": "code",
   "execution_count": 15,
   "metadata": {
    "scrolled": true
   },
   "outputs": [
    {
     "name": "stdout",
     "output_type": "stream",
     "text": [
      "A, cells_c, rows_c, cols_c , instance NOW in SC available\n",
      "Info: no internal numbers given\n",
      "\n",
      "\n",
      "Solving prepared\n"
     ]
    }
   ],
   "source": [
    "M4 = z3_PKHG_Scy_solver(6 , 0, ScyscrInfo)"
   ]
  },
  {
   "cell_type": "code",
   "execution_count": 16,
   "metadata": {},
   "outputs": [
    {
     "name": "stdout",
     "output_type": "stream",
     "text": [
      "count =  1\n",
      "[1, 5, 2, 6, 4, 3]\n",
      "[3, 2, 4, 1, 5, 6]\n",
      "[6, 4, 5, 3, 2, 1]\n",
      "[4, 1, 3, 2, 6, 5]\n",
      "[5, 6, 1, 4, 3, 2]\n",
      "[2, 3, 6, 5, 1, 4]\n",
      "count =  2\n",
      "[2, 1, 5, 6, 4, 3]\n",
      "[3, 4, 1, 2, 5, 6]\n",
      "[6, 5, 4, 3, 1, 2]\n",
      "[4, 2, 3, 1, 6, 5]\n",
      "[5, 6, 2, 4, 3, 1]\n",
      "[1, 3, 6, 5, 2, 4]\n",
      "count =  3\n",
      "[1, 5, 2, 6, 4, 3]\n",
      "[3, 1, 4, 2, 5, 6]\n",
      "[6, 4, 5, 3, 2, 1]\n",
      "[4, 2, 3, 1, 6, 5]\n",
      "[5, 6, 1, 4, 3, 2]\n",
      "[2, 3, 6, 5, 1, 4]\n",
      "count =  4\n",
      "[1, 5, 2, 6, 4, 3]\n",
      "[3, 2, 1, 4, 5, 6]\n",
      "[6, 4, 5, 3, 2, 1]\n",
      "[4, 1, 3, 2, 6, 5]\n",
      "[5, 6, 4, 1, 3, 2]\n",
      "[2, 3, 6, 5, 1, 4]\n",
      "all solutions found, wrong puzzle or input errors\n"
     ]
    }
   ],
   "source": [
    "M4.runthesolver(countmax = 5)"
   ]
  },
  {
   "cell_type": "markdown",
   "metadata": {},
   "source": [
    "<img src=\"sol6x6_14aug.png\" />"
   ]
  },
  {
   "cell_type": "code",
   "execution_count": null,
   "metadata": {},
   "outputs": [],
   "source": []
  }
 ],
 "metadata": {
  "kernelspec": {
   "display_name": "Python 3",
   "language": "python",
   "name": "python3"
  },
  "language_info": {
   "codemirror_mode": {
    "name": "ipython",
    "version": 3
   },
   "file_extension": ".py",
   "mimetype": "text/x-python",
   "name": "python",
   "nbconvert_exporter": "python",
   "pygments_lexer": "ipython3",
   "version": "3.7.3"
  }
 },
 "nbformat": 4,
 "nbformat_minor": 2
}
