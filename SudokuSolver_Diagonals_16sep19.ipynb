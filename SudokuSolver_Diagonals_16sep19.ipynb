{
 "cells": [
  {
   "cell_type": "markdown",
   "metadata": {},
   "source": [
    "# this is a Sudoku-Solver from WWW (see below)\n",
    "Adjusted in two ways:\n",
    "### 1: if a puzzle has more than ONE solution (so not really a puzzle)\n",
    "the number of tries can be set (default is maximal 2)\n",
    "### 2: default this SudokuSolver tries to set the diagonals too to 1..9"
   ]
  },
  {
   "cell_type": "markdown",
   "metadata": {},
   "source": [
    "# www\n",
    " https://raw.githubusercontent.com/ppmx/sudoku-solver/master/sudoku-z3.py\n",
    " \n",
    " https://github.com/ppmx/sudoku-solver/blob/master/sudoku-z3.py\n",
    " "
   ]
  },
  {
   "cell_type": "code",
   "execution_count": 1,
   "metadata": {},
   "outputs": [],
   "source": [
    "#some global initializations:\n",
    "\n",
    "from z3 import *\n",
    "\n",
    "def show_obj(obj):\n",
    "    for el in dir(obj):\n",
    "        if el.startswith('_'):\n",
    "            continue\n",
    "        print(el)\n",
    "\n",
    "#ONE solution with diags \n",
    "default_start = \"..1........6.4........51.93..4.......92...57.......9..45.79........8.2........7..\"\n",
    "\n",
    "#next default_start with TWO solution (diagonal too)\n",
    "default_diagonal_two_solutions ='..1........6.4........51.93..4.......92...57.......9..45.79..........2........7..'\n",
    "\n",
    "def two_concat(A, B):   #name cross changed ;-)\n",
    "    return [(a + b) for a in A for b in B]\n",
    "\n",
    "#diagonal Sudoku uit **5** in Sudoku Lente (van Heike)\n",
    "# \"..1........6.4........51.93..4.......92...57.......9..45.79........8.2........7..\"\n",
    "\n",
    "givenElements = []"
   ]
  },
  {
   "cell_type": "code",
   "execution_count": 2,
   "metadata": {
    "scrolled": false
   },
   "outputs": [],
   "source": [
    "class SudokuPKHG:\n",
    "    \"\"\"\n",
    "    An adjusted Sudoku-Solver from\n",
    "    https://github.com/ppmx/sudoku-solver/blob/master/sudoku-z3.py\n",
    "    sudoku-z3.py could run in a Terminal or python-notebook\n",
    "\n",
    "    THIs class has a second parameter 'diagonalen' as default\n",
    "    to force 'both' diagonals to be distinct too!\n",
    "    \n",
    "    you may use '' or 'R' or 'L' for three different approaches:\n",
    "    diagonalen = '' for a normal Sudoku\n",
    "    diagonalen = 'L' for a Sudoku with Left to right diagonal 1..9\n",
    "    diagonalen = 'R' for a Sudoku with Right to left diagonal 1..9\n",
    "    \n",
    "    \"\"\"\n",
    "    def __init__(self, inputstr=default_start, diagonalen = 'LR'):\n",
    "        global givenElements\n",
    "        self.print_Sudoku(inputstr)\n",
    "        self.puzzle = inputstr\n",
    "        self.diagonalen = diagonalen\n",
    "        #self.sudoku_dict = self.parse_grid(self.puzzle)\n",
    "        self.elements = self.parse_grid()\n",
    "        self.BaseSizeInfo = []\n",
    "        self.ins = []\n",
    "        self.givenNams = []\n",
    "        for nam, val  in self.elements.items():\n",
    "            if val == '.':\n",
    "                continue\n",
    "            self.givenNams.append(nam)\n",
    "            givenElements.append([nam,int(val)])\n",
    "            sme = Int(nam) == int(val)\n",
    "            self.BaseSizeInfo.append(sme)\n",
    "            #print('dbg L14 sme =  BaseSizeInfo[-1] = {}'.format(sme))\n",
    "            #print('dbg L13 givenElements {}'.format(givenElements))\n",
    "        nam81 = two_concat(\"ABCDEFGHI\", \"123456789\")\n",
    "        self.symbs = {e: Int(e) for e in nam81 } #a dict of 'A1': A1, ...\n",
    "        #print('DBG L20 symbols = {}'.format(self.symbs))\n",
    "      \n",
    "        # assure that every cell holds a value of [1,9]\n",
    "      \n",
    "        ### hier invoegen\n",
    "        self.Anames = {}\n",
    "        allnames = two_concat('ABCDEFGHI','123456789')\n",
    "        for i, el in enumerate(allnames):\n",
    "            #print('L34 el {}'.format(el))\n",
    "            tmp = default_start[i]\n",
    "            if tmp == '.':\n",
    "                self.Anames[el] = Int(el)\n",
    "            else:\n",
    "                tmp = int(default_start[i])\n",
    "                #print(tmp)\n",
    "                self.Anames[el] = Int(el) #??? mag niet?Int(tmp) ==  tmp\n",
    "        self.cells_c = []\n",
    "        for el in allnames:\n",
    "            self.cells_c.append(And(Int(el) >= 1, Int(el) <= 9)) #??? self.Anames[el])\n",
    "            \n",
    "            # or to try yourself ;-)\n",
    "            #self.cells_c.append(Or([Int(el) == i for i in range(1,10)])) #??? self.Anames[el])\n",
    "\n",
    "        # assure that every row covers every value: \n",
    "        self.rows_c = []\n",
    "        for row in \"ABCDEFGHI\":\n",
    "            #print('\\n DBG')\n",
    "            #self.rows_c.append(Distinct([Int(row + col) for col in \"123456789\"]))\n",
    "            self.rows_c.append(Distinct([Int(row + col) for col in \"123456789\"]))\n",
    "        \n",
    "        # assure that every column covers every value:\n",
    "        self.cols_c = []\n",
    "        for col in \"123456789\":\n",
    "            self.cols_c.append( Distinct([Int(row + col) for row in \"ABCDEFGHI\"]))\n",
    "        self.nxn_c = []\n",
    "        \n",
    "        # assure that every block covers every value:\n",
    "        for i in range(3):\n",
    "            for j in range(3):\n",
    "                el = [Int(\"ABCDEFGHI\"[m + i * 3] + \"123456789\"[n + j * 3]) \\\n",
    "                                           for m in range(3) for n in range(3)]\n",
    "                self.nxn_c.append(Distinct(el))\n",
    "                #self.nxn_c.append(Sum(el) == 45)\n",
    "        \n",
    "        ## if diagonals must be 1 .. 9 too:\n",
    "        self.diag_LR_c = []\n",
    "        self.diag_RL_c = []\n",
    "        if type(self.diagonalen) == type(''):\n",
    "            print('\\n_________DBG L75______\\n string {}\\n'.format(self.diagonalen)) \n",
    "            if 'L' in self.diagonalen:\n",
    "                LR = [Int(el + str(i + 1)) for i, el in enumerate('ABCDEFGHI')] \n",
    "                print('DBG LR {}'.format(LR))\n",
    "                self.diag_LR_c = [Distinct([el for el in LR])]\n",
    "            if 'R' in self.diagonalen:\n",
    "                RL = [Int(el + str( 9 - i )) for i, el in enumerate('ABCDEFGHI')]\n",
    "                print('DBG RL {}'.format(RL))\n",
    "                self.diag_RL_c = [Distinct([el for el in RL])]\n",
    "   \n",
    "    def print_Sudoku(self, all81):\n",
    "        \"\"\"\n",
    "    print a Sudoku (a list of  81 given elements, a '?')\n",
    "    Example all81\n",
    "    all81 ='..1........6.4........51.93..4.......92...57.......9..45.79........8.2........7..'\n",
    "    OR\n",
    "    all81 = list(all81) for conviniance\n",
    "        \"\"\"\n",
    "        all81_str =  ''\n",
    "        if type(all81) == type([]):\n",
    "            all81 = ''.join(all81)\n",
    "        all81_str = all81 # ''.join(all81) #''.join(all81) #conversion to ONE 81 long string\n",
    "        for i in '123456789':\n",
    "            all81_str = all81_str.replace(i, ' ' + i + ' ')\n",
    "        all81_str = all81_str.replace('.',' . ')\n",
    "          \n",
    "        aLL = [  all81_str[i * 27: i * 27 + 27] for i in range(9)]\n",
    "        #plit into 9 lines\n",
    "    \n",
    "        result = []\n",
    "          \n",
    "        bo = '-'*10 + '.' +'-'*9 + '.' + '-'*10\n",
    "        for i in range(9):\n",
    "            if i % 3 == 0:\n",
    "                print(bo)\n",
    "            row = aLL[i]\n",
    "        #print(row)\n",
    "            row1 = [ row[i * 9: i * 9 + 9]  for i in range(3)]\n",
    "            row1nn = '|' + '|'.join(row1) + '|'\n",
    "            print(row1nn)\n",
    "        print(bo)\n",
    "        return 'done'\n",
    "\n",
    "\n",
    "    def parse_grid(self):\n",
    "        \"\"\"\n",
    "        from sudoku-z3.py see links\n",
    "        \n",
    "        A1 A2 A3 | A4 A5 A6 | A7 A8 A9\n",
    "        B1 B2 B3 | B4 B5 B6 | B7 B8 B9\n",
    "        C1 C2 C3 | C4 C5 C6 | C7 C8 C9\n",
    "        –––––––––+––––––––––+–––––––––\n",
    "        D1 D2 D3 | D4 D5 D6 | D7 D8 D9\n",
    "        E1 E2 E3 | E4 E5 E6 | E7 E8 E9\n",
    "        F1 F2 F3 | F4 F5 F6 | F7 F8 F9\n",
    "        –––––––––+––––––––––+–––––––––\n",
    "        G1 G2 G3 | G4 G5 G6 | G7 G8 G9\n",
    "        H1 H2 H3 | H4 H5 H6 | H7 H8 H9\n",
    "        I1 I2 I3 | I4 I5 I6 | I7 I8 I9\n",
    "\n",
    "        puzzle = 'A1A2A3A4...' and every element holds a value of '123456789.'\n",
    "        where the dot represents an empty cell.\n",
    "        \"\"\"\n",
    "        puzzle = self.puzzle\n",
    "        s = dict()\n",
    "\n",
    "        if any(c not in \"123456789.\" for c in puzzle) or len(puzzle) != 81:\n",
    "            raise Exception(\"got invalid puzzle format\")\n",
    "\n",
    "        elements = two_concat(\"ABCDEFGHI\", \"123456789\")\n",
    "        s = {e: v for e,v in zip(elements, puzzle)}\n",
    "        return s\n",
    "    \n",
    "    def run_z3(self, cmax=2):\n",
    "        allnames = two_concat('ABCDEFGHI','123456789')\n",
    "        self.countmax = cmax\n",
    "        self.sol = Solver()\n",
    "        self.sol.add(self.BaseSizeInfo)\n",
    "        self.sol.add(self.nxn_c + self.cols_c + self.rows_c + self.cells_c)\n",
    "    \n",
    "        if type(self.diagonalen) == type(''):\n",
    "            if 'L' in self.diagonalen:\n",
    "                LR = [Int(el + str(i + 1)) for i, el in enumerate('ABCDEFGHI')]           \n",
    "                self.diag_LR_c = [Distinct([el for el in LR])]\n",
    "            if 'R' in self.diagonalen:\n",
    "                RL = [Int(el + str( 9 - i )) for i, el in enumerate('ABCDEFGHI')]\n",
    "                self.diag_RL_c = [Distinct([el for el in RL])]\n",
    "    \n",
    "        self.sol.add(self.diag_LR_c) #digagonal from Left to Right\n",
    "        self.sol.add(self.diag_RL_c)\n",
    "        self.count = 0\n",
    "        countmax = self.countmax #if there are more than on solution\n",
    "        self.snu = []\n",
    "        #self.vals1 = []\n",
    "        #self.vals2 = []\n",
    "        solNames = [ Int(i + j) for i in 'ABCDEFGHI' for j in '123456789']\n",
    "        \n",
    "        while self.sol.check() == sat and self.count < countmax:\n",
    "            self.count += 1\n",
    "            print('count = ', self.count) \n",
    "            m = self.sol.model()\n",
    "            self.snu = [m.evaluate(el) for el in solNames] #contains 81 name \n",
    "            r = [[self.snu[i + j * 9] for i in range(9)] for j in range(9)]\n",
    "            for rij in r:\n",
    "                print(rij)\n",
    "            vals =[ Int(el) == m.evaluate(Int(el)) for el in allnames]\n",
    "            \n",
    "            #TO FORCE LOOKING FOR AN OTHER SOLUTION\n",
    "            \n",
    "            self.sol.add(Not(And(vals)))\n",
    "            print(\"\\n=============\\n\")\n",
    "\n",
    "        #while ends here\n",
    "        \n",
    "        if self.count == 0:\n",
    "            print('unsat')\n",
    "        elif self.count == 1:\n",
    "            print('solution found')\n",
    "        else:\n",
    "            print('count = {} '.format(self.count), '\\n but more solutions possible!')\n",
    "  \n",
    "\n"
   ]
  },
  {
   "cell_type": "code",
   "execution_count": 3,
   "metadata": {},
   "outputs": [
    {
     "name": "stdout",
     "output_type": "stream",
     "text": [
      "..1........6.4........51.93..4.......92...57.......9..45.79........8.2........7.. ..1........6.4........51.93..4.......92...57.......9..45.79..........2........7..\n"
     ]
    }
   ],
   "source": [
    "print(default_start, default_diagonal_two_solutions)"
   ]
  },
  {
   "cell_type": "code",
   "execution_count": 4,
   "metadata": {},
   "outputs": [
    {
     "name": "stdout",
     "output_type": "stream",
     "text": [
      "----------.---------.----------\n",
      "| .  .  1 | .  .  . | .  .  . |\n",
      "| .  .  6 | .  4  . | .  .  . |\n",
      "| .  .  . | .  5  1 | .  9  3 |\n",
      "----------.---------.----------\n",
      "| .  .  4 | .  .  . | .  .  . |\n",
      "| .  9  2 | .  .  . | 5  7  . |\n",
      "| .  .  . | .  .  . | 9  .  . |\n",
      "----------.---------.----------\n",
      "| 4  5  . | 7  9  . | .  .  . |\n",
      "| .  .  . | .  8  . | 2  .  . |\n",
      "| .  .  . | .  .  . | 7  .  . |\n",
      "----------.---------.----------\n",
      "\n",
      "_________DBG L75______\n",
      " string RL\n",
      "\n",
      "DBG LR [A1, B2, C3, D4, E5, F6, G7, H8, I9]\n",
      "DBG RL [A9, B8, C7, D6, E5, F4, G3, H2, I1]\n"
     ]
    }
   ],
   "source": [
    "ST = SudokuPKHG(default_start, diagonalen='RL' ) \n",
    "#\"931........6.4........51.93..4.......92...57.......9..45.79........8.2........7..\"\n",
    "\n",
    "#,diagonalen ='RL')"
   ]
  },
  {
   "cell_type": "code",
   "execution_count": 5,
   "metadata": {},
   "outputs": [
    {
     "name": "stdout",
     "output_type": "stream",
     "text": [
      "Help on SudokuPKHG in module __main__ object:\n",
      "\n",
      "class SudokuPKHG(builtins.object)\n",
      " |  SudokuPKHG(inputstr='..1........6.4........51.93..4.......92...57.......9..45.79........8.2........7..', diagonalen='LR')\n",
      " |  \n",
      " |  An adjusted Sudoku-Solver from\n",
      " |  https://github.com/ppmx/sudoku-solver/blob/master/sudoku-z3.py\n",
      " |  sudoku-z3.py could run in a Terminal or python-notebook\n",
      " |  \n",
      " |  THIs class has a second parameter 'diagonalen' as default\n",
      " |  to force 'both' diagonals to be distinct too!\n",
      " |  \n",
      " |  you may use '' or 'R' or 'L' for three different approaches:\n",
      " |  diagonalen = '' for a normal Sudoku\n",
      " |  diagonalen = 'L' for a Sudoku with Left to right diagonal 1..9\n",
      " |  diagonalen = 'R' for a Sudoku with Right to left diagonal 1..9\n",
      " |  \n",
      " |  Methods defined here:\n",
      " |  \n",
      " |  __init__(self, inputstr='..1........6.4........51.93..4.......92...57.......9..45.79........8.2........7..', diagonalen='LR')\n",
      " |      Initialize self.  See help(type(self)) for accurate signature.\n",
      " |  \n",
      " |  parse_grid(self)\n",
      " |      from sudoku-z3.py see links\n",
      " |      \n",
      " |      A1 A2 A3 | A4 A5 A6 | A7 A8 A9\n",
      " |      B1 B2 B3 | B4 B5 B6 | B7 B8 B9\n",
      " |      C1 C2 C3 | C4 C5 C6 | C7 C8 C9\n",
      " |      –––––––––+––––––––––+–––––––––\n",
      " |      D1 D2 D3 | D4 D5 D6 | D7 D8 D9\n",
      " |      E1 E2 E3 | E4 E5 E6 | E7 E8 E9\n",
      " |      F1 F2 F3 | F4 F5 F6 | F7 F8 F9\n",
      " |      –––––––––+––––––––––+–––––––––\n",
      " |      G1 G2 G3 | G4 G5 G6 | G7 G8 G9\n",
      " |      H1 H2 H3 | H4 H5 H6 | H7 H8 H9\n",
      " |      I1 I2 I3 | I4 I5 I6 | I7 I8 I9\n",
      " |      \n",
      " |      puzzle = 'A1A2A3A4...' and every element holds a value of '123456789.'\n",
      " |      where the dot represents an empty cell.\n",
      " |  \n",
      " |  print_Sudoku(self, all81)\n",
      " |      print a Sudoku (a list of  81 given elements, a '?')\n",
      " |      Example all81\n",
      " |      all81 ='..1........6.4........51.93..4.......92...57.......9..45.79........8.2........7..'\n",
      " |      OR\n",
      " |      all81 = list(all81) for conviniance\n",
      " |  \n",
      " |  run_z3(self, cmax=2)\n",
      " |  \n",
      " |  ----------------------------------------------------------------------\n",
      " |  Data descriptors defined here:\n",
      " |  \n",
      " |  __dict__\n",
      " |      dictionary for instance variables (if defined)\n",
      " |  \n",
      " |  __weakref__\n",
      " |      list of weak references to the object (if defined)\n",
      "\n"
     ]
    }
   ],
   "source": [
    "help(ST)"
   ]
  },
  {
   "cell_type": "code",
   "execution_count": 6,
   "metadata": {},
   "outputs": [
    {
     "name": "stdout",
     "output_type": "stream",
     "text": [
      "count =  1\n",
      "[9, 3, 1, 8, 6, 7, 4, 2, 5]\n",
      "[5, 2, 6, 9, 4, 3, 8, 1, 7]\n",
      "[8, 4, 7, 2, 5, 1, 6, 9, 3]\n",
      "[7, 8, 4, 5, 2, 9, 3, 6, 1]\n",
      "[6, 9, 2, 1, 3, 8, 5, 7, 4]\n",
      "[3, 1, 5, 4, 7, 6, 9, 8, 2]\n",
      "[4, 5, 8, 7, 9, 2, 1, 3, 6]\n",
      "[1, 7, 3, 6, 8, 5, 2, 4, 9]\n",
      "[2, 6, 9, 3, 1, 4, 7, 5, 8]\n",
      "\n",
      "=============\n",
      "\n",
      "solution found\n"
     ]
    }
   ],
   "source": [
    "ST.run_z3()"
   ]
  },
  {
   "cell_type": "code",
   "execution_count": 7,
   "metadata": {},
   "outputs": [
    {
     "data": {
      "text/plain": [
       "'..1........6.4........51.93..4.......92...57.......9..45.79........8.2........7..'"
      ]
     },
     "execution_count": 7,
     "metadata": {},
     "output_type": "execute_result"
    }
   ],
   "source": [
    "default_start"
   ]
  },
  {
   "cell_type": "code",
   "execution_count": 8,
   "metadata": {},
   "outputs": [
    {
     "name": "stdout",
     "output_type": "stream",
     "text": [
      "----------.---------.----------\n",
      "| .  .  1 | .  .  . | .  .  . |\n",
      "| .  .  6 | .  4  . | .  .  . |\n",
      "| .  .  . | .  5  1 | .  9  3 |\n",
      "----------.---------.----------\n",
      "| .  .  4 | .  .  . | .  .  . |\n",
      "| .  9  2 | .  .  . | 5  7  . |\n",
      "| .  .  . | .  .  . | 9  .  . |\n",
      "----------.---------.----------\n",
      "| 4  5  . | 7  9  . | .  .  . |\n",
      "| .  .  . | .  .  . | 2  .  . |\n",
      "| .  .  . | .  .  . | 7  .  . |\n",
      "----------.---------.----------\n",
      "\n",
      "_________DBG L75______\n",
      " string LR\n",
      "\n",
      "DBG LR [A1, B2, C3, D4, E5, F6, G7, H8, I9]\n",
      "DBG RL [A9, B8, C7, D6, E5, F4, G3, H2, I1]\n"
     ]
    }
   ],
   "source": [
    "ST2 = SudokuPKHG( default_diagonal_two_solutions)\n",
    "                 "
   ]
  },
  {
   "cell_type": "code",
   "execution_count": 9,
   "metadata": {},
   "outputs": [
    {
     "name": "stdout",
     "output_type": "stream",
     "text": [
      "count =  1\n",
      "[9, 3, 1, 8, 6, 7, 4, 2, 5]\n",
      "[5, 2, 6, 9, 4, 3, 8, 1, 7]\n",
      "[8, 4, 7, 2, 5, 1, 6, 9, 3]\n",
      "[7, 8, 4, 5, 2, 9, 3, 6, 1]\n",
      "[6, 9, 2, 1, 3, 8, 5, 7, 4]\n",
      "[3, 1, 5, 4, 7, 6, 9, 8, 2]\n",
      "[4, 5, 8, 7, 9, 2, 1, 3, 6]\n",
      "[1, 7, 3, 6, 8, 5, 2, 4, 9]\n",
      "[2, 6, 9, 3, 1, 4, 7, 5, 8]\n",
      "\n",
      "=============\n",
      "\n",
      "count =  2\n",
      "[9, 3, 1, 6, 8, 7, 4, 2, 5]\n",
      "[5, 2, 6, 9, 4, 3, 8, 1, 7]\n",
      "[8, 4, 7, 2, 5, 1, 6, 9, 3]\n",
      "[7, 8, 4, 5, 2, 9, 3, 6, 1]\n",
      "[6, 9, 2, 1, 3, 8, 5, 7, 4]\n",
      "[3, 1, 5, 4, 7, 6, 9, 8, 2]\n",
      "[4, 5, 8, 7, 9, 2, 1, 3, 6]\n",
      "[1, 7, 3, 8, 6, 5, 2, 4, 9]\n",
      "[2, 6, 9, 3, 1, 4, 7, 5, 8]\n",
      "\n",
      "=============\n",
      "\n",
      "count = 2  \n",
      " but more solutions possible!\n"
     ]
    }
   ],
   "source": [
    "ST2.run_z3(10)"
   ]
  },
  {
   "cell_type": "code",
   "execution_count": 10,
   "metadata": {},
   "outputs": [],
   "source": [
    "#parsegrid from WWW  help(ST.parse_grid)"
   ]
  },
  {
   "cell_type": "code",
   "execution_count": 11,
   "metadata": {},
   "outputs": [
    {
     "name": "stdout",
     "output_type": "stream",
     "text": [
      "Help on method print_Sudoku in module __main__:\n",
      "\n",
      "print_Sudoku(all81) method of __main__.SudokuPKHG instance\n",
      "    print a Sudoku (a list of  81 given elements, a '?')\n",
      "    Example all81\n",
      "    all81 ='..1........6.4........51.93..4.......92...57.......9..45.79........8.2........7..'\n",
      "    OR\n",
      "    all81 = list(all81) for conviniance\n",
      "\n"
     ]
    }
   ],
   "source": [
    "help(ST.print_Sudoku)"
   ]
  },
  {
   "cell_type": "code",
   "execution_count": 12,
   "metadata": {},
   "outputs": [
    {
     "name": "stdout",
     "output_type": "stream",
     "text": [
      "----------.---------.----------\n",
      "| .  .  1 | .  .  . | .  .  . |\n",
      "| .  .  6 | .  4  . | .  .  . |\n",
      "| .  .  . | .  5  1 | .  9  3 |\n",
      "----------.---------.----------\n",
      "| .  .  4 | .  .  . | .  .  . |\n",
      "| .  9  2 | .  .  . | 5  7  . |\n",
      "| .  .  . | .  .  . | 9  .  . |\n",
      "----------.---------.----------\n",
      "| 4  5  . | 7  9  . | .  .  . |\n",
      "| .  .  . | .  8  . | 2  .  . |\n",
      "| .  .  . | .  .  . | 7  .  . |\n",
      "----------.---------.----------\n",
      "\n",
      "_________DBG L75______\n",
      " string RL\n",
      "\n",
      "DBG LR [A1, B2, C3, D4, E5, F6, G7, H8, I9]\n",
      "DBG RL [A9, B8, C7, D6, E5, F4, G3, H2, I1]\n"
     ]
    }
   ],
   "source": [
    "ST = SudokuPKHG(default_start, diagonalen='RL' ) "
   ]
  },
  {
   "cell_type": "code",
   "execution_count": 13,
   "metadata": {
    "scrolled": false
   },
   "outputs": [
    {
     "name": "stdout",
     "output_type": "stream",
     "text": [
      "count =  1\n",
      "[9, 3, 1, 8, 6, 7, 4, 2, 5]\n",
      "[5, 2, 6, 9, 4, 3, 8, 1, 7]\n",
      "[8, 4, 7, 2, 5, 1, 6, 9, 3]\n",
      "[7, 8, 4, 5, 2, 9, 3, 6, 1]\n",
      "[6, 9, 2, 1, 3, 8, 5, 7, 4]\n",
      "[3, 1, 5, 4, 7, 6, 9, 8, 2]\n",
      "[4, 5, 8, 7, 9, 2, 1, 3, 6]\n",
      "[1, 7, 3, 6, 8, 5, 2, 4, 9]\n",
      "[2, 6, 9, 3, 1, 4, 7, 5, 8]\n",
      "\n",
      "=============\n",
      "\n",
      "solution found\n"
     ]
    }
   ],
   "source": [
    "ST.run_z3(10) #maximal 10 tries"
   ]
  },
  {
   "cell_type": "code",
   "execution_count": 14,
   "metadata": {},
   "outputs": [
    {
     "data": {
      "text/plain": [
       "1"
      ]
     },
     "execution_count": 14,
     "metadata": {},
     "output_type": "execute_result"
    }
   ],
   "source": [
    "ST.count"
   ]
  },
  {
   "cell_type": "code",
   "execution_count": 15,
   "metadata": {},
   "outputs": [
    {
     "name": "stdout",
     "output_type": "stream",
     "text": [
      "----------.---------.----------\n",
      "| .  .  1 | .  .  . | .  .  . |\n",
      "| .  .  6 | .  4  . | .  .  . |\n",
      "| .  .  . | .  5  1 | .  9  3 |\n",
      "----------.---------.----------\n",
      "| .  .  4 | .  .  . | .  .  . |\n",
      "| .  9  2 | .  .  . | 5  7  . |\n",
      "| .  .  . | .  .  . | 9  .  . |\n",
      "----------.---------.----------\n",
      "| 4  5  . | 7  9  . | .  .  . |\n",
      "| .  .  . | .  8  . | 2  .  . |\n",
      "| .  .  . | .  .  . | 7  .  . |\n",
      "----------.---------.----------\n",
      "\n",
      "_________DBG L75______\n",
      " string L\n",
      "\n",
      "DBG LR [A1, B2, C3, D4, E5, F6, G7, H8, I9]\n"
     ]
    }
   ],
   "source": [
    "#forcing A1 .. I9 to be different\n",
    "ST_R =  SudokuPKHG(diagonalen='L' )"
   ]
  },
  {
   "cell_type": "code",
   "execution_count": 16,
   "metadata": {
    "scrolled": false
   },
   "outputs": [
    {
     "name": "stdout",
     "output_type": "stream",
     "text": [
      "count =  1\n",
      "[9, 3, 1, 6, 7, 8, 4, 2, 5]\n",
      "[5, 2, 6, 9, 4, 3, 8, 1, 7]\n",
      "[7, 4, 8, 2, 5, 1, 6, 9, 3]\n",
      "[1, 7, 4, 5, 2, 9, 3, 8, 6]\n",
      "[3, 9, 2, 8, 6, 4, 5, 7, 1]\n",
      "[8, 6, 5, 1, 3, 7, 9, 4, 2]\n",
      "[4, 5, 3, 7, 9, 2, 1, 6, 8]\n",
      "[6, 1, 7, 4, 8, 5, 2, 3, 9]\n",
      "[2, 8, 9, 3, 1, 6, 7, 5, 4]\n",
      "\n",
      "=============\n",
      "\n",
      "count =  2\n",
      "[9, 3, 1, 6, 7, 8, 4, 2, 5]\n",
      "[5, 2, 6, 9, 4, 3, 8, 1, 7]\n",
      "[7, 4, 8, 2, 5, 1, 6, 9, 3]\n",
      "[1, 7, 4, 5, 2, 9, 3, 8, 6]\n",
      "[3, 9, 2, 8, 6, 4, 5, 7, 1]\n",
      "[8, 6, 5, 3, 1, 7, 9, 4, 2]\n",
      "[4, 5, 3, 7, 9, 2, 1, 6, 8]\n",
      "[6, 1, 7, 4, 8, 5, 2, 3, 9]\n",
      "[2, 8, 9, 1, 3, 6, 7, 5, 4]\n",
      "\n",
      "=============\n",
      "\n",
      "count =  3\n",
      "[9, 3, 1, 6, 7, 8, 4, 2, 5]\n",
      "[5, 2, 6, 9, 4, 3, 8, 1, 7]\n",
      "[7, 4, 8, 2, 5, 1, 6, 9, 3]\n",
      "[1, 7, 4, 5, 2, 9, 3, 8, 6]\n",
      "[8, 9, 2, 3, 6, 4, 5, 7, 1]\n",
      "[3, 6, 5, 8, 1, 7, 9, 4, 2]\n",
      "[4, 5, 3, 7, 9, 2, 1, 6, 8]\n",
      "[6, 1, 7, 4, 8, 5, 2, 3, 9]\n",
      "[2, 8, 9, 1, 3, 6, 7, 5, 4]\n",
      "\n",
      "=============\n",
      "\n",
      "count =  4\n",
      "[9, 3, 1, 6, 7, 8, 4, 2, 5]\n",
      "[5, 2, 6, 9, 4, 3, 8, 1, 7]\n",
      "[7, 4, 8, 2, 5, 1, 6, 9, 3]\n",
      "[1, 7, 4, 5, 2, 9, 3, 6, 8]\n",
      "[8, 9, 2, 3, 6, 4, 5, 7, 1]\n",
      "[3, 6, 5, 8, 1, 7, 9, 4, 2]\n",
      "[4, 5, 3, 7, 9, 2, 1, 8, 6]\n",
      "[6, 1, 7, 4, 8, 5, 2, 3, 9]\n",
      "[2, 8, 9, 1, 3, 6, 7, 5, 4]\n",
      "\n",
      "=============\n",
      "\n",
      "count =  5\n",
      "[9, 3, 1, 6, 7, 8, 4, 2, 5]\n",
      "[5, 2, 6, 9, 4, 3, 8, 1, 7]\n",
      "[7, 4, 8, 2, 5, 1, 6, 9, 3]\n",
      "[8, 7, 4, 5, 1, 9, 3, 6, 2]\n",
      "[3, 9, 2, 8, 6, 4, 5, 7, 1]\n",
      "[6, 1, 5, 3, 2, 7, 9, 4, 8]\n",
      "[4, 5, 3, 7, 9, 2, 1, 8, 6]\n",
      "[1, 6, 7, 4, 8, 5, 2, 3, 9]\n",
      "[2, 8, 9, 1, 3, 6, 7, 5, 4]\n",
      "\n",
      "=============\n",
      "\n",
      "count =  6\n",
      "[9, 3, 1, 6, 7, 8, 4, 2, 5]\n",
      "[5, 2, 6, 9, 4, 3, 8, 1, 7]\n",
      "[7, 4, 8, 2, 5, 1, 6, 9, 3]\n",
      "[8, 7, 4, 5, 2, 9, 3, 6, 1]\n",
      "[3, 9, 2, 1, 6, 4, 5, 7, 8]\n",
      "[6, 1, 5, 8, 3, 7, 9, 4, 2]\n",
      "[4, 5, 3, 7, 9, 2, 1, 8, 6]\n",
      "[1, 6, 7, 4, 8, 5, 2, 3, 9]\n",
      "[2, 8, 9, 3, 1, 6, 7, 5, 4]\n",
      "\n",
      "=============\n",
      "\n",
      "count =  7\n",
      "[9, 3, 1, 6, 7, 8, 4, 2, 5]\n",
      "[5, 2, 6, 9, 4, 3, 8, 1, 7]\n",
      "[7, 4, 8, 2, 5, 1, 6, 9, 3]\n",
      "[8, 7, 4, 5, 2, 9, 3, 6, 1]\n",
      "[3, 9, 2, 1, 6, 4, 5, 7, 8]\n",
      "[1, 6, 5, 8, 3, 7, 9, 4, 2]\n",
      "[4, 5, 3, 7, 9, 2, 1, 8, 6]\n",
      "[6, 1, 7, 4, 8, 5, 2, 3, 9]\n",
      "[2, 8, 9, 3, 1, 6, 7, 5, 4]\n",
      "\n",
      "=============\n",
      "\n",
      "count =  8\n",
      "[9, 3, 1, 6, 7, 8, 4, 2, 5]\n",
      "[5, 2, 6, 9, 4, 3, 8, 1, 7]\n",
      "[7, 4, 8, 2, 5, 1, 6, 9, 3]\n",
      "[8, 7, 4, 5, 2, 9, 3, 6, 1]\n",
      "[1, 9, 2, 3, 6, 4, 5, 7, 8]\n",
      "[3, 6, 5, 8, 1, 7, 9, 4, 2]\n",
      "[4, 5, 3, 7, 9, 2, 1, 8, 6]\n",
      "[6, 1, 7, 4, 8, 5, 2, 3, 9]\n",
      "[2, 8, 9, 1, 3, 6, 7, 5, 4]\n",
      "\n",
      "=============\n",
      "\n",
      "count =  9\n",
      "[9, 3, 1, 6, 7, 8, 4, 2, 5]\n",
      "[5, 2, 6, 9, 4, 3, 8, 1, 7]\n",
      "[7, 4, 8, 2, 5, 1, 6, 9, 3]\n",
      "[1, 7, 4, 5, 2, 9, 3, 6, 8]\n",
      "[3, 9, 2, 8, 6, 4, 5, 7, 1]\n",
      "[8, 6, 5, 1, 3, 7, 9, 4, 2]\n",
      "[4, 5, 3, 7, 9, 2, 1, 8, 6]\n",
      "[6, 1, 7, 4, 8, 5, 2, 3, 9]\n",
      "[2, 8, 9, 3, 1, 6, 7, 5, 4]\n",
      "\n",
      "=============\n",
      "\n",
      "count =  10\n",
      "[9, 3, 1, 6, 7, 8, 4, 2, 5]\n",
      "[5, 2, 6, 9, 4, 3, 8, 1, 7]\n",
      "[7, 4, 8, 2, 5, 1, 6, 9, 3]\n",
      "[1, 7, 4, 5, 2, 9, 3, 6, 8]\n",
      "[3, 9, 2, 8, 6, 4, 5, 7, 1]\n",
      "[8, 6, 5, 3, 1, 7, 9, 4, 2]\n",
      "[4, 5, 3, 7, 9, 2, 1, 8, 6]\n",
      "[6, 1, 7, 4, 8, 5, 2, 3, 9]\n",
      "[2, 8, 9, 1, 3, 6, 7, 5, 4]\n",
      "\n",
      "=============\n",
      "\n",
      "count = 10  \n",
      " but more solutions possible!\n"
     ]
    }
   ],
   "source": [
    "ST_R.run_z3(10)"
   ]
  },
  {
   "cell_type": "code",
   "execution_count": 17,
   "metadata": {},
   "outputs": [
    {
     "data": {
      "text/plain": [
       "10"
      ]
     },
     "execution_count": 17,
     "metadata": {},
     "output_type": "execute_result"
    }
   ],
   "source": [
    "ST_R.count"
   ]
  },
  {
   "cell_type": "markdown",
   "metadata": {},
   "source": [
    "# if there are differnent solutions use copy past ...\n",
    "see next two cells"
   ]
  },
  {
   "cell_type": "code",
   "execution_count": 18,
   "metadata": {},
   "outputs": [],
   "source": [
    "count1 = [\n",
    "[5, 4, 1, 9, 3, 8, 6, 2, 7],\n",
    "[9, 3, 6, 2, 4, 7, 1, 5, 8],\n",
    "[7, 2, 8, 6, 5, 1, 4, 9, 3],\n",
    "[1, 7, 4, 5, 2, 9, 3, 8, 6],\n",
    "[8, 9, 2, 1, 6, 3, 5, 7, 4],\n",
    "[3, 6, 5, 8, 7, 4, 9, 1, 2],\n",
    "[4, 5, 3, 7, 9, 2, 8, 6, 1],\n",
    "[6, 1, 7, 3, 8, 5, 2, 4, 9],\n",
    "[2, 8, 9, 4, 1, 6, 7, 3, 5]]\n",
    "\n",
    "#=============\n",
    "\n",
    "count2 = [\n",
    "[9, 3, 1, 8, 7, 6, 4, 2, 5],\n",
    "[5, 2, 6, 9, 4, 3, 8, 1, 7],\n",
    "[8, 4, 7, 2, 5, 1, 6, 9, 3],\n",
    "[7, 8, 4, 5, 2, 9, 1, 3, 6],\n",
    "[1, 9, 2, 6, 3, 8, 5, 7, 4],\n",
    "[3, 6, 5, 4, 1, 7, 9, 8, 2],\n",
    "[4, 5, 8, 7, 9, 2, 3, 6, 1],\n",
    "[6, 7, 3, 1, 8, 4, 2, 5, 9],\n",
    "[2, 1, 9, 3, 6, 5, 7, 4, 8]]\n"
   ]
  },
  {
   "cell_type": "code",
   "execution_count": 19,
   "metadata": {},
   "outputs": [
    {
     "name": "stdout",
     "output_type": "stream",
     "text": [
      "0 0 c1 5 c2 9\n",
      "0 1 c1 4 c2 3\n",
      "0 3 c1 9 c2 8\n",
      "0 4 c1 3 c2 7\n",
      "0 5 c1 8 c2 6\n",
      "0 6 c1 6 c2 4\n",
      "0 8 c1 7 c2 5\n",
      "1 0 c1 9 c2 5\n",
      "1 1 c1 3 c2 2\n",
      "1 3 c1 2 c2 9\n",
      "1 5 c1 7 c2 3\n",
      "1 6 c1 1 c2 8\n",
      "1 7 c1 5 c2 1\n",
      "1 8 c1 8 c2 7\n",
      "2 0 c1 7 c2 8\n",
      "2 1 c1 2 c2 4\n",
      "2 2 c1 8 c2 7\n",
      "2 3 c1 6 c2 2\n",
      "2 6 c1 4 c2 6\n",
      "3 0 c1 1 c2 7\n",
      "3 1 c1 7 c2 8\n",
      "3 6 c1 3 c2 1\n",
      "3 7 c1 8 c2 3\n",
      "4 0 c1 8 c2 1\n",
      "4 3 c1 1 c2 6\n",
      "4 4 c1 6 c2 3\n",
      "4 5 c1 3 c2 8\n",
      "5 3 c1 8 c2 4\n",
      "5 4 c1 7 c2 1\n",
      "5 5 c1 4 c2 7\n",
      "5 7 c1 1 c2 8\n",
      "6 2 c1 3 c2 8\n",
      "6 6 c1 8 c2 3\n",
      "7 1 c1 1 c2 7\n",
      "7 2 c1 7 c2 3\n",
      "7 3 c1 3 c2 1\n",
      "7 5 c1 5 c2 4\n",
      "7 7 c1 4 c2 5\n",
      "8 1 c1 8 c2 1\n",
      "8 3 c1 4 c2 3\n",
      "8 4 c1 1 c2 6\n",
      "8 5 c1 6 c2 5\n",
      "8 7 c1 3 c2 4\n",
      "8 8 c1 5 c2 8\n"
     ]
    }
   ],
   "source": [
    "for i in range(9):\n",
    "    for j in range(9):\n",
    "        c1 = count1[i][j]\n",
    "        c2 = count2[i][j]\n",
    "        if c1 != c2:\n",
    "            print('{} {} c1 {} c2 {}'.format(i,j,c1,c2))"
   ]
  },
  {
   "cell_type": "code",
   "execution_count": 20,
   "metadata": {},
   "outputs": [
    {
     "data": {
      "text/plain": [
       "'the END or use numpy see cells 21 ... '"
      ]
     },
     "execution_count": 20,
     "metadata": {},
     "output_type": "execute_result"
    }
   ],
   "source": [
    "'the END or use numpy see cells 21 ... '"
   ]
  },
  {
   "cell_type": "code",
   "execution_count": 21,
   "metadata": {},
   "outputs": [],
   "source": [
    "import numpy as np"
   ]
  },
  {
   "cell_type": "code",
   "execution_count": 22,
   "metadata": {},
   "outputs": [],
   "source": [
    "npa1 = np.array(count1)\n",
    "npa2 = np.array(count2)"
   ]
  },
  {
   "cell_type": "code",
   "execution_count": 23,
   "metadata": {},
   "outputs": [
    {
     "data": {
      "text/plain": [
       "array([[False, False,  True, False, False, False, False,  True, False],\n",
       "       [False, False,  True, False,  True, False, False, False, False],\n",
       "       [False, False, False, False,  True,  True, False,  True,  True],\n",
       "       [False, False,  True,  True,  True,  True, False, False,  True],\n",
       "       [False,  True,  True, False, False, False,  True,  True,  True],\n",
       "       [ True,  True,  True, False, False, False,  True, False,  True],\n",
       "       [ True,  True, False,  True,  True,  True, False,  True,  True],\n",
       "       [ True, False, False, False,  True, False,  True, False,  True],\n",
       "       [ True, False,  True, False, False, False,  True, False, False]])"
      ]
     },
     "execution_count": 23,
     "metadata": {},
     "output_type": "execute_result"
    }
   ],
   "source": [
    "npa1 == npa2"
   ]
  },
  {
   "cell_type": "code",
   "execution_count": 24,
   "metadata": {},
   "outputs": [
    {
     "data": {
      "text/plain": [
       "array([[-4,  1,  0,  1, -4,  2,  2,  0,  2],\n",
       "       [ 4,  1,  0, -7,  0,  4, -7,  4,  1],\n",
       "       [-1, -2,  1,  4,  0,  0, -2,  0,  0],\n",
       "       [-6, -1,  0,  0,  0,  0,  2,  5,  0],\n",
       "       [ 7,  0,  0, -5,  3, -5,  0,  0,  0],\n",
       "       [ 0,  0,  0,  4,  6, -3,  0, -7,  0],\n",
       "       [ 0,  0, -5,  0,  0,  0,  5,  0,  0],\n",
       "       [ 0, -6,  4,  2,  0,  1,  0, -1,  0],\n",
       "       [ 0,  7,  0,  1, -5,  1,  0, -1, -3]])"
      ]
     },
     "execution_count": 24,
     "metadata": {},
     "output_type": "execute_result"
    }
   ],
   "source": [
    "npa1 - npa2 # 0 zero means: same value ;-)"
   ]
  }
 ],
 "metadata": {
  "kernelspec": {
   "display_name": "Python 3",
   "language": "python",
   "name": "python3"
  },
  "language_info": {
   "codemirror_mode": {
    "name": "ipython",
    "version": 3
   },
   "file_extension": ".py",
   "mimetype": "text/x-python",
   "name": "python",
   "nbconvert_exporter": "python",
   "pygments_lexer": "ipython3",
   "version": "3.7.3"
  }
 },
 "nbformat": 4,
 "nbformat_minor": 2
}
