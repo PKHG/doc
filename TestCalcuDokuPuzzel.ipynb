{
 "cells": [
  {
   "cell_type": "markdown",
   "metadata": {},
   "source": [
    "# a problem of an friend:"
   ]
  },
  {
   "cell_type": "markdown",
   "metadata": {},
   "source": [
    "<img src=\"Michel6x6.jpg\"/>"
   ]
  },
  {
   "cell_type": "markdown",
   "metadata": {},
   "source": [
    "# use the picture to prepare data (by hand)\n",
    "```\n",
    "it is a (6 x 6 ) square,  the fields are indicated by zero based pairs of integers:\n",
    "\n",
    "(0,0),(0,1) ... (0,5)\n",
    "(1,0) ...\n",
    "...\n",
    "(5,0) (5,1) ... (5,5)\n",
    "\n",
    "Example:\n",
    "data field (3,4) must be written as A[3][4] etc.\n",
    "\n",
    "Compare data below with the picture ;-) .\n",
    "```"
   ]
  },
  {
   "cell_type": "code",
   "execution_count": 1,
   "metadata": {},
   "outputs": [],
   "source": [
    "from z3 import *\n",
    "size = 6\n",
    "A = [ [ Int(\"a_%s_%s\" % (i, j)) for j in range(size) ]\n",
    "      for i in range(size) ]\n",
    "\n",
    "data = [A[0][0] + A[0][1] + A[0][2] + A[0][3] + A[1][0] + A[1][1] == 23,\n",
    "        A[0][4] + A[0][5] + A[1][4] + A[1][5] == 11,\n",
    "        A[1][2] + A[2][2]  == 4,\n",
    "        A[1][3] * A[2][3]  == 20,\n",
    "        A[2][4] * A[2][5] * A[3][4] * A[3][5] * A[4][5] == 800,\n",
    "        A[3][0] + A[3][1] + A[3][3] + A[4][0] + A[5][0] == 15,\n",
    "        A[4][1] + A[4][2] + A[5][1] == 12,\n",
    "        Or(And(A[5][2] > A[5][3], A[5][2] - A[5][3] == 5),\n",
    "           And(A[5][3] > A[5][2], A[5][3] - A[5][2] == 5)),\n",
    "        A[4][4] * A[5][4] * A[5][5] == 36 ,\n",
    "       \n",
    "        #de or zou ook zo kunnen (volgende twee rijen)\n",
    "        #A[3][3] - A[3][2] == 3,\n",
    "        #A[3][2] - A[3][3] < 0,\n",
    "        Or(And(A[2][0] > A[2][1], A[2][0] / A[2][1] == 2),\n",
    "           And(A[2][1] > A[2][0], A[2][1] / A[2][0] == 2))\n",
    "       ]                    "
   ]
  },
  {
   "cell_type": "code",
   "execution_count": 2,
   "metadata": {},
   "outputs": [
    {
     "data": {
      "text/plain": [
       "[a_0_0 + a_0_1 + a_0_2 + a_0_3 + a_1_0 + a_1_1 == 23,\n",
       " a_0_4 + a_0_5 + a_1_4 + a_1_5 == 11,\n",
       " a_1_2 + a_2_2 == 4,\n",
       " a_1_3*a_2_3 == 20,\n",
       " a_2_4*a_2_5*a_3_4*a_3_5*a_4_5 == 800,\n",
       " a_3_0 + a_3_1 + a_3_3 + a_4_0 + a_5_0 == 15,\n",
       " a_4_1 + a_4_2 + a_5_1 == 12,\n",
       " Or(And(a_5_2 > a_5_3, a_5_2 - a_5_3 == 5),\n",
       "    And(a_5_3 > a_5_2, a_5_3 - a_5_2 == 5)),\n",
       " a_4_4*a_5_4*a_5_5 == 36,\n",
       " Or(And(a_2_0 > a_2_1, a_2_0/a_2_1 == 2),\n",
       "    And(a_2_1 > a_2_0, a_2_1/a_2_0 == 2))]"
      ]
     },
     "execution_count": 2,
     "metadata": {},
     "output_type": "execute_result"
    }
   ],
   "source": [
    "data #z3 variables ..."
   ]
  },
  {
   "cell_type": "code",
   "execution_count": 3,
   "metadata": {},
   "outputs": [],
   "source": [
    "from calcudoku_func import * "
   ]
  },
  {
   "cell_type": "code",
   "execution_count": 4,
   "metadata": {},
   "outputs": [],
   "source": [
    "#%timeit calcudoku_function(size, data, inbetweenResult = False)\n",
    "# takes some time o.a. because of swapping ..."
   ]
  },
  {
   "cell_type": "code",
   "execution_count": 5,
   "metadata": {},
   "outputs": [
    {
     "name": "stdout",
     "output_type": "stream",
     "text": [
      "Current date and time : \n",
      "2019-07-30 12:27:45\n"
     ]
    }
   ],
   "source": [
    "import datetime\n",
    "now1 = datetime.datetime.now()\n",
    "print (\"Current date and time : \")\n",
    "print (now1.strftime(\"%Y-%m-%d %H:%M:%S\"))"
   ]
  },
  {
   "cell_type": "code",
   "execution_count": 6,
   "metadata": {},
   "outputs": [],
   "source": [
    "c,r = calcudoku_function(size, data, inbetweenResult = False)"
   ]
  },
  {
   "cell_type": "code",
   "execution_count": 7,
   "metadata": {},
   "outputs": [
    {
     "name": "stdout",
     "output_type": "stream",
     "text": [
      "Current date and time : \n",
      "2019-07-30 12:28:26\n"
     ]
    }
   ],
   "source": [
    "#import datetime\n",
    "now2 = datetime.datetime.now()\n",
    "print (\"Current date and time : \")\n",
    "print (now2.strftime(\"%Y-%m-%d %H:%M:%S\"))"
   ]
  },
  {
   "cell_type": "code",
   "execution_count": 8,
   "metadata": {},
   "outputs": [
    {
     "data": {
      "text/plain": [
       "(datetime.datetime(2019, 7, 30, 12, 28, 26, 707764),\n",
       " datetime.datetime(2019, 7, 30, 12, 27, 45, 259637))"
      ]
     },
     "execution_count": 8,
     "metadata": {},
     "output_type": "execute_result"
    }
   ],
   "source": [
    "now2,now1"
   ]
  },
  {
   "cell_type": "code",
   "execution_count": 9,
   "metadata": {},
   "outputs": [
    {
     "data": {
      "text/plain": [
       "[[5, 6, 4, 2, 3, 1],\n",
       " [2, 4, 3, 5, 1, 6],\n",
       " [6, 3, 1, 4, 5, 2],\n",
       " [3, 1, 2, 6, 4, 5],\n",
       " [1, 2, 5, 3, 6, 4],\n",
       " [4, 5, 6, 1, 2, 3]]"
      ]
     },
     "execution_count": 9,
     "metadata": {},
     "output_type": "execute_result"
    }
   ],
   "source": [
    "r"
   ]
  },
  {
   "cell_type": "markdown",
   "metadata": {},
   "source": [
    "nrres = [[5, 6, 4, 2, 3, 1],\n",
    " [2, 4, 3, 5, 1, 6],\n",
    " [6, 3, 1, 4, 5, 2],\n",
    " [3, 1, 2, 6, 4, 5],\n",
    " [1, 2, 5, 3, 6, 4],\n",
    " [4, 5, 6, 1, 2, 3]]"
   ]
  },
  {
   "cell_type": "code",
   "execution_count": 10,
   "metadata": {},
   "outputs": [
    {
     "name": "stdout",
     "output_type": "stream",
     "text": [
      "./resultfiles/CALCUDOKU6x60729_0724.py ./resultfiles/CALCUDOKU6x60729_0846.py\r\n",
      "./resultfiles/CALCUDOKU6x60729_0728.py ./resultfiles/CALCUDOKU6x60729_1033.py\r\n",
      "./resultfiles/CALCUDOKU6x60729_0730.py ./resultfiles/CALCUDOKU6x60729_1034.py\r\n",
      "./resultfiles/CALCUDOKU6x60729_0735.py ./resultfiles/CALCUDOKU6x60729_1036.py\r\n",
      "./resultfiles/CALCUDOKU6x60729_0809.py ./resultfiles/CALCUDOKU6x60729_1047.py\r\n",
      "./resultfiles/CALCUDOKU6x60729_0811.py ./resultfiles/CALCUDOKU6x60729_1103.py\r\n"
     ]
    }
   ],
   "source": [
    "!ls ./resultfiles/CA*29_*.py\n"
   ]
  },
  {
   "cell_type": "code",
   "execution_count": 11,
   "metadata": {},
   "outputs": [
    {
     "name": "stdout",
     "output_type": "stream",
     "text": [
      "p1 = 564231243516631452312645125364456123\r\n"
     ]
    }
   ],
   "source": [
    "!cat ./resultfiles/CALCUDOKU6x60729_1047.py"
   ]
  },
  {
   "cell_type": "code",
   "execution_count": 12,
   "metadata": {},
   "outputs": [],
   "source": [
    "#assert einde"
   ]
  },
  {
   "cell_type": "markdown",
   "metadata": {},
   "source": [
    "## !cat ./resultfiles/CALCUDOKU6x60729_1047.py"
   ]
  },
  {
   "cell_type": "code",
   "execution_count": 13,
   "metadata": {},
   "outputs": [
    {
     "data": {
      "text/plain": [
       "['564231', '243516', '631452', '312645', '125364', '456123']"
      ]
     },
     "execution_count": 13,
     "metadata": {},
     "output_type": "execute_result"
    }
   ],
   "source": [
    "#plit into 6 rows\n",
    "p1 = '564231243516631452312645125364456123'\n",
    "res0 = [p1[0 + size*i: size + size * i] for i in range(size)]\n",
    "res0"
   ]
  },
  {
   "cell_type": "code",
   "execution_count": 14,
   "metadata": {},
   "outputs": [
    {
     "name": "stdout",
     "output_type": "stream",
     "text": [
      "564231\n",
      "243516\n",
      "631452\n",
      "312645\n",
      "125364\n",
      "456123\n"
     ]
    }
   ],
   "source": [
    "for i in res0: print(i) #nice readable result"
   ]
  },
  {
   "cell_type": "code",
   "execution_count": 16,
   "metadata": {},
   "outputs": [
    {
     "data": {
      "text/plain": [
       "[[5, 6, 4, 2, 3, 1],\n",
       " [2, 4, 3, 5, 1, 6],\n",
       " [6, 3, 1, 4, 5, 2],\n",
       " [3, 1, 2, 6, 4, 5],\n",
       " [1, 2, 5, 3, 6, 4],\n",
       " [4, 5, 6, 1, 2, 3]]"
      ]
     },
     "execution_count": 16,
     "metadata": {},
     "output_type": "execute_result"
    }
   ],
   "source": [
    "r # the result square used below for pretty readable solution"
   ]
  },
  {
   "cell_type": "code",
   "execution_count": 17,
   "metadata": {},
   "outputs": [],
   "source": [
    "for i in range(size):\n",
    "    for j in range(size):\n",
    "        #print('A[{}][{}] = r[{}][{}] = {}'.format(i,j,i,j,r[i][j])) \n",
    "        A[i][j] = r[i][j]"
   ]
  },
  {
   "cell_type": "markdown",
   "metadata": {},
   "source": [
    "# readable for the user ;-)"
   ]
  },
  {
   "cell_type": "code",
   "execution_count": 18,
   "metadata": {},
   "outputs": [
    {
     "name": "stdout",
     "output_type": "stream",
     "text": [
      "[5 + 6 + 4 + 2 + 2 + 4 == 23, 3 + 1 + 1 + 6 == 11, 3 + 1 == 4, 5*4 == 20, 5*2*4*5*4 == 800, 3 + 1 + 6 + 1 + 4 == 15, 2 + 5 + 5 == 12, Or(And(6 > 1, 6 - 1 == 5), And(1 > 6, 1 - 6 == 5)), 6*2*3 == 36, Or(And(6 > 3, 6/3 == 2), And(3 > 6, 3/6 == 2))]\n"
     ]
    }
   ],
   "source": [
    "print([A[0][0] + A[0][1] + A[0][2] + A[0][3] + A[1][0] + A[1][1] == 23,\n",
    "        A[0][4] + A[0][5] + A[1][4] + A[1][5] == 11,\n",
    "        A[1][2] + A[2][2]  == 4,\n",
    "        A[1][3] * A[2][3]  == 20,\n",
    "        A[2][4] * A[2][5] * A[3][4] * A[3][5] * A[4][5] == 800,\n",
    "        A[3][0] + A[3][1] + A[3][3] + A[4][0] + A[5][0] == 15,\n",
    "        A[4][1] + A[4][2] + A[5][1] == 12,\n",
    "        Or(And(A[5][2] > A[5][3], A[5][2] - A[5][3] == 5),\n",
    "           And(A[5][3] > A[5][2], A[5][3] - A[5][2] == 5)),\n",
    "        A[4][4] * A[5][4] * A[5][5] == 36 ,\n",
    "       \n",
    "        #de or zou ook zo kunnen (volgende twee rijen)\n",
    "        #A[3][3] - A[3][2] == 3,\n",
    "        #A[3][2] - A[3][3] < 0,\n",
    "        Or(And(A[2][0] > A[2][1], A[2][0] / A[2][1] == 2),\n",
    "           And(A[2][1] > A[2][0], A[2][1] / A[2][0] == 2))\n",
    "       ]   )                 "
   ]
  },
  {
   "cell_type": "code",
   "execution_count": 19,
   "metadata": {},
   "outputs": [
    {
     "data": {
      "text/plain": [
       "[a_0_0 + a_0_1 + a_0_2 + a_0_3 + a_1_0 + a_1_1 == 23,\n",
       " a_0_4 + a_0_5 + a_1_4 + a_1_5 == 11,\n",
       " a_1_2 + a_2_2 == 4,\n",
       " a_1_3*a_2_3 == 20,\n",
       " a_2_4*a_2_5*a_3_4*a_3_5*a_4_5 == 800,\n",
       " a_3_0 + a_3_1 + a_3_3 + a_4_0 + a_5_0 == 15,\n",
       " a_4_1 + a_4_2 + a_5_1 == 12,\n",
       " Or(And(a_5_2 > a_5_3, a_5_2 - a_5_3 == 5),\n",
       "    And(a_5_3 > a_5_2, a_5_3 - a_5_2 == 5)),\n",
       " a_4_4*a_5_4*a_5_5 == 36,\n",
       " Or(And(a_2_0 > a_2_1, a_2_0/a_2_1 == 2),\n",
       "    And(a_2_1 > a_2_0, a_2_1/a_2_0 == 2))]"
      ]
     },
     "execution_count": 19,
     "metadata": {},
     "output_type": "execute_result"
    }
   ],
   "source": [
    "data"
   ]
  },
  {
   "cell_type": "code",
   "execution_count": null,
   "metadata": {},
   "outputs": [],
   "source": []
  }
 ],
 "metadata": {
  "kernelspec": {
   "display_name": "Python 3",
   "language": "python",
   "name": "python3"
  },
  "language_info": {
   "codemirror_mode": {
    "name": "ipython",
    "version": 3
   },
   "file_extension": ".py",
   "mimetype": "text/x-python",
   "name": "python",
   "nbconvert_exporter": "python",
   "pygments_lexer": "ipython3",
   "version": "3.7.3"
  }
 },
 "nbformat": 4,
 "nbformat_minor": 2
}
