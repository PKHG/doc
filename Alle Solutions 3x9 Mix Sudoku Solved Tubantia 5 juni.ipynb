{
 "cells": [
  {
   "cell_type": "code",
   "execution_count": 1,
   "metadata": {},
   "outputs": [],
   "source": [
    "# PKHG: free to use"
   ]
  },
  {
   "cell_type": "markdown",
   "metadata": {},
   "source": [
    "# From the sudoku solver adjusted for\n",
    "# SUDOKU MIX  \n",
    "## Tubantia sudoku mix from 5 june upper right corner used plus rest upper row\n",
    "At several places on the www to be found, e.g. below in https://ericpony.github.io/z3py-tutorial/guide-examples.htm\n",
    "<img src=\"sudokumix5jun.jpg\"/>"
   ]
  },
  {
   "cell_type": "code",
   "execution_count": 2,
   "metadata": {},
   "outputs": [
    {
     "name": "stdout",
     "output_type": "stream",
     "text": [
      "2019-06-15 10:49:22.141111\n"
     ]
    }
   ],
   "source": [
    "from mydateFP import getFPnameDate"
   ]
  },
  {
   "cell_type": "code",
   "execution_count": 3,
   "metadata": {},
   "outputs": [
    {
     "name": "stdout",
     "output_type": "stream",
     "text": [
      "def getFPnameDate(voor = \"mixSodudoku\"):\r\n",
      "    from datetime  import datetime\r\n",
      "    d0, d1  = str(datetime.now()).split(\" \")\r\n",
      "    print (d0,d1)\r\n",
      "    return voor + (d0[5:] + \"_\" + d1[0:2] + d1[3:5]).replace(\"-\",\"\") + \".py\"\r\n",
      "getFPnameDate()\r\n"
     ]
    }
   ],
   "source": [
    "!cat mydateFP.py"
   ]
  },
  {
   "cell_type": "markdown",
   "metadata": {},
   "source": [
    "# a Sudoku MIX 3x9"
   ]
  },
  {
   "cell_type": "code",
   "execution_count": null,
   "metadata": {},
   "outputs": [],
   "source": [
    "# show at most 41 solutions\n",
    "maxaantal = 41\n",
    "from z3 import *\n",
    "from mydateFP import getFPnameDate\n",
    "\n",
    "#print inbetween results\n",
    "tussenresultaat = True\n",
    "fpname = getFPnameDate()\n",
    "print(\"results will be saved in  (this working dir): \", fpname)\n",
    "fp = open(fpname , \"w\")\n",
    "\n",
    "# a 3x9 Sudoku where ONE number is given a ^ lower right corner\n",
    "NulSodoku = [0,0,0] #sort of init\n",
    "NulSodoku[0] = [0,0,0,0,0,0,0,0,0] #[0 for i in range(9)]\n",
    "NulSodoku[1] = [0,0,0,0,0,0,0,0,0]\n",
    "NulSodoku[2] = [0,0,0,0,0,0,0,0,6]\n",
    "instance = NulSodoku\n",
    "\n",
    "# 3x9 matrix of integer variables, zero based indexing!\n",
    "X = [ [ Int(\"x_%s_%s\" % (i, j)) for j in range(9) ]\n",
    "      for i in range(3) ]\n",
    "\n",
    "# each cell contains a value in {1, ..., 9}\n",
    "cells_c  = [ And(1 <= X[i][j], X[i][j] <= 9)\n",
    "             for i in range(3) for j in range(9) ]\n",
    "#PKHG>tothier\n",
    "# each row contains a digit at most once\n",
    "rows_c   = [ Distinct(X[i]) for i in range(3) ]\n",
    "\n",
    "# each column contains a digit at most once\n",
    "cols_c   = [ Distinct([ X[i][j] for i in range(3)]) for j in range(9)]\n",
    " \n",
    "sq_c     = [ Distinct([ X[3*i0 + i][3*j0 + j]\n",
    "                        for i in range(3) for j in range(3) ])\n",
    "             for i0 in range(1) for j0 in range(3) ]\n",
    "\n",
    "# rectangles in the 3x9 Sudoku are given:\n",
    "c00_10 = [X[0][6] + X[0][7]  == 9,\n",
    "          X[1][6] + X[1][7]  == 5,\n",
    "          X[2][6] + X[2][7] == 13,\n",
    "          #subtract the known 6 in last column gives:\n",
    "          X[0][8] + X[1][8] == 18 - 6,\n",
    "          X[2][8] == 6,\n",
    "          X[0][0] + X[1][0] == 11,\n",
    "          X[0][1] + X[1][1] == 9,\n",
    "          X[0][2] + X[0][3] == 14,\n",
    "          X[1][2] + X[2][2] == 9,\n",
    "          X[0][4] + X[0][5] == 9,\n",
    "          X[1][4] + X[2][4] == 5,\n",
    "          \n",
    "          X[1][5] + X[2][5] == 18 - 5,\n",
    "         ]\n",
    "         \n",
    "#all conditions put together\n",
    "sudoku_c = cells_c + rows_c + cols_c + sq_c + c00_10\n",
    "\n",
    "# sudoku instance, we use '0' for empty cells\n",
    "instance_c = [ If(instance[i][j] == 0,\n",
    "                  True,\n",
    "                  X[i][j] == instance[i][j])\n",
    "               for i in range(3) for j in range(3) ]\n",
    "\n",
    "allSolutions = []\n",
    "s = Solver()\n",
    "s.add(sudoku_c + instance_c) \n",
    "\n",
    "#while loop will stop if counter is > maxaantal, or \n",
    "#no new solutions anymore found\n",
    "counter  = 0\n",
    "while s.check() == sat:\n",
    "    counter += 1\n",
    "    fp.write(\"p\" + str(counter) + \" = \")\n",
    "    m = s.model()\n",
    "    \n",
    "    #solution as one big int ;-)\n",
    "    r = [ [ m.evaluate(X[i][j]) for j in range(9) ]\n",
    "          for i in range(3) ]\n",
    "    t = \"\"\n",
    "    for el in r:\n",
    "    #print(el)\n",
    "        res = [ \"\" + str(c) for c in el]\n",
    "        tmp = \"\".join(res)\n",
    "        t += tmp\n",
    "    fp.write(t + \"\\n\")\n",
    "    \n",
    "    #save solutions\n",
    "    ns = int(t)  #t is build as str now a big integer\n",
    "    allSolutions.append(ns)\n",
    "    \n",
    "    #print(len(allSolutions))\n",
    "    #print(counter , t)\n",
    "    if tussenresultaat:\n",
    "        print_matrix(r)\n",
    "    \n",
    "    # the solution found will be not anymore allowed: Not(And(vals))\n",
    "    vals = [X[i][j] == m.evaluate(X[i][j]) for j in range(9)\n",
    "            for i in range(3)]\n",
    "    s.add(Not(And(vals)))\n",
    "    if counter > maxaantal:\n",
    "        break\n",
    "fp.close()\n",
    "allSolasSet = set(allSolutions)\n",
    "if counter:\n",
    "    print(\"all different?\" , len(allSolutions) == counter, \"counter = \", counter)\n",
    "else:\n",
    "    print(\"no solution, check instance\", instance)\n",
    "                    "
   ]
  },
  {
   "cell_type": "code",
   "execution_count": null,
   "metadata": {},
   "outputs": [],
   "source": [
    "counter"
   ]
  },
  {
   "cell_type": "markdown",
   "metadata": {},
   "source": [
    "# from minutes ago\n",
    "```\n",
    "!cat mixSodudoku0615_0818.py\n",
    "p1 = 465981273738526419921437586\n",
    "p2 = 465918723738526149921437586\n",
    "p3 = 465918723738526149291437586\n",
    "p4 = 465918723738526419291437586\n",
    "p5 = 465918723738526419921437586\n",
    "p6 = 465981723738526419921437586\n",
    "p7 = 465981723738526149921437586\n",
    "p8 = 465981723738526149291437586\n",
    "p9 = 465918723738526149291437856\n",
    "p10 = 465918273738526149921437586\n",
    "p11 = 465918273738526149291437586\n",
    "p12 = 465918273738526419921437586\n",
    "p13 = 465918273738526419291437586\n",
    "p14 = 465981273738526149291437586\n",
    "p15 = 465981273738526149921437586\n",
    "p16 = 465981273738526419291437586\n",
    "p17 = 465981723738526419291437586\n",
    "p18 = 465918273738526419921437856\n",
    "p19 = 465918273738526419291437856\n",
    "p20 = 465981273738526419291437856\n",
    "p21 = 465981273738526419921437856\n",
    "p22 = 465918723738526419921437856\n",
    "p23 = 465918723738526419291437856\n",
    "p24 = 465981723738526149291437856\n",
    "p25 = 465981723738526149921437856\n",
    "p26 = 465918723738526149921437856\n",
    "p27 = 465918273738526149921437856\n",
    "p28 = 465981273738526149921437856\n",
    "p29 = 465981273738526149291437856\n",
    "p30 = 465918273738526149291437856\n",
    "p31 = 465981723738526419291437856\n",
    "p32 = 465981723738526419921437856\n",
    "\n",
    "In [4]:\n",
    "```"
   ]
  },
  {
   "cell_type": "code",
   "execution_count": null,
   "metadata": {},
   "outputs": [],
   "source": []
  }
 ],
 "metadata": {
  "kernelspec": {
   "display_name": "Python 3",
   "language": "python",
   "name": "python3"
  },
  "language_info": {
   "codemirror_mode": {
    "name": "ipython",
    "version": 3
   },
   "file_extension": ".py",
   "mimetype": "text/x-python",
   "name": "python",
   "nbconvert_exporter": "python",
   "pygments_lexer": "ipython3",
   "version": "3.7.3"
  }
 },
 "nbformat": 4,
 "nbformat_minor": 2
}
