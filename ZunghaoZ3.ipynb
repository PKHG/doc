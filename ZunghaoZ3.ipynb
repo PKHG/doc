{
 "cells": [
  {
   "cell_type": "markdown",
   "metadata": {},
   "source": [
    "# conversion to python notebook:\n",
    "http://scungao.github.io/mit-iap17/z3python.html"
   ]
  },
  {
   "cell_type": "markdown",
   "metadata": {},
   "source": [
    "# Z3 API in Python (by Leonardo de Moura)\n",
    "\n",
    "Z3 is a high performance theorem prover developed at Microsoft Research. Z3 is used in many applications such as: software/hardware verification and testing, constraint solving, analysis of hybrid systems, security, biology (in silico analysis), and geometrical problems.\n",
    "\n",
    "This tutorial demonstrates the main capabilities of Z3Py: the Z3 API in Python. No Python background is needed to read this tutorial. However, it is useful to learn Python (a fun language!) at some point, and there are many excellent free resources for doing so (Python Tutorial).\n",
    "\n",
    "The Z3 distribution also contains the C, .Net and OCaml APIs. The source code of Z3Py is available in the Z3 distribution, feel free to modify it to meet your needs. The source code also demonstrates how to use new features in Z3 4.0. Other cool front-ends for Z3 include Scala^Z3 and SBV.\n",
    "\n",
    "Please send feedback, comments and/or corrections to leonardo@microsoft.com. Your comments are very valuable.\n",
    "\n",
    "# Getting Started\n",
    "we need z3 in a notebook\n",
    "\n",
    "If you do not have it installed:\n",
    "\n",
    "# try: pip install z3-solver\n",
    "\n",
    "https://pypi.org/project/z3-solver/#description"
   ]
  },
  {
   "cell_type": "code",
   "execution_count": 1,
   "metadata": {},
   "outputs": [],
   "source": [
    "from z3 import *"
   ]
  },
  {
   "cell_type": "code",
   "execution_count": 2,
   "metadata": {},
   "outputs": [
    {
     "name": "stdout",
     "output_type": "stream",
     "text": [
      "[y = 0, x = 7]\n"
     ]
    }
   ],
   "source": [
    "### Let us start with the following simple example:\n",
    "\n",
    "x = Int('x')\n",
    "y = Int('y')\n",
    "solve(x > 2, y < 10, x + 2*y == 7)\n"
   ]
  },
  {
   "cell_type": "markdown",
   "metadata": {},
   "source": [
    "```The function Int('x') creates an integer variable in Z3 named x. The solve function solves a system of constraints. The example above uses two variables x and y, and three constraints. Z3Py like Python uses = for assignment. The operators <, <=, >, >=, == and != for comparison. In the example above, the expression x + 2*y == 7 is a Z3 constraint. Z3 can solve and crunch formulas.\n",
    "```\n",
    "\n"
   ]
  },
  {
   "cell_type": "code",
   "execution_count": 3,
   "metadata": {},
   "outputs": [
    {
     "name": "stdout",
     "output_type": "stream",
     "text": [
      "3 + 3*x + y\n",
      "Not(y <= -2)\n",
      "And(x >= 2, 2*x**2 + y**2 >= 3)\n"
     ]
    }
   ],
   "source": [
    "# The next examples show how to use the Z3 formula/expression \n",
    "#simplifier.\n",
    "\n",
    "x = Int('x')\n",
    "y = Int('y')\n",
    "print(simplify(x + y + 2*x + 3))\n",
    "print(simplify(x < y + x + 2))\n",
    "print(simplify(And(x + 1 >= 3, x**2 + x**2 + y**2 + 2 >= 5)))"
   ]
  },
  {
   "cell_type": "markdown",
   "metadata": {},
   "source": [
    "```\n",
    "By default, Z3Py (for the web) displays formulas \n",
    "and expressions using mathematical notation.\n",
    "As usual, ∧ is the logical and, ∨ is the logical or, and so on.\n",
    "The command set_option(html_mode=False) makes all formulas and expressions to be displayed in Z3Py notation. This is also the default mode for the offline version of Z3Py that comes with the Z3 distribution.\n",
    "```\n"
   ]
  },
  {
   "cell_type": "code",
   "execution_count": 4,
   "metadata": {},
   "outputs": [
    {
     "name": "stdout",
     "output_type": "stream",
     "text": [
      "x**2 + y**2 >= 1\n",
      "x<sup>2</sup> + y<sup>2</sup> &ge; 1\n"
     ]
    }
   ],
   "source": [
    "set_option(html_mode = False)\n",
    "x = Int('x')\n",
    "y = Int('y')\n",
    "print(x**2 + y**2 >= 1)\n",
    "set_option(html_mode = True)\n",
    "print(x**2 + y**2 >= 1)\n"
   ]
  },
  {
   "cell_type": "markdown",
   "metadata": {},
   "source": [
    "# copy the resesult into MD-cell\n",
    "\n",
    "x**2 + y**2 >= 1  #not good the $**$ missing\n",
    "\n",
    "x<sup>2</sup> + y<sup>2</sup> &ge; 1"
   ]
  },
  {
   "cell_type": "markdown",
   "metadata": {},
   "source": [
    "# Z3 provides functions for traversing expressions.\n"
   ]
  },
  {
   "cell_type": "code",
   "execution_count": 5,
   "metadata": {},
   "outputs": [
    {
     "name": "stdout",
     "output_type": "stream",
     "text": [
      "num args:  2\n",
      "children:  [x + y, 3]\n",
      "1st child: x + y\n",
      "2nd child: 3\n",
      "operator:  &ge;\n",
      "op name:   >=\n"
     ]
    }
   ],
   "source": [
    "x = Int('x')\n",
    "y = Int('y')\n",
    "n = x + y >= 3\n",
    "print(\"num args: \", n.num_args())\n",
    "print(\"children: \", n.children())\n",
    "print(\"1st child:\", n.arg(0))\n",
    "print(\"2nd child:\", n.arg(1))\n",
    "print(\"operator: \", n.decl())\n",
    "print(\"op name:  \", n.decl().name())\n"
   ]
  },
  {
   "cell_type": "markdown",
   "metadata": {},
   "source": [
    "# Z3 provides all basic mathematical operations. \n",
    "```\n",
    "Z3Py uses the same operator precedence of the Python language. \n",
    "Like Python, ** is the power operator. Z3 can solve nonlinear\n",
    "polynomial constraints.\n",
    "```"
   ]
  },
  {
   "cell_type": "code",
   "execution_count": 6,
   "metadata": {},
   "outputs": [
    {
     "name": "stdout",
     "output_type": "stream",
     "text": [
      "[x = 1/8, y = 2]\n"
     ]
    }
   ],
   "source": [
    "x = Real('x')\n",
    "y = Real('y')\n",
    "solve(x**2 + y**2 > 3, x**3 + y < 5)"
   ]
  },
  {
   "cell_type": "markdown",
   "metadata": {},
   "source": [
    "```The procedure Real('x') creates the real variable x. Z3Py can represent arbitrarily large integers, rational numbers \n",
    "(like in the example above), and irrational algebraic numbers. \n",
    "An irrational algebraic number is a root of a polynomial \n",
    "with integer coefficients. Internally, Z3 represents all these numbers precisely. The irrational numbers are displayed in decimal notation for making it easy to read the results.\n",
    "```\n"
   ]
  },
  {
   "cell_type": "code",
   "execution_count": 7,
   "metadata": {},
   "outputs": [
    {
     "name": "stdout",
     "output_type": "stream",
     "text": [
      "[x = 1.2599210498?, y = -1.1885280594?]\n",
      "Solving, and displaying result with 30 decimal places\n",
      "[x = 1.259921049894873164767210607278?,\n",
      " y = -1.188528059421316533710369365015?]\n"
     ]
    }
   ],
   "source": [
    "\n",
    "x = Real('x')\n",
    "y = Real('y')\n",
    "solve(x**2 + y**2 == 3, x**3 == 2)\n",
    "\n",
    "set_option(precision=30)\n",
    "print(\"Solving, and displaying result with 30 decimal places\")\n",
    "solve(x**2 + y**2 == 3, x**3 == 2)\n",
    "\n"
   ]
  },
  {
   "cell_type": "markdown",
   "metadata": {},
   "source": [
    "# The procedure set_option\n",
    "```\n",
    "is used to configure the Z3 environment. It is used to set global configuration options such as how the result is displayed. The option set_option(precision=30) sets the number of decimal places used when displaying results. The ? mark in 1.2599210498? indicates the output is truncated.\n",
    "```\n",
    "### The following example\n",
    "```\n",
    "demonstrates a common mistake. The expression 3/2 is a Python \n",
    "integer and not a Z3 rational number. The example also shows different ways to create rational numbers in Z3Py. The procedure Q(num, den) creates a Z3 rational where num is the numerator and \n",
    "den is the denominator. The RealVal(1) creates a Z3 real number \n",
    "representing the number 1.\n",
    "```"
   ]
  },
  {
   "cell_type": "code",
   "execution_count": 8,
   "metadata": {},
   "outputs": [
    {
     "name": "stdout",
     "output_type": "stream",
     "text": [
      "0.3333333333333333\n",
      "1/3\n",
      "1/3\n",
      "x + 3333333333333333/10000000000000000\n",
      "x + 1/3\n",
      "x + 1/3\n",
      "x + 1/4\n"
     ]
    }
   ],
   "source": [
    "print(1/3)\n",
    "print(RealVal(1)/3)\n",
    "print(Q(1,3))\n",
    "\n",
    "x = Real('x')\n",
    "print(x + 1/3)\n",
    "print(x + Q(1,3))\n",
    "print(x + \"1/3\")\n",
    "print(x + 0.25)\n",
    "\n"
   ]
  },
  {
   "cell_type": "markdown",
   "metadata": {},
   "source": [
    "# Rational numbers can also be displayed in decimal notation."
   ]
  },
  {
   "cell_type": "code",
   "execution_count": 9,
   "metadata": {},
   "outputs": [
    {
     "name": "stdout",
     "output_type": "stream",
     "text": [
      "[x = 1/3]\n",
      "[x = 0.333333333333333333333333333333?]\n",
      "[x = 0.3333333333?]\n"
     ]
    }
   ],
   "source": [
    "x = Real('x')\n",
    "solve(3*x == 1)\n",
    "\n",
    "set_option(rational_to_decimal=True)\n",
    "solve(3*x == 1)\n",
    "\n",
    "set_option(precision=10)\n",
    "solve(3*x == 1)\n"
   ]
  },
  {
   "cell_type": "markdown",
   "metadata": {},
   "source": [
    "# A system of constraints\n",
    "```\n",
    "may not have a solution. In this case, we say the system \n",
    "is unsatisfiable.\n",
    "```\n"
   ]
  },
  {
   "cell_type": "code",
   "execution_count": 10,
   "metadata": {},
   "outputs": [
    {
     "name": "stdout",
     "output_type": "stream",
     "text": [
      "no solution\n"
     ]
    }
   ],
   "source": [
    "x = Real('x')\n",
    "solve(x > 4, x < 0)"
   ]
  },
  {
   "cell_type": "markdown",
   "metadata": {},
   "source": [
    "# Like in Python, \n",
    "### comments \n",
    "begin with the hash character # and are terminated by the end of line. Z3Py does not support comments that span more than one line."
   ]
  },
  {
   "cell_type": "code",
   "execution_count": 11,
   "metadata": {},
   "outputs": [
    {
     "name": "stdout",
     "output_type": "stream",
     "text": [
      "x<sup>2</sup> + 2&middot;x + 2\n"
     ]
    }
   ],
   "source": [
    "# This is a comment\n",
    "x = Real('x') # comment: creating x\n",
    "print(x**2 + 2*x + 2)  # comment: printing polynomial"
   ]
  },
  {
   "cell_type": "markdown",
   "metadata": {},
   "source": [
    "#### copy paste done ;-)\n",
    "x<sup>2</sup> + 2&middot;x + 2  "
   ]
  },
  {
   "cell_type": "markdown",
   "metadata": {},
   "source": [
    "# Boolean Logic\n",
    "\n",
    "Z3 supports Boolean operators: And, Or, Not, Implies (implication), If (if-then-else). Bi-implications are represented using equality ==. The following example shows how to solve a simple set of Boolean constraints.\n"
   ]
  },
  {
   "cell_type": "code",
   "execution_count": 12,
   "metadata": {},
   "outputs": [
    {
     "name": "stdout",
     "output_type": "stream",
     "text": [
      "[p = False, q = True, r = False]\n"
     ]
    }
   ],
   "source": [
    "p = Bool('p')\n",
    "q = Bool('q')\n",
    "r = Bool('r')\n",
    "solve(Implies(p, q), r == Not(q), Or(Not(p), r))\n",
    "\n"
   ]
  },
  {
   "cell_type": "markdown",
   "metadata": {},
   "source": [
    "# The Python Boolean constants\n",
    "### True and False\n",
    "can be used to build Z3 Boolean expressions.\n"
   ]
  },
  {
   "cell_type": "code",
   "execution_count": 13,
   "metadata": {},
   "outputs": [
    {
     "name": "stdout",
     "output_type": "stream",
     "text": [
      "p &and; q &and; True\n",
      "p &and; q\n",
      "False\n"
     ]
    }
   ],
   "source": [
    "p = Bool('p')\n",
    "q = Bool('q')\n",
    "print(And(p, q, True))\n",
    "print(simplify(And(p, q, True)))\n",
    "print(simplify(And(p, False)))"
   ]
  },
  {
   "cell_type": "markdown",
   "metadata": {},
   "source": [
    "#### copy paste done\n",
    "p &and; q &and; True\n",
    "\n",
    "p &and; q\n",
    "\n",
    "False"
   ]
  },
  {
   "cell_type": "markdown",
   "metadata": {},
   "source": [
    "# Solvers\n",
    "```\n",
    "Z3 provides different solvers. The command solve, used in the \n",
    "previous examples, is implemented using the Z3 solver API. The\n",
    "implementation can be found in the file z3.py in the Z3 \n",
    "distribution. The following example demonstrates the basic\n",
    "Solver API.\n",
    "```"
   ]
  },
  {
   "cell_type": "code",
   "execution_count": 14,
   "metadata": {
    "scrolled": false
   },
   "outputs": [
    {
     "name": "stdout",
     "output_type": "stream",
     "text": [
      "[]\n",
      "[x &gt; 10, y = x + 2]\n",
      "Solving constraints in the solver s ...\n",
      "<b>sat</b>\n",
      "Create a new scope...\n",
      "[x &gt; 10, y = x + 2, y &lt; 11]\n",
      "Solving updated set of constraints...\n",
      "<b>unsat</b>\n",
      "Restoring state...\n",
      "[x &gt; 10, y = x + 2]\n",
      "Solving restored set of constraints...\n",
      "<b>sat</b>\n"
     ]
    }
   ],
   "source": [
    "x = Int('x')\n",
    "y = Int('y')\n",
    "\n",
    "s = Solver()\n",
    "print(s)\n",
    "\n",
    "s.add(x > 10, y == x + 2)\n",
    "print(s)\n",
    "print(\"Solving constraints in the solver s ...\")\n",
    "print(s.check())\n",
    "\n",
    "print(\"Create a new scope...\")\n",
    "s.push()\n",
    "s.add(y < 11)\n",
    "print(s)\n",
    "print(\"Solving updated set of constraints...\")\n",
    "print(s.check())\n",
    "\n",
    "print(\"Restoring state...\")\n",
    "s.pop()\n",
    "print(s)\n",
    "print(\"Solving restored set of constraints...\")\n",
    "print(s.check())"
   ]
  },
  {
   "cell_type": "markdown",
   "metadata": {},
   "source": [
    "#### copy paste and ...\n",
    "[]\n",
    "\n",
    "[x &gt; 10, y = x + 2]\n",
    "\n",
    "[x > 10, y = x + 2]\n",
    "\n",
    "Solving constraints in the solver s ...\n",
    "\n",
    "<b>sat</b>\n",
    "\n",
    "Create a new scope...\n",
    "\n",
    "[x &gt; 10, y = x + 2, y &lt; 11]\n",
    "\n",
    "Solving updated set of constraints...\n",
    "\n",
    "<b>unsat</b>\n",
    "\n",
    "Restoring state...\n",
    "\n",
    "[x &gt; 10, y = x + 2]\n",
    "Solving restored set of constraints...\n",
    "\n",
    "<b>sat</b>\n",
    "\n",
    "In [ ]:\n"
   ]
  },
  {
   "cell_type": "markdown",
   "metadata": {},
   "source": [
    "# The command Solver() \n",
    "```\n",
    "The command Solver() creates a general purpose solver. Constraints can be added using the method add. We say the constraints have\n",
    "been asserted in the solver. The method check() solves the \n",
    "asserted constraints. The result is sat (satisfiable) if a \n",
    "solution was found. The result is unsat (unsatisfiable) \n",
    "if no solution exists. We may also say the system of \n",
    "asserted constraints is infeasible. \n",
    "Finally, a solver may fail to solve a system of constraints\n",
    "and unknown is returned.\n",
    "\n",
    "In some applications, we want to explore several similar problems that share several constraints. We can use the commands push and\n",
    "pop for doing that. Each solver maintains a stack of assertions.\n",
    "The command push creates a new scope by saving the current stack\n",
    "size. The command pop removes any assertion performed between it \n",
    "and the matching push. The check method always operates on the\n",
    "content of solver assertion stack.\n",
    "\n",
    "The following example shows an example that Z3 cannot solve. The \n",
    "solver returns unknown in this case. Recall that Z3 can solve\n",
    "nonlinear polynomial constraints, \n",
    "```\n",
    "### but 2**x is not a polynomial.\n"
   ]
  },
  {
   "cell_type": "code",
   "execution_count": 15,
   "metadata": {},
   "outputs": [
    {
     "name": "stdout",
     "output_type": "stream",
     "text": [
      "<b>unknown</b>\n"
     ]
    }
   ],
   "source": [
    "x = Real('x')\n",
    "s = Solver()\n",
    "s.add(2**x == 3)\n",
    "print(s.check())"
   ]
  },
  {
   "cell_type": "markdown",
   "metadata": {},
   "source": [
    "# The following example \n",
    "\n",
    "```\n",
    "shows how to traverse the constraints asserted into a solver,\n",
    "and how to collect performance statistics for the check method.\n",
    "```"
   ]
  },
  {
   "cell_type": "code",
   "execution_count": 16,
   "metadata": {},
   "outputs": [
    {
     "name": "stdout",
     "output_type": "stream",
     "text": [
      "asserted constraints...\n",
      "x &gt; 1\n",
      "y &gt; 1\n",
      "x + y &gt; 3 &or; x - y &lt; 2\n",
      "<b>sat</b>\n",
      "statistics for the last check method...\n",
      "<table border=\"1\" cellpadding=\"2\" cellspacing=\"0\"><tr style=\"background-color:#CFCFCF\"><td>mk bool var</td><td>1</td></tr><tr><td>decisions</td><td>2</td></tr><tr style=\"background-color:#CFCFCF\"><td>final checks</td><td>1</td></tr><tr><td>num checks</td><td>1</td></tr><tr style=\"background-color:#CFCFCF\"><td>mk bool var</td><td>5</td></tr><tr><td>arith-upper</td><td>4</td></tr><tr style=\"background-color:#CFCFCF\"><td>arith-rows</td><td>12</td></tr><tr><td>arith-make-feasible</td><td>3</td></tr><tr style=\"background-color:#CFCFCF\"><td>arith-max-columns</td><td>8</td></tr><tr><td>arith-max-rows</td><td>2</td></tr><tr style=\"background-color:#CFCFCF\"><td>mk bool var</td><td>1</td></tr><tr><td>mk bool var</td><td>1</td></tr><tr style=\"background-color:#CFCFCF\"><td>mk bool var</td><td>1</td></tr><tr><td>mk bool var</td><td>1</td></tr><tr style=\"background-color:#CFCFCF\"><td>num allocs</td><td>393693</td></tr><tr><td>rlimit count</td><td>3850</td></tr><tr style=\"background-color:#CFCFCF\"><td>max memory</td><td>3.33</td></tr><tr><td>memory</td><td>2.99</td></tr></table>\n",
      "mk bool var : 1\n",
      "decisions : 2\n",
      "final checks : 1\n",
      "num checks : 1\n",
      "mk bool var : 5\n",
      "arith-upper : 4\n",
      "arith-rows : 12\n",
      "arith-make-feasible : 3\n",
      "arith-max-columns : 8\n",
      "arith-max-rows : 2\n",
      "mk bool var : 1\n",
      "mk bool var : 1\n",
      "mk bool var : 1\n",
      "mk bool var : 1\n",
      "num allocs : 393701\n",
      "rlimit count : 3850\n",
      "max memory : 3.33\n",
      "memory : 2.99\n"
     ]
    }
   ],
   "source": [
    "x = Real('x')\n",
    "y = Real('y')\n",
    "s = Solver()\n",
    "s.add(x > 1, y > 1, Or(x + y > 3, x - y < 2))\n",
    "print(\"asserted constraints...\")\n",
    "for c in s.assertions():\n",
    "    print(c)\n",
    "\n",
    "print(s.check())\n",
    "print(\"statistics for the last check method...\")\n",
    "print(s.statistics())\n",
    "\n",
    "# Traversing statistics\n",
    "for k, v in s.statistics():\n",
    "    print(\"%s : %s\" % (k, v))"
   ]
  },
  {
   "cell_type": "markdown",
   "metadata": {},
   "source": [
    "#### copy paste\n",
    "asserted constraints...\n",
    "x &gt; 1\n",
    "y &gt; 1\n",
    "x + y &gt; 3 &or; x - y &lt; 2\n",
    "\n",
    "<b>sat</b>\n",
    "\n",
    "### statistics for the last check method...\n",
    "<table border=\"1\" cellpadding=\"2\" cellspacing=\"0\"><tr style=\"background-color:#CFCFCF\"><td>mk bool var</td><td>1</td></tr><tr><td>decisions</td><td>2</td></tr><tr style=\"background-color:#CFCFCF\"><td>final checks</td><td>1</td></tr><tr><td>num checks</td><td>1</td></tr><tr style=\"background-color:#CFCFCF\"><td>mk bool var</td><td>5</td></tr><tr><td>arith-upper</td><td>4</td></tr><tr style=\"background-color:#CFCFCF\"><td>arith-rows</td><td>12</td></tr><tr><td>arith-make-feasible</td><td>3</td></tr><tr style=\"background-color:#CFCFCF\"><td>arith-max-columns</td><td>8</td></tr><tr><td>arith-max-rows</td><td>2</td></tr><tr style=\"background-color:#CFCFCF\"><td>mk bool var</td><td>1</td></tr><tr><td>mk bool var</td><td>1</td></tr><tr style=\"background-color:#CFCFCF\"><td>mk bool var</td><td>1</td></tr><tr><td>mk bool var</td><td>1</td></tr><tr style=\"background-color:#CFCFCF\"><td>num allocs</td><td>490976</td></tr><tr><td>rlimit count</td><td>4123</td></tr><tr style=\"background-color:#CFCFCF\"><td>max memory</td><td>3.33</td></tr><tr><td>memory</td><td>2.99</td></tr></table>\n",
    "\n",
    "```\n",
    "mk bool var : 1\n",
    "decisions : 2\n",
    "final checks : 1\n",
    "num checks : 1\n",
    "mk bool var : 5\n",
    "arith-upper : 4\n",
    "arith-rows : 12\n",
    "arith-make-feasible : 3\n",
    "arith-max-columns : 8\n",
    "arith-max-rows : 2\n",
    "mk bool var : 1\n",
    "mk bool var : 1\n",
    "mk bool var : 1\n",
    "mk bool var : 1\n",
    "num allocs : 490984\n",
    "rlimit count : 4123\n",
    "max memory : 3.33\n",
    "memory : 2.99\n",
    "```\n",
    "In [ ]:\n"
   ]
  },
  {
   "cell_type": "markdown",
   "metadata": {},
   "source": [
    "# The command check\n",
    "\n",
    "```\n",
    "returns sat when Z3 finds a solution for the set of asserted constraints. We say Z3 satisfied the set of constraints. We say the solution is a model for the set of asserted constraints. A model is an interpretation that makes each asserted constraint true. The following example shows the basic methods for inspecting models.\n",
    "```"
   ]
  },
  {
   "cell_type": "code",
   "execution_count": 17,
   "metadata": {},
   "outputs": [
    {
     "name": "stdout",
     "output_type": "stream",
     "text": [
      "<b>sat</b>\n",
      "x = 1.5\n",
      "traversing model...\n",
      "z = 0\n",
      "y = 2\n",
      "x = 1.5\n"
     ]
    }
   ],
   "source": [
    "x, y, z = Reals('x y z')\n",
    "s = Solver()\n",
    "s.add(x > 1, y > 1, x + y > 3, z - x < 10)\n",
    "print(s.check())\n",
    "\n",
    "m = s.model()\n",
    "print(\"x = %s\" % m[x])\n",
    "\n",
    "print(\"traversing model...\")\n",
    "for d in m.decls():\n",
    "    print(\"%s = %s\" % (d.name(), m[d]))\n",
    "\n"
   ]
  },
  {
   "cell_type": "markdown",
   "metadata": {},
   "source": [
    "## In the example above, \n",
    "```\n",
    "the function Reals('x y z') creates the variables. x, y and z. It is shorthand for:\n",
    "x = Real('x')\n",
    "y = Real('y')\n",
    "z = Real('z')\n",
    "\n",
    "The expression m[x] returns the interpretation of x in the \n",
    "model m. \n",
    "The expression \"%s = %s\" % (d.name(), m[d]) returns a string where the first %s is replaced with the name of d (i.e., d.name()), \n",
    "and the second %s with a textual representation of the inter-\n",
    "pretation of d (i.e., m[d]). Z3Py automatically converts Z3 \n",
    "objects into a textual representation when needed.\n",
    "```"
   ]
  },
  {
   "cell_type": "markdown",
   "metadata": {},
   "source": [
    "# Arithmetic\n",
    "```\n",
    "Z3 supports real and integer variables. They can be mixed in a single problem. Like most programming languages, Z3Py will automatically add coercions converting integer expressions to real ones when needed. The following example demonstrates different ways to declare integer and real variables.\n",
    "```\n",
    "\n",
    "## The function ToReal\n",
    "casts an integer expression into a real expression.\n"
   ]
  },
  {
   "cell_type": "code",
   "execution_count": 18,
   "metadata": {},
   "outputs": [
    {
     "name": "stdout",
     "output_type": "stream",
     "text": [
      "x + ToReal(y) + 1 + a + ToReal(s)\n",
      "ToReal(y) + c\n"
     ]
    }
   ],
   "source": [
    "x = Real('x')\n",
    "y = Int('y')\n",
    "a, b, c = Reals('a b c')\n",
    "s, r = Ints('s r')\n",
    "print(x + y + 1 + (a + s))\n",
    "print(ToReal(y) + c)"
   ]
  },
  {
   "cell_type": "code",
   "execution_count": 19,
   "metadata": {},
   "outputs": [
    {
     "name": "stdout",
     "output_type": "stream",
     "text": [
      "[c = 0, b = 0, e = 0, d = 0, a = 10]\n"
     ]
    }
   ],
   "source": [
    "# Z3Py supports all basic arithmetic operations.\n",
    "\n",
    "a, b, c = Ints('a b c')\n",
    "d, e = Reals('d e')\n",
    "solve(a > b + 2,\n",
    "      a == 2*c + 10,\n",
    "      c + b <= 1000,\n",
    "      d >= e)\n"
   ]
  },
  {
   "cell_type": "markdown",
   "metadata": {},
   "source": [
    "# The command simplify \n",
    "applies simple transformations on Z3 expressions.\n",
    "\n"
   ]
  },
  {
   "cell_type": "code",
   "execution_count": 20,
   "metadata": {},
   "outputs": [
    {
     "name": "stdout",
     "output_type": "stream",
     "text": [
      "x&middot;x&middot;x + 3&middot;x&middot;x&middot;y + 3&middot;x&middot;y&middot;y + y&middot;y&middot;y\n"
     ]
    }
   ],
   "source": [
    "x, y = Reals('x y')\n",
    " \n",
    "# Put expression in sum-of-monomials form\n",
    "t = simplify((x + y)**3, som=True)\n",
    "print(t)\n",
    "\n"
   ]
  },
  {
   "cell_type": "markdown",
   "metadata": {},
   "source": [
    "#### copy paste\n",
    "x&middot;x&middot;x + 3&middot;x&middot;x&middot;y + 3&middot;x&middot;y&middot;y + y&middot;y&middot;y"
   ]
  },
  {
   "cell_type": "code",
   "execution_count": 21,
   "metadata": {},
   "outputs": [
    {
     "name": "stdout",
     "output_type": "stream",
     "text": [
      "x<sup>3</sup> + 3&middot;x<sup>2</sup>&middot;y + 3&middot;x&middot;y<sup>2</sup> + y<sup>3</sup>\n"
     ]
    }
   ],
   "source": [
    "\n",
    "# Use power operator\n",
    "t = simplify(t, mul_to_power=True)\n",
    "print(t)\n",
    "\n"
   ]
  },
  {
   "cell_type": "markdown",
   "metadata": {},
   "source": [
    "#### copy paste\n",
    "x<sup>3</sup> + 3&middot;x<sup>2</sup>&middot;y + 3&middot;x&middot;y<sup>2</sup> + y<sup>3</sup>"
   ]
  },
  {
   "cell_type": "code",
   "execution_count": null,
   "metadata": {},
   "outputs": [],
   "source": []
  },
  {
   "cell_type": "markdown",
   "metadata": {},
   "source": [
    "# The command help_simplify()\n",
    "prints all available options. Z3Py allows users to write option in two styles. The Z3 internal option names start with : and words are separated by -. These options can be used in Z3Py. Z3Py also supports Python-like names, where : is suppressed and - is replaced with _. The following example demonstrates how to use both styles.\n"
   ]
  },
  {
   "cell_type": "code",
   "execution_count": 22,
   "metadata": {},
   "outputs": [
    {
     "name": "stdout",
     "output_type": "stream",
     "text": [
      "x + -1&middot;y = 2\n",
      "x + -1&middot;y = 2\n",
      "\n",
      "All available options:\n"
     ]
    }
   ],
   "source": [
    "\n",
    "x, y = Reals('x y')\n",
    "# Using Z3 native option names\n",
    "print(simplify(x == y + 2, ':arith-lhs', True))\n",
    "# Using Z3Py option names\n",
    "print(simplify(x == y + 2, arith_lhs=True))\n",
    "\n",
    "print(\"\\nAll available options:\")\n",
    "help_simplify().*?\n",
    "#then jupyter-pager html page ;-) of remove .*?"
   ]
  },
  {
   "cell_type": "markdown",
   "metadata": {},
   "source": [
    "# Z3Py supports arbitrarily large numbers.\n",
    "The following example demonstrates how to perform basic arithmetic using larger integer, rational and irrational numbers. Z3Py only supports algebraic irrational numbers. Algebraic irrational numbers are sufficient for presenting the solutions of systems of polynomial constraints. Z3Py will always display irrational numbers in decimal notation since it is more convenient to read. The internal representation can be extracted using the method sexpr(). It displays Z3 internal representation for mathematical formulas and expressions in s-expression (Lisp-like) notation.\n",
    "\n",
    "\n"
   ]
  },
  {
   "cell_type": "code",
   "execution_count": 23,
   "metadata": {},
   "outputs": [
    {
     "name": "stdout",
     "output_type": "stream",
     "text": [
      "[y = 20000000000000001, x = -9999979999999999999999]\n",
      "2<sup>0.5</sup> + 3<sup>0.5</sup>\n",
      "3.1462643699?\n",
      "(root-obj (+ (^ x 4) (* (- 10) (^ x 2)) 1) 4)\n",
      "(+ x (* (^ y (/ 1.0 2.0)) 2.0))\n"
     ]
    }
   ],
   "source": [
    "x, y = Reals('x y')\n",
    "solve(x + 10000000000000000000000 == y, y > 20000000000000000)\n",
    "\n",
    "print(Sqrt(2) + Sqrt(3))\n",
    "print(simplify(Sqrt(2) + Sqrt(3)))\n",
    "print(simplify(Sqrt(2) + Sqrt(3)).sexpr())\n",
    "# The sexpr() method is available for any Z3 expression\n",
    "print((x + Sqrt(y) * 2).sexpr())\n",
    "\n",
    "\n"
   ]
  },
  {
   "cell_type": "markdown",
   "metadata": {},
   "source": [
    "#### copy paste of second result\n",
    "2<sup>0.5</sup> + 3<sup>0.5</sup>"
   ]
  },
  {
   "cell_type": "code",
   "execution_count": 24,
   "metadata": {},
   "outputs": [
    {
     "name": "stdout",
     "output_type": "stream",
     "text": [
      "-9999959999999999999998\n"
     ]
    },
    {
     "data": {
      "text/plain": [
       "True"
      ]
     },
     "execution_count": 24,
     "metadata": {},
     "output_type": "execute_result"
    }
   ],
   "source": [
    "ny = 20000000000000001\n",
    "nx = -9999979999999999999999\n",
    "print(nx + ny)\n",
    "nx + 10000000000000000000000 == ny"
   ]
  },
  {
   "cell_type": "markdown",
   "metadata": {},
   "source": [
    "# Machine Arithmetic\n",
    "```\n",
    "Modern CPUs and main-stream programming languages use arithmetic over fixed-size bit-vectors. Machine arithmetic is available in Z3Py as Bit-Vectors. They implement the precise semantics of unsigned and of signed two-complements arithmetic.\n",
    "```\n",
    "## The following example\n",
    "```\n",
    "demonstrates how to create bit-vector variables and constants. The function BitVec('x', 16) creates a bit-vector variable in Z3 named x with 16 bits. For convenience, integer constants can be used to create bit-vector expressions in Z3Py. The function BitVecVal(10, 32) creates a bit-vector of size 32 containing the value 10.\n",
    "```\n"
   ]
  },
  {
   "cell_type": "code",
   "execution_count": 25,
   "metadata": {},
   "outputs": [
    {
     "name": "stdout",
     "output_type": "stream",
     "text": [
      "x + 2\n",
      "Internal representation of (x + 2) =  (bvadd x #x0002)\n",
      "-1 is equal to 65535 for 16-bit integers   65535 + x + y\n"
     ]
    }
   ],
   "source": [
    "x = BitVec('x', 16)\n",
    "y = BitVec('y', 16)\n",
    "print(x + 2)\n",
    "print(\"Internal representation of (x + 2) = \",(x + 2).sexpr())\n",
    "\n",
    "\n",
    "print(\"-1 is equal to 65535 for 16-bit integers  \", simplify(x + y - 1))\n",
    "\n"
   ]
  },
  {
   "cell_type": "markdown",
   "metadata": {},
   "source": [
    "# Creating bit-vector constants"
   ]
  },
  {
   "cell_type": "code",
   "execution_count": 26,
   "metadata": {},
   "outputs": [
    {
     "name": "stdout",
     "output_type": "stream",
     "text": [
      "True\n",
      "False\n"
     ]
    }
   ],
   "source": [
    "a = BitVecVal(-1, 16)\n",
    "b = BitVecVal(65535, 16)\n",
    "print(simplify(a == b))\n",
    "\n",
    "a = BitVecVal(-1, 32)\n",
    "b = BitVecVal(65535, 32)\n",
    "\n",
    "# pay attention!\n",
    "# -1 is not equal to 65535 for 32-bit integers \n",
    "print(simplify(a == b))\n",
    "\n"
   ]
  },
  {
   "cell_type": "markdown",
   "metadata": {},
   "source": [
    "# In contrast to programming languages,\n",
    "## such as C, C++, C#, Java, \n",
    "```\n",
    "there is no distinction between signed and unsigned bit-vectors as numbers. Instead, Z3 provides special signed versions of \n",
    "arithmetical operations where it makes a difference whether the bit-vector is treated as signed or unsigned. In Z3Py, the operators <, <=, >, >=, /, % and >> correspond to the signed versions. The \n",
    "corresponding unsigned operators are ULT, ULE, UGT, UGE, UDiv, \n",
    "URem and LShR.\n",
    "```\n"
   ]
  },
  {
   "cell_type": "markdown",
   "metadata": {},
   "source": [
    "# Create to bit-vectors of size 32\n",
    "\n"
   ]
  },
  {
   "cell_type": "code",
   "execution_count": 27,
   "metadata": {},
   "outputs": [
    {
     "name": "stdout",
     "output_type": "stream",
     "text": [
      "[y = 1, x = 1]\n"
     ]
    }
   ],
   "source": [
    "x, y = BitVecs('x y', 32)\n",
    "solve(x + y == 2, x > 0, y > 0)"
   ]
  },
  {
   "cell_type": "markdown",
   "metadata": {},
   "source": [
    "# Bit-wise operators\n",
    " & bit-wise and\n",
    " \n",
    " | bit-wise or\n",
    " \n",
    " ~ bit-wise not"
   ]
  },
  {
   "cell_type": "code",
   "execution_count": 28,
   "metadata": {},
   "outputs": [
    {
     "name": "stdout",
     "output_type": "stream",
     "text": [
      "[y = 4294967295, x = 0]\n",
      "[x = 4294967295]\n"
     ]
    }
   ],
   "source": [
    "solve(x & y == ~y)\n",
    "solve(x < 0)"
   ]
  },
  {
   "cell_type": "markdown",
   "metadata": {},
   "source": [
    "# using unsigned version of < \n",
    "\n",
    "The operator >> is the arithmetic shift right, and << is the shift left. The logical shift right is the operator **LShR**.\n",
    "\n"
   ]
  },
  {
   "cell_type": "code",
   "execution_count": 29,
   "metadata": {},
   "outputs": [
    {
     "name": "stdout",
     "output_type": "stream",
     "text": [
      "no solution\n",
      "[x = 12]\n",
      "no solution\n",
      "[x = 6]\n"
     ]
    }
   ],
   "source": [
    "solve(ULT(x, 0))\n",
    "\n",
    " # Create to bit-vectors of size 32\n",
    "x, y = BitVecs('x y', 32)\n",
    "\n",
    "solve(x >> 2 == 3)\n",
    "\n",
    "solve(x << 2 == 3)\n",
    "\n",
    "solve(x << 2 == 24)\n",
    "\n"
   ]
  },
  {
   "cell_type": "markdown",
   "metadata": {},
   "source": [
    "# Functions\n",
    "```\n",
    "Unlike programming languages, where functions have side-effects,\n",
    "can throw exceptions, or never return, functions in Z3 have no \n",
    "side-effects and are total. That is, they are defined on all\n",
    "input values. This includes functions, such as division.\n",
    "Z3 is based on first-order logic.\n",
    "\n",
    "Given a constraints such as x + y > 3, we have been saying that\n",
    "x and y are variables. In many textbooks, x and y are called uninterpreted constants. That is, they allow any interpretation \n",
    "that is consistent with the constraint x + y > 3.\n",
    "\n",
    "More precisely, function and constant symbols in pure first-order logic are uninterpreted or free, which means that no a priori\n",
    "interpretation is attached. This is in contrast to functions belonging to the signature of theories, such as arithmetic \n",
    "where the function + has a fixed standard interpretation\n",
    "(it adds two numbers). Uninterpreted functions and constants\n",
    "are maximally flexible; they allow any interpretation that is consistent with the constraints over the function or constant.\n",
    "\n",
    "To illustrate uninterpreted functions and constants let us the \n",
    "uninterpreted integer constants (aka variables) x, y. Finally \n",
    "let f be an uninterpreted function that takes one argument of\n",
    "type (aka sort) integer and results in an integer value. \n",
    "The example illustrates how one can force an interpretation \n",
    "where f applied twice to x results in x again, but f applied\n",
    "once to x is different from x.\n",
    "```\n",
    " "
   ]
  },
  {
   "cell_type": "code",
   "execution_count": 30,
   "metadata": {},
   "outputs": [
    {
     "name": "stdout",
     "output_type": "stream",
     "text": [
      "[x = 0, y = 1, f = [1 &rarr; 0, else &rarr; 1]]\n"
     ]
    }
   ],
   "source": [
    "x = Int('x')\n",
    "y = Int('y')\n",
    "f = Function('f', IntSort(), IntSort())\n",
    "solve(f(f(x)) == x, f(x) == y, x != y)"
   ]
  },
  {
   "cell_type": "markdown",
   "metadata": {},
   "source": [
    "#### copy paste\n",
    "[x = 0, y = 1, f = [1 &rarr; 0, else &rarr; 1]]"
   ]
  },
  {
   "cell_type": "markdown",
   "metadata": {},
   "source": [
    "# The solution (interpretation)\n",
    "```\n",
    "for f should be read as f(0) is 1, f(1) is 0, and f(a) is 1 \n",
    "for all a different from 0 and 1.\n",
    "\n",
    "In Z3, we can also evaluate expressions in the model for\n",
    "a system of constraints. The following example shows how \n",
    "to use the evaluate method.\n",
    "```\n"
   ]
  },
  {
   "cell_type": "code",
   "execution_count": 31,
   "metadata": {},
   "outputs": [
    {
     "name": "stdout",
     "output_type": "stream",
     "text": [
      "<b>sat</b>\n",
      "f(f(x)) = 0\n",
      "f(x)    = 1\n"
     ]
    }
   ],
   "source": [
    "x = Int('x')\n",
    "y = Int('y')\n",
    "f = Function('f', IntSort(), IntSort())\n",
    "s = Solver()\n",
    "s.add(f(f(x)) == x, f(x) == y, x != y)\n",
    "print(s.check())\n",
    "m = s.model()\n",
    "print(\"f(f(x)) =\", m.evaluate(f(f(x))))\n",
    "print(\"f(x)    =\", m.evaluate(f(x)))"
   ]
  },
  {
   "cell_type": "markdown",
   "metadata": {},
   "source": [
    "# Satisfiability and Validity\n",
    "```\n",
    "A formula/constraint F is valid if F always evaluates to true for any assignment of appropriate values to its uninterpreted symbols. A formula/constraint F is satisfiable if there is some assignment of appropriate values to its uninterpreted symbols under which F \n",
    "evaluates to true. Validity is about finding a proof of a \n",
    "statement; satisfiability is about finding a solution to a set \n",
    "of constraints. Consider a formula F containing a and b.\n",
    "We can ask whether F is valid, that is whether it is \n",
    "always true for any combination of values for a and b.\n",
    "If F is always true, then Not(F) is always false, and\n",
    "then Not(F) will not have any satisfying assignment \n",
    "(i.e., solution); that is, Not(F) is unsatisfiable. \n",
    "That is, F is valid precisely when Not(F) is not satisfiable \n",
    "(is unsatisfiable). Alternately, F is satisfiable \n",
    "if and only if Not(F) is not valid (is invalid). The following example proves the deMorgan's law.\n",
    "\n",
    "The following example redefines the Z3Py function \n",
    "prove that receives a formula as a parameter. This function\n",
    "creates a solver, adds/asserts the negation of the formula, \n",
    "and check if the negation is unsatisfiable. The implementation\n",
    "of this function is a simpler version of the Z3Py command prove.\n",
    "```"
   ]
  },
  {
   "cell_type": "code",
   "execution_count": 32,
   "metadata": {},
   "outputs": [
    {
     "name": "stdout",
     "output_type": "stream",
     "text": [
      "(p &and; q) = &not;(&not;p &or; &not;q)\n",
      "Proving demorgan...\n",
      "proved\n"
     ]
    }
   ],
   "source": [
    "p, q = Bools('p q')\n",
    "demorgan = And(p, q) == Not(Or(Not(p), Not(q)))\n",
    "print(demorgan)\n",
    "\n",
    "def prove(f):\n",
    "    s = Solver()\n",
    "    s.add(Not(f))\n",
    "    if s.check() == unsat:\n",
    "        print(\"proved\")\n",
    "    else:\n",
    "        print(\"failed to prove\")\n",
    "\n",
    "print(\"Proving demorgan...\")\n",
    "prove(demorgan)\n",
    "\n"
   ]
  },
  {
   "cell_type": "markdown",
   "metadata": {},
   "source": [
    "#### copy paste\n",
    "(p &and; q) = &not;(&not;p &or; &not;q)"
   ]
  },
  {
   "cell_type": "markdown",
   "metadata": {},
   "source": [
    "# List Comprehensions\n",
    "```\n",
    "Python supports list comprehensions. List comprehensions provide a concise way to create lists. They can be used to create Z3 expressions and problems in Z3Py. The following example demonstrates how to use Python list comprehensions in Z3Py.\n",
    "```\n"
   ]
  },
  {
   "cell_type": "code",
   "execution_count": 33,
   "metadata": {},
   "outputs": [
    {
     "name": "stdout",
     "output_type": "stream",
     "text": [
      "[1, 2, 3, 4, 5]\n",
      "[x0, x1, x2, x3, x4]\n",
      "[x0 + y0, x1 + y1, x2 + y2, x3 + y3, x4 + y4]\n",
      "[x0 &gt; y0, x1 &gt; y1, x2 &gt; y2, x3 &gt; y3, x4 &gt; y4]\n",
      "x0 &gt; y0 &and; x1 &gt; y1 &and; x2 &gt; y2 &and; x3 &gt; y3 &and; x4 &gt; y4\n",
      "[[x_1_1, x_1_2, x_1_3],\n",
      " [x_2_1, x_2_2, x_2_3],\n",
      " [x_3_1, x_3_2, x_3_3]]\n"
     ]
    }
   ],
   "source": [
    "# Create list [1, ..., 5] \n",
    "print([ x + 1 for x in range(5) ])\n",
    "\n",
    "# Create two lists containg 5 integer variables\n",
    "X = [ Int('x%s' % i) for i in range(5) ]\n",
    "Y = [ Int('y%s' % i) for i in range(5) ]\n",
    "print(X)\n",
    "\n",
    "# Create a list containing X[i]+Y[i]\n",
    "X_plus_Y = [ X[i] + Y[i] for i in range(5) ]\n",
    "print(X_plus_Y)\n",
    "\n",
    "# Create a list containing X[i] > Y[i]\n",
    "X_gt_Y = [ X[i] > Y[i] for i in range(5) ]\n",
    "print(X_gt_Y)\n",
    "\n",
    "print(And(X_gt_Y))\n",
    "\n",
    "# Create a 3x3 \"matrix\" (list of lists) of integer variables\n",
    "X = [ [ Int(\"x_%s_%s\" % (i+1, j+1)) for j in range(3) ] \n",
    "      for i in range(3) ]\n",
    "pp(X)"
   ]
  },
  {
   "cell_type": "markdown",
   "metadata": {},
   "source": [
    "# In the example above, \n",
    "the expression \"x%s\" % i returns a string where %s is replaced with the value of i.\n",
    "\n",
    "The command pp is similar to print, but it uses Z3Py formatter for lists and tuples instead of Python's formatter.\n",
    "\n",
    "Z3Py also provides functions for creating vectors of Boolean, Integer and Real variables. These functions are implemented using list comprehensions.\n",
    "\n",
    "\n"
   ]
  },
  {
   "cell_type": "code",
   "execution_count": 34,
   "metadata": {},
   "outputs": [
    {
     "name": "stdout",
     "output_type": "stream",
     "text": [
      "[x<sub>0</sub>, x<sub>1</sub>, x<sub>2</sub>, x<sub>3</sub>, x<sub>4</sub>]\n",
      "[y<sub>0</sub>, y<sub>1</sub>, y<sub>2</sub>, y<sub>3</sub>, y<sub>4</sub>]\n",
      "[p<sub>0</sub>, p<sub>1</sub>, p<sub>2</sub>, p<sub>3</sub>, p<sub>4</sub>]\n",
      "[y<sub>0</sub><sup>2</sup>, y<sub>1</sub><sup>2</sup>, y<sub>2</sub><sup>2</sup>, y<sub>3</sub><sup>2</sup>, y<sub>4</sub><sup>2</sup>]\n",
      "y<sub>0</sub><sup>2</sup> + y<sub>1</sub><sup>2</sup> + y<sub>2</sub><sup>2</sup> + y<sub>3</sub><sup>2</sup> + y<sub>4</sub><sup>2</sup>\n"
     ]
    }
   ],
   "source": [
    "X = IntVector('x', 5)\n",
    "Y = RealVector('y', 5)\n",
    "P = BoolVector('p', 5)\n",
    "print(X)\n",
    "print(Y)\n",
    "print(P)\n",
    "print([ y**2 for y in Y ])\n",
    "print(Sum([ y**2 for y in Y ]))"
   ]
  },
  {
   "cell_type": "markdown",
   "metadata": {},
   "source": [
    "#### copy paste\n",
    "[x<sub>0</sub>, x<sub>1</sub>, x<sub>2</sub>, x<sub>3</sub>, x<sub>4</sub>]\n",
    "\n",
    "[y<sub>0</sub>, y<sub>1</sub>, y<sub>2</sub>, y<sub>3</sub>, y<sub>4</sub>]\n",
    "\n",
    "[p<sub>0</sub>, p<sub>1</sub>, p<sub>2</sub>, p<sub>3</sub>, p<sub>4</sub>]\n",
    "\n",
    "[y<sub>0</sub><sup>2</sup>, y<sub>1</sub><sup>2</sup>, y<sub>2</sub><sup>2</sup>, y<sub>3</sub><sup>2</sup>, y<sub>4</sub><sup>2</sup>]\n",
    "\n",
    "y<sub>0</sub><sup>2</sup> + y<sub>1</sub><sup>2</sup> + y<sub>2</sub><sup>2</sup> + y<sub>3</sub><sup>2</sup> + y<sub>4</sub><sup>2</sup>\n",
    "\n"
   ]
  },
  {
   "cell_type": "markdown",
   "metadata": {},
   "source": [
    "# Create list [1, ..., 5] "
   ]
  },
  {
   "cell_type": "code",
   "execution_count": 35,
   "metadata": {},
   "outputs": [
    {
     "name": "stdout",
     "output_type": "stream",
     "text": [
      "list [1 .. 5 =  [1, 2, 3, 4, 5]\n"
     ]
    }
   ],
   "source": [
    "print(\"list [1 .. 5 = \", [ x + 1 for x in range(5) ])\n"
   ]
  },
  {
   "cell_type": "markdown",
   "metadata": {},
   "source": [
    "# Create two lists containg 5 integer variables"
   ]
  },
  {
   "cell_type": "code",
   "execution_count": 36,
   "metadata": {},
   "outputs": [
    {
     "name": "stdout",
     "output_type": "stream",
     "text": [
      "[x0, x1, x2, x3, x4]\n"
     ]
    }
   ],
   "source": [
    "X = [ Int('x%s' % i) for i in range(5) ]\n",
    "Y = [ Int('y%s' % i) for i in range(5) ]\n",
    "print(X)"
   ]
  },
  {
   "cell_type": "markdown",
   "metadata": {},
   "source": [
    "# Create a list containing X[i]+Y[i]"
   ]
  },
  {
   "cell_type": "code",
   "execution_count": 37,
   "metadata": {},
   "outputs": [
    {
     "name": "stdout",
     "output_type": "stream",
     "text": [
      "[x0 + y0, x1 + y1, x2 + y2, x3 + y3, x4 + y4]\n"
     ]
    }
   ],
   "source": [
    "X_plus_Y = [ X[i] + Y[i] for i in range(5) ]\n",
    "print(X_plus_Y)"
   ]
  },
  {
   "cell_type": "markdown",
   "metadata": {},
   "source": [
    "# Create a list containing X[i] > Y[i]"
   ]
  },
  {
   "cell_type": "code",
   "execution_count": 38,
   "metadata": {},
   "outputs": [
    {
     "name": "stdout",
     "output_type": "stream",
     "text": [
      "[x0 &gt; y0, x1 &gt; y1, x2 &gt; y2, x3 &gt; y3, x4 &gt; y4]\n",
      "x0 &gt; y0 &and; x1 &gt; y1 &and; x2 &gt; y2 &and; x3 &gt; y3 &and; x4 &gt; y4\n"
     ]
    }
   ],
   "source": [
    "X_gt_Y = [ X[i] > Y[i] for i in range(5) ]\n",
    "print(X_gt_Y)\n",
    "\n",
    "print(And(X_gt_Y))"
   ]
  },
  {
   "cell_type": "markdown",
   "metadata": {},
   "source": [
    "#### copy paste\n",
    "[x0 &gt; y0, x1 &gt; y1, x2 &gt; y2, x3 &gt; y3, x4 &gt; y4]\n",
    "\n",
    "x0 &gt; y0 &and; x1 &gt; y1 &and; x2 &gt; y2 &and; x3 &gt; y3 &and; x4 &gt; y4"
   ]
  },
  {
   "cell_type": "markdown",
   "metadata": {},
   "source": [
    "# Create a 3x3 \"matrix\" (list of lists) of integer variables"
   ]
  },
  {
   "cell_type": "code",
   "execution_count": 39,
   "metadata": {},
   "outputs": [
    {
     "name": "stdout",
     "output_type": "stream",
     "text": [
      "[[x_1_1, x_1_2, x_1_3],\n",
      " [x_2_1, x_2_2, x_2_3],\n",
      " [x_3_1, x_3_2, x_3_3]]\n"
     ]
    }
   ],
   "source": [
    "X = [ [ Int(\"x_%s_%s\" % (i+1, j+1)) for j in range(3) ] \n",
    "      for i in range(3) ]\n",
    "pp(X)"
   ]
  },
  {
   "cell_type": "markdown",
   "metadata": {},
   "source": [
    "# In the example above,\n",
    "```\n",
    "\n",
    "the expression \"x%s\" % i returns a string where %s is replaced \n",
    "with the value of i.\n",
    "\n",
    "The command pp is similar to print, but it uses Z3Py formatter\n",
    "for lists and tuples instead of Python's formatter.\n",
    "\n",
    "Z3Py also provides functions for creating vectors of Boolean, \n",
    "Integer and Real variables. These functions are implemented \n",
    "using list comprehensions.\n",
    "```\n"
   ]
  },
  {
   "cell_type": "code",
   "execution_count": 40,
   "metadata": {},
   "outputs": [
    {
     "name": "stdout",
     "output_type": "stream",
     "text": [
      "[x<sub>0</sub>, x<sub>1</sub>, x<sub>2</sub>, x<sub>3</sub>, x<sub>4</sub>]\n",
      "[y<sub>0</sub>, y<sub>1</sub>, y<sub>2</sub>, y<sub>3</sub>, y<sub>4</sub>]\n",
      "[p<sub>0</sub>, p<sub>1</sub>, p<sub>2</sub>, p<sub>3</sub>, p<sub>4</sub>]\n",
      "[y<sub>0</sub><sup>2</sup>, y<sub>1</sub><sup>2</sup>, y<sub>2</sub><sup>2</sup>, y<sub>3</sub><sup>2</sup>, y<sub>4</sub><sup>2</sup>]\n",
      "y<sub>0</sub><sup>2</sup> + y<sub>1</sub><sup>2</sup> + y<sub>2</sub><sup>2</sup> + y<sub>3</sub><sup>2</sup> + y<sub>4</sub><sup>2</sup>\n"
     ]
    }
   ],
   "source": [
    "X = IntVector('x', 5)\n",
    "Y = RealVector('y', 5)\n",
    "P = BoolVector('p', 5)\n",
    "print(X)\n",
    "print(Y)\n",
    "print(P)\n",
    "print([ y**2 for y in Y ])\n",
    "print(Sum([ y**2 for y in Y ]))"
   ]
  },
  {
   "cell_type": "markdown",
   "metadata": {},
   "source": [
    "#### copy paste\n",
    "[x<sub>0</sub>, x<sub>1</sub>, x<sub>2</sub>, x<sub>3</sub>, x<sub>4</sub>]\n",
    "\n",
    "[y<sub>0</sub>, y<sub>1</sub>, y<sub>2</sub>, y<sub>3</sub>, y<sub>4</sub>]\n",
    "\n",
    "[p<sub>0</sub>, p<sub>1</sub>, p<sub>2</sub>, p<sub>3</sub>, p<sub>4</sub>]\n",
    "\n",
    "[y<sub>0</sub><sup>2</sup>, y<sub>1</sub><sup>2</sup>, y<sub>2</sub><sup>2</sup>, y<sub>3</sub><sup>2</sup>, y<sub>4</sub><sup>2</sup>]\n",
    "\n",
    "y<sub>0</sub><sup>2</sup> + y<sub>1</sub><sup>2</sup> + y<sub>2</sub><sup>2</sup> + y<sub>3</sub><sup>2</sup> + y<sub>4</sub><sup>2</sup>"
   ]
  },
  {
   "cell_type": "markdown",
   "metadata": {},
   "source": [
    "# Kinematic Equations\n",
    "```\n",
    "In high school, students learn the kinematic equations. These \n",
    "equations describe the mathematical relationship between \n",
    "displacement (d), time (t), acceleration (a), initial\n",
    "velocity (v_i) and final velocity (v_f). In Z3Py notation,\n",
    "we can write these equations as:\n",
    "\n",
    "   d == v_i * t + (a*t**2)/2,\n",
    "   v_f == v_i + a*t\n",
    "\n",
    "```\n",
    "### see Problem 1"
   ]
  },
  {
   "cell_type": "markdown",
   "metadata": {},
   "source": [
    "# Problem 1\n",
    "\n",
    "Ima Hurryin is approaching a stoplight moving with a velocity of 30.0 m/s. The light turns yellow, and Ima applies the brakes and skids to a stop. If Ima's acceleration is -8.00 m/s2, then determine the displacement of the car during the skidding process.\n",
    "\n"
   ]
  },
  {
   "cell_type": "code",
   "execution_count": 41,
   "metadata": {},
   "outputs": [
    {
     "name": "stdout",
     "output_type": "stream",
     "text": [
      "Kinematic equations:\n",
      "[d = v<sub>i</sub>&middot;t + (a&middot;t<sup>2</sup>)/2, v<sub>f</sub> = v<sub>i</sub> + a&middot;t]\n",
      "Problem:\n",
      "[v<sub>i</sub> = 30, v<sub>f</sub> = 0, a = -8]\n",
      "Solution:\n",
      "[a = -8, v<sub>f</sub> = 0, v<sub>i</sub> = 30, t = 3.75, d = 56.25]\n"
     ]
    }
   ],
   "source": [
    "# PKHG> make z3 suitable z3 reals\n",
    "d, a, t, v_i, v_f = Reals('d a t v__i v__f')\n",
    "\n",
    "equations = [\n",
    "   d == v_i * t + (a*t**2)/2,\n",
    "   v_f == v_i + a*t,\n",
    "]\n",
    "print(\"Kinematic equations:\")\n",
    "print(equations)\n",
    "\n",
    "# Given v_i, v_f and a, find d\n",
    "problem = [\n",
    "    v_i == 30,\n",
    "    v_f == 0,\n",
    "    a   == -8\n",
    "]\n",
    "print(\"Problem:\")\n",
    "print(problem )\n",
    "\n",
    "print(\"Solution:\")\n",
    "solve(equations + problem)"
   ]
  },
  {
   "cell_type": "markdown",
   "metadata": {},
   "source": [
    "#### copy paste\n",
    "Kinematic equations:\n",
    "[d = v<sub>i</sub>&middot;t + (a&middot;\n",
    "t<sup>2</sup>)/2, v<sub>f</sub> = v<sub>i</sub> + a&middot;t]\n",
    "\n",
    "Problem:\n",
    "\n",
    "[v<sub>i</sub> = 30, v<sub>f</sub> = 0, a = -8]\n",
    "\n",
    "Solution:\n",
    "\n",
    "[a = -8, v<sub>f</sub> = 0, v<sub>i</sub> = 30, t = 3.75, d = 56.25]"
   ]
  },
  {
   "cell_type": "markdown",
   "metadata": {},
   "source": [
    "# Problem 2\n",
    "\n",
    "Ben Rushin is waiting at a stoplight. When it finally turns green, Ben accelerated from rest at a rate of a 6.00 m/s2 for a time of 4.10 seconds. Determine the displacement of Ben's car during this time period.\n",
    "\n"
   ]
  },
  {
   "cell_type": "code",
   "execution_count": 42,
   "metadata": {},
   "outputs": [
    {
     "name": "stdout",
     "output_type": "stream",
     "text": [
      "equations = [d = v_i&middot;t + (a&middot;t<sup>2</sup>)/2, v_f = v_i + a&middot;t]\n",
      "[a = 6, t = 41/10, v_i = 0, v_f = 123/5, d = 5043/100]\n",
      "[a = 6, t = 4.1, v_i = 0, v_f = 24.6, d = 50.43]\n"
     ]
    }
   ],
   "source": [
    "#PKHG>added:\n",
    "set_option(rational_to_decimal = False)\n",
    "\n",
    "d, a, t, v_i, v_f = Reals('d a t v_i v_f')\n",
    "\n",
    "equations = [\n",
    "   d == v_i * t + (a*t**2)/2,\n",
    "   v_f == v_i + a*t,\n",
    "]\n",
    "\n",
    "#PKHG>added\n",
    "print(\"equations =\", equations)\n",
    "\n",
    "# Given v_i, t and a, find d\n",
    "problem = [\n",
    "    v_i == 0,\n",
    "    t   == 4.10,\n",
    "    a   == 6\n",
    "]\n",
    "\n",
    "solve(equations + problem)\n",
    "\n",
    "# Display rationals in decimal notation\n",
    "set_option(rational_to_decimal=True)\n",
    "\n",
    "solve(equations + problem)"
   ]
  },
  {
   "cell_type": "markdown",
   "metadata": {},
   "source": [
    "#### copy paste\n",
    "equations = [d = v_i&middot;t + (a&middot;t<sup>2</sup>)/2, v_f = v_i + a&middot;t] \n",
    "\n",
    "[a = 6, t = 41/10, v<sub>i</sub> = 0, v<sub>f</sub> = 123/5, d = 5043/100]\n",
    "\n",
    "[a = 6, t = 4.1, v<sub>i</sub> = 0, v<sub>f</sub> = 24.6, d = 50.43]"
   ]
  },
  {
   "cell_type": "markdown",
   "metadata": {},
   "source": [
    "# Bit Tricks\n",
    "\n",
    "Some low level hacks are very popular with C programmers. We use some of these hacks in the Z3 implementation.\n",
    "\n",
    "## Power of two\n",
    "\n",
    "This hack is frequently used in C programs (Z3 included) to test whether a machine integer is a power of two. We can use Z3 to prove it really works. \n",
    "### The claim is \n",
    "that x != 0 && !(x & (x - 1)) is true if and only if x is a power of two.\n",
    "\n"
   ]
  },
  {
   "cell_type": "code",
   "execution_count": 43,
   "metadata": {},
   "outputs": [
    {
     "name": "stdout",
     "output_type": "stream",
     "text": [
      "x &ne; 0 &and; x & x - 1 = 0\n",
      "proved\n",
      "trying to prove buggy version...\n",
      "failed to prove\n"
     ]
    }
   ],
   "source": [
    "x      = BitVec('x', 32)\n",
    "powers = [ 2**i for i in range(32) ]\n",
    "fast   = And(x != 0, x & (x - 1) == 0)\n",
    "slow   = Or([ x == p for p in powers ])\n",
    "print(fast)\n",
    "prove(fast == slow)\n",
    "\n",
    "print(\"trying to prove buggy version...\")\n",
    "fast   = x & (x - 1) == 0\n",
    "prove(fast == slow)"
   ]
  },
  {
   "cell_type": "markdown",
   "metadata": {},
   "source": [
    "# Opposite signs\n",
    "\n",
    "The following simple hack can be used to test whether two machine integers have opposite signs."
   ]
  },
  {
   "cell_type": "code",
   "execution_count": 44,
   "metadata": {},
   "outputs": [],
   "source": [
    "x      = BitVec('x', 32)\n",
    "y      = BitVec('y', 32)"
   ]
  },
  {
   "cell_type": "markdown",
   "metadata": {},
   "source": [
    "# Claim: \n",
    "(x ^ y) < 0 iff x and y have opposite signs\n"
   ]
  },
  {
   "cell_type": "code",
   "execution_count": 45,
   "metadata": {},
   "outputs": [
    {
     "name": "stdout",
     "output_type": "stream",
     "text": [
      "proved\n"
     ]
    }
   ],
   "source": [
    "trick  = (x ^ y) < 0\n",
    "\n",
    "# Naive way to check if x and y have opposite signs\n",
    "opposite = Or(And(x < 0, y >= 0),\n",
    "              And(x >= 0, y < 0))\n",
    "\n",
    "prove(trick == opposite)"
   ]
  },
  {
   "cell_type": "markdown",
   "metadata": {},
   "source": [
    "# Puzzles\n",
    "\n",
    "## Dog, Cat and Mouse\n",
    "\n",
    "Consider the following puzzle. Spend exactly 100 dollars and buy exactly 100 animals. Dogs cost 15 dollars, cats cost 1 dollar, and mice cost 25 cents each. You have to buy at least one of each. How many of each should you buy?\n",
    "\n"
   ]
  },
  {
   "cell_type": "code",
   "execution_count": 46,
   "metadata": {},
   "outputs": [
    {
     "name": "stdout",
     "output_type": "stream",
     "text": [
      "[cat = 41, mouse = 56, dog = 3]\n"
     ]
    }
   ],
   "source": [
    "# Create 3 integer variables\n",
    "dog, cat, mouse = Ints('dog cat mouse')\n",
    "solve(dog >= 1,   # at least one dog\n",
    "      cat >= 1,   # at least one cat\n",
    "      mouse >= 1, # at least one mouse\n",
    "      # we want to buy 100 animals\n",
    "      dog + cat + mouse == 100,  \n",
    "      # We have 100 dollars (10000 cents):\n",
    "      #   dogs cost 15 dollars (1500 cents), \n",
    "      #   cats cost 1 dollar (100 cents), and \n",
    "      #   mice cost 25 cents \n",
    "      1500 * dog + 100 * cat + 25 * mouse == 10000)\n"
   ]
  },
  {
   "cell_type": "markdown",
   "metadata": {},
   "source": [
    "# Sudoku\n",
    "\n",
    "Sudoku is a very popular puzzle. The goal is to insert the numbers in the boxes to satisfy only one condition: each row, column and 3x3 box must contain the digits 1 through 9 exactly once.\n",
    "\n",
    "\n",
    "The following example encodes the suduko problem in Z3. Different sukudo instances can be solved by modifying the matrix instance. This example makes heavy use of list comprehensions available in the Python programming language."
   ]
  },
  {
   "cell_type": "markdown",
   "metadata": {},
   "source": [
    "# A sudoku given: compare with instance!\n",
    "<img src=\"LdMsud.png\"/>"
   ]
  },
  {
   "cell_type": "code",
   "execution_count": 47,
   "metadata": {},
   "outputs": [
    {
     "name": "stdout",
     "output_type": "stream",
     "text": [
      "<table cellpadding=\"2\", cellspacing=\"0\", border=\"1\">\n",
      "<tr>\n",
      "<td>7</td>\n",
      "<td>1</td>\n",
      "<td>5</td>\n",
      "<td>8</td>\n",
      "<td>9</td>\n",
      "<td>4</td>\n",
      "<td>6</td>\n",
      "<td>3</td>\n",
      "<td>2</td>\n",
      "</tr>\n",
      "<tr>\n",
      "<td>2</td>\n",
      "<td>3</td>\n",
      "<td>4</td>\n",
      "<td>5</td>\n",
      "<td>1</td>\n",
      "<td>6</td>\n",
      "<td>8</td>\n",
      "<td>9</td>\n",
      "<td>7</td>\n",
      "</tr>\n",
      "<tr>\n",
      "<td>6</td>\n",
      "<td>8</td>\n",
      "<td>9</td>\n",
      "<td>7</td>\n",
      "<td>2</td>\n",
      "<td>3</td>\n",
      "<td>1</td>\n",
      "<td>4</td>\n",
      "<td>5</td>\n",
      "</tr>\n",
      "<tr>\n",
      "<td>4</td>\n",
      "<td>9</td>\n",
      "<td>3</td>\n",
      "<td>6</td>\n",
      "<td>5</td>\n",
      "<td>7</td>\n",
      "<td>2</td>\n",
      "<td>1</td>\n",
      "<td>8</td>\n",
      "</tr>\n",
      "<tr>\n",
      "<td>8</td>\n",
      "<td>6</td>\n",
      "<td>7</td>\n",
      "<td>2</td>\n",
      "<td>3</td>\n",
      "<td>1</td>\n",
      "<td>9</td>\n",
      "<td>5</td>\n",
      "<td>4</td>\n",
      "</tr>\n",
      "<tr>\n",
      "<td>1</td>\n",
      "<td>5</td>\n",
      "<td>2</td>\n",
      "<td>4</td>\n",
      "<td>8</td>\n",
      "<td>9</td>\n",
      "<td>7</td>\n",
      "<td>6</td>\n",
      "<td>3</td>\n",
      "</tr>\n",
      "<tr>\n",
      "<td>3</td>\n",
      "<td>7</td>\n",
      "<td>6</td>\n",
      "<td>1</td>\n",
      "<td>4</td>\n",
      "<td>8</td>\n",
      "<td>5</td>\n",
      "<td>2</td>\n",
      "<td>9</td>\n",
      "</tr>\n",
      "<tr>\n",
      "<td>9</td>\n",
      "<td>2</td>\n",
      "<td>8</td>\n",
      "<td>3</td>\n",
      "<td>6</td>\n",
      "<td>5</td>\n",
      "<td>4</td>\n",
      "<td>7</td>\n",
      "<td>1</td>\n",
      "</tr>\n",
      "<tr>\n",
      "<td>5</td>\n",
      "<td>4</td>\n",
      "<td>1</td>\n",
      "<td>9</td>\n",
      "<td>7</td>\n",
      "<td>2</td>\n",
      "<td>3</td>\n",
      "<td>8</td>\n",
      "<td>6</td>\n",
      "</tr>\n",
      "</table>\n"
     ]
    }
   ],
   "source": [
    "\n",
    "# 9x9 matrix of integer variables\n",
    "X = [ [ Int(\"x_%s_%s\" % (i+1, j+1)) for j in range(9) ] \n",
    "      for i in range(9) ]\n",
    "\n",
    "# each cell contains a value in {1, ..., 9}\n",
    "cells_c  = [ And(1 <= X[i][j], X[i][j] <= 9) \n",
    "             for i in range(9) for j in range(9) ]\n",
    "\n",
    "# each row contains a digit at most once\n",
    "rows_c   = [ Distinct(X[i]) for i in range(9) ]\n",
    "\n",
    "# each column contains a digit at most once\n",
    "cols_c   = [ Distinct([ X[i][j] for i in range(9) ]) \n",
    "             for j in range(9) ]\n",
    "\n",
    "# each 3x3 square contains a digit at most once\n",
    "sq_c     = [ Distinct([ X[3*i0 + i][3*j0 + j] \n",
    "                        for i in range(3) for j in range(3) ]) \n",
    "             for i0 in range(3) for j0 in range(3) ]\n",
    "\n",
    "sudoku_c = cells_c + rows_c + cols_c + sq_c\n",
    "\n",
    "# sudoku instance, we use '0' for empty cells\n",
    "instance = ((0,0,0,0,9,4,0,3,0),\n",
    "            (0,0,0,5,1,0,0,0,7),\n",
    "            (0,8,9,0,0,0,0,4,0),\n",
    "            (0,0,0,0,0,0,2,0,8),\n",
    "            (0,6,0,2,0,1,0,5,0),\n",
    "            (1,0,2,0,0,0,0,0,0),\n",
    "            (0,7,0,0,0,0,5,2,0),\n",
    "            (9,0,0,0,6,5,0,0,0),\n",
    "            (0,4,0,9,7,0,0,0,0))\n",
    "\n",
    "instance_c = [ If(instance[i][j] == 0, \n",
    "                  True, \n",
    "                  X[i][j] == instance[i][j]) \n",
    "               for i in range(9) for j in range(9) ]\n",
    "\n",
    "s = Solver()\n",
    "s.add(sudoku_c + instance_c)\n",
    "if s.check() == sat:\n",
    "    m = s.model()\n",
    "    r = [ [ m.evaluate(X[i][j]) for j in range(9) ] \n",
    "          for i in range(9) ]\n",
    "    print_matrix(r)\n",
    "else:\n",
    "    print(\"failed to solve\")\n",
    "\n"
   ]
  },
  {
   "cell_type": "markdown",
   "metadata": {},
   "source": [
    "#### copy paste (PKHG>should be made nicer , later!)\n",
    "<table cellpadding=\"2\", cellspacing=\"0\", border=\"1\">\n",
    "<tr>\n",
    "<td>7</td>\n",
    "<td>1</td>\n",
    "<td>5</td>\n",
    "<td>8</td>\n",
    "<td>9</td>\n",
    "<td>4</td>\n",
    "<td>6</td>\n",
    "<td>3</td>\n",
    "<td>2</td>\n",
    "</tr>\n",
    "<tr>\n",
    "<td>2</td>\n",
    "<td>3</td>\n",
    "<td>4</td>\n",
    "<td>5</td>\n",
    "<td>1</td>\n",
    "<td>6</td>\n",
    "<td>8</td>\n",
    "<td>9</td>\n",
    "<td>7</td>\n",
    "</tr>\n",
    "<tr>\n",
    "<td>6</td>\n",
    "<td>8</td>\n",
    "<td>9</td>\n",
    "<td>7</td>\n",
    "<td>2</td>\n",
    "<td>3</td>\n",
    "<td>1</td>\n",
    "<td>4</td>\n",
    "<td>5</td>\n",
    "</tr>\n",
    "<tr>\n",
    "<td>4</td>\n",
    "<td>9</td>\n",
    "<td>3</td>\n",
    "<td>6</td>\n",
    "<td>5</td>\n",
    "<td>7</td>\n",
    "<td>2</td>\n",
    "<td>1</td>\n",
    "<td>8</td>\n",
    "</tr>\n",
    "<tr>\n",
    "<td>8</td>\n",
    "<td>6</td>\n",
    "<td>7</td>\n",
    "<td>2</td>\n",
    "<td>3</td>\n",
    "<td>1</td>\n",
    "<td>9</td>\n",
    "<td>5</td>\n",
    "<td>4</td>\n",
    "</tr>\n",
    "<tr>\n",
    "<td>1</td>\n",
    "<td>5</td>\n",
    "<td>2</td>\n",
    "<td>4</td>\n",
    "<td>8</td>\n",
    "<td>9</td>\n",
    "<td>7</td>\n",
    "<td>6</td>\n",
    "<td>3</td>\n",
    "</tr>\n",
    "<tr>\n",
    "<td>3</td>\n",
    "<td>7</td>\n",
    "<td>6</td>\n",
    "<td>1</td>\n",
    "<td>4</td>\n",
    "<td>8</td>\n",
    "<td>5</td>\n",
    "<td>2</td>\n",
    "<td>9</td>\n",
    "</tr>\n",
    "<tr>\n",
    "<td>9</td>\n",
    "<td>2</td>\n",
    "<td>8</td>\n",
    "<td>3</td>\n",
    "<td>6</td>\n",
    "<td>5</td>\n",
    "<td>4</td>\n",
    "<td>7</td>\n",
    "<td>1</td>\n",
    "</tr>\n",
    "<tr>\n",
    "<td>5</td>\n",
    "<td>4</td>\n",
    "<td>1</td>\n",
    "<td>9</td>\n",
    "<td>7</td>\n",
    "<td>2</td>\n",
    "<td>3</td>\n",
    "<td>8</td>\n",
    "<td>6</td>\n",
    "</tr>\n",
    "</table>"
   ]
  },
  {
   "cell_type": "markdown",
   "metadata": {},
   "source": [
    "# Eight Queens\n",
    "\n",
    "The eight queens puzzle is the problem of placing eight chess queens on an 8x8 chessboard so that no two queens attack each other. Thus, a solution requires that no two queens share the same row, column, or diagonal.\n",
    "\n",
    "<img src=\"eightqueens.png\">\n"
   ]
  },
  {
   "cell_type": "code",
   "execution_count": 48,
   "metadata": {},
   "outputs": [
    {
     "name": "stdout",
     "output_type": "stream",
     "text": [
      "[Q_5 = 1,\n",
      " Q_8 = 7,\n",
      " Q_3 = 8,\n",
      " Q_2 = 2,\n",
      " Q_6 = 3,\n",
      " Q_4 = 6,\n",
      " Q_7 = 5,\n",
      " Q_1 = 4]\n"
     ]
    }
   ],
   "source": [
    "# We know each queen must be in a different row.\n",
    "# So, we represent each queen by a single integer: the column position\n",
    "Q = [ Int('Q_%i' % (i + 1)) for i in range(8) ]\n",
    "\n",
    "# Each queen is in a column {1, ... 8 }\n",
    "val_c = [ And(1 <= Q[i], Q[i] <= 8) for i in range(8) ]\n",
    "\n",
    "# At most one queen per column\n",
    "col_c = [ Distinct(Q) ]\n",
    "\n",
    "# Diagonal constraint\n",
    "diag_c = [ If(i == j, \n",
    "              True, \n",
    "              And(Q[i] - Q[j] != i - j, Q[i] - Q[j] != j - i)) \n",
    "           for i in range(8) for j in range(i) ]\n",
    "\n",
    "solve(val_c + col_c + diag_c)\n"
   ]
  },
  {
   "cell_type": "markdown",
   "metadata": {},
   "source": [
    "# Example: Application Install Problem\n",
    "\n",
    "The install problem consists of determining whether a new set of packages can be installed in a system. This application is based on the article OPIUM: Optimal Package Install/Uninstall Manager. Many packages depend on other packages to provide some functionality. Each distribution contains a meta-data file that explicates the requirements of each package of the distribution The meta-data contains details like the name, version, etc. More importantly, it contains depends and conflicts clauses that stipulate which other packages should be on the system. The depends clauses stipulate which other packages must be present. The conflicts clauses stipulate which other packages must not be present.\n",
    "\n",
    "The install problem can be easily solved using Z3. The idea is to define a Boolean variable for each package. This variable is true if the package must be in the system. If package a depends on packages b, c and z, we write:\n",
    "\n",
    "DependsOn(a, [b, c, z])\n",
    "DependsOn is a simple Python function that creates Z3 constraints that capture the depends clause semantics.\n",
    "\n"
   ]
  },
  {
   "cell_type": "markdown",
   "metadata": {},
   "source": [
    "```def DependsOn(pack, deps):\n",
    "   return And([ Implies(pack, dep) for dep in deps ])\n",
    "```   \n",
    "\n",
    "Thus, Depends(a, [b, c, z]) generates the constraint\n",
    "\n",
    "And(Implies(a, b), Implies(a, c), Implies(a, z))\n",
    "\n",
    "That is, if users install package a, they must also install packages b, c and z.\n",
    "\n",
    "If package d conflicts with package e, we write Conflict(d, e). Conflict is also a simple Python function.\n",
    "\n"
   ]
  },
  {
   "cell_type": "markdown",
   "metadata": {},
   "source": [
    "```def Conflict(p1, p2):\n",
    "    return Or(Not(p1), Not(p2))\n",
    "```\n",
    "Conflict(d, e) generates the constraint \n",
    "\n",
    "Or(Not(d), Not(e)). \n",
    "\n",
    "With these two functions, we can easily encode the example in the Opium article (Section 2) in Z3Py as:"
   ]
  },
  {
   "cell_type": "code",
   "execution_count": 49,
   "metadata": {},
   "outputs": [
    {
     "name": "stdout",
     "output_type": "stream",
     "text": [
      "[a = True,\n",
      " b = True,\n",
      " c = True,\n",
      " z = True,\n",
      " d = True,\n",
      " e = False,\n",
      " f = True,\n",
      " g = False]\n"
     ]
    }
   ],
   "source": [
    "def DependsOn(pack, deps):\n",
    "    return And([ Implies(pack, dep) for dep in deps ])\n",
    "\n",
    "def Conflict(p1, p2):\n",
    "    return Or(Not(p1), Not(p2))\n",
    "\n",
    "a, b, c, d, e, f, g, z = Bools('a b c d e f g z')\n",
    "\n",
    "solve(DependsOn(a, [b, c, z]),\n",
    "      DependsOn(b, [d]),\n",
    "      DependsOn(c, [Or(d, e), Or(f, g)]),\n",
    "      Conflict(d, e),\n",
    "      a, z)"
   ]
  },
  {
   "cell_type": "markdown",
   "metadata": {},
   "source": [
    "# Note that the example contains the constraint\n",
    "\n",
    "DependsOn(c, [Or(d, e), Or(f, g)]),\n",
    "\n",
    "### The meaning is: to install c, we must install d or e, and f or g\n",
    "\n",
    "## Now, we refine the previous example.\n",
    "First, we modify DependsOn to allow us to write DependsOn(b, d) instead of DependsOn(b, [d]). We also write a function install_check that returns a list of packages that must be installed in the system. The function Conflict is also modified. It can now receive multiple arguments."
   ]
  },
  {
   "cell_type": "code",
   "execution_count": 50,
   "metadata": {},
   "outputs": [
    {
     "name": "stdout",
     "output_type": "stream",
     "text": [
      "Check 1\n",
      "[a, b, c, z, d, f]\n",
      "Check 2\n",
      "invalid installation profile\n"
     ]
    }
   ],
   "source": [
    "def DependsOn(pack, deps):\n",
    "    if is_expr(deps):\n",
    "        return Implies(pack, deps)\n",
    "    else:\n",
    "        return And([ Implies(pack, dep) for dep in deps ])\n",
    "\n",
    "def Conflict(*packs):\n",
    "    return Or([ Not(pack) for pack in packs ])\n",
    "\n",
    "a, b, c, d, e, f, g, z = Bools('a b c d e f g z')\n",
    "\n",
    "def install_check(*problem):\n",
    "    s = Solver()\n",
    "    s.add(*problem)\n",
    "    if s.check() == sat:\n",
    "        m = s.model()\n",
    "        r = []\n",
    "        for x in m:\n",
    "            if is_true(m[x]):\n",
    "                # x is a Z3 declaration\n",
    "                # x() returns the Z3 expression\n",
    "                # x.name() returns a string\n",
    "                r.append(x())\n",
    "        print(r)\n",
    "    else:\n",
    "        print(\"invalid installation profile\")\n",
    "\n",
    "print(\"Check 1\")\n",
    "install_check(DependsOn(a, [b, c, z]),\n",
    "              DependsOn(b, d),\n",
    "              DependsOn(c, [Or(d, e), Or(f, g)]),\n",
    "              Conflict(d, e),\n",
    "              Conflict(d, g),\n",
    "              a, z)\n",
    "\n",
    "print(\"Check 2\")\n",
    "install_check(DependsOn(a, [b, c, z]),\n",
    "              DependsOn(b, d),\n",
    "              DependsOn(c, [Or(d, e), Or(f, g)]),\n",
    "              Conflict(d, e),\n",
    "              Conflict(d, g),\n",
    "              a, z, g)"
   ]
  },
  {
   "cell_type": "markdown",
   "metadata": {},
   "source": [
    "# Using Z3Py Locally"
   ]
  },
  {
   "cell_type": "markdown",
   "metadata": {},
   "source": [
    "# Z3Py is part of the Z3 distribution.\n",
    "It is located in the python subdirectory. To use it locally, you have to include the following command in your Python script\n",
    "(PKHG>OR your python-notebook code-cell).\n",
    "\n",
    "from Z3 import *\n",
    "\n",
    "\n",
    "The Z3 Python frontend directory must be in your PYTHONPATH environment variable. Z3Py will automatically search for the Z3 library (z3.dll (Windows), libz3.so (Linux), or libz3.dylib (OSX)). You may also initialize Z3Py manually using the command:\n",
    "\n",
    "init(\"z3.dll\")"
   ]
  },
  {
   "cell_type": "markdown",
   "metadata": {},
   "source": [
    "# use python"
   ]
  },
  {
   "cell_type": "code",
   "execution_count": 51,
   "metadata": {},
   "outputs": [],
   "source": [
    "import sys\n",
    "#sys.path  #activate at YOUR site"
   ]
  },
  {
   "cell_type": "code",
   "execution_count": null,
   "metadata": {},
   "outputs": [],
   "source": []
  }
 ],
 "metadata": {
  "kernelspec": {
   "display_name": "Python 3",
   "language": "python",
   "name": "python3"
  },
  "language_info": {
   "codemirror_mode": {
    "name": "ipython",
    "version": 3
   },
   "file_extension": ".py",
   "mimetype": "text/x-python",
   "name": "python",
   "nbconvert_exporter": "python",
   "pygments_lexer": "ipython3",
   "version": "3.7.3"
  }
 },
 "nbformat": 4,
 "nbformat_minor": 2
}
