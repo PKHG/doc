{
 "cells": [
  {
   "cell_type": "markdown",
   "metadata": {},
   "source": [
    "# Solution idea is from\n",
    "#### Original (but not a notebook) remark: not Python 3 used\n",
    "https://pclubiiti.github.io/blog/Inroduction-toSAT-solving/\n",
    "\n",
    "Uses http://binarypuzzle.com\n",
    "\n",
    "\n",
    "# completed by Peter Gragert \n",
    "for any quadratic BP of size 2n x 2n"
   ]
  },
  {
   "cell_type": "markdown",
   "metadata": {},
   "source": [
    "# a Binary Puzzel is a 2n x 2n quadratic scheme\n",
    "consisting of 0s and 1s and .s (denoting not yet known) boxes.\n",
    "\n",
    "\n",
    "# The rules\n",
    "\n",
    "Each binary puzzle should be solved according to the following rules:\n",
    "\n",
    "- Each box should contains a zero or a one.\n",
    "- No more than two similar numbers next to or below each other are allowed.\n",
    "- Each row and each column should contain an equal number of zeros and ones.\n",
    "- Each row is unique and each column is unique. \n",
    "\n",
    "<p style=\"font-family:Courier; color:Blue; font-size: 20px;\">\n",
    "A really good bindary puzzel should have ONE solution and can be solved without gessing.</p>"
   ]
  },
  {
   "cell_type": "code",
   "execution_count": 19,
   "metadata": {},
   "outputs": [],
   "source": [
    "# example of a 10 x 10 puzzel (ONE solution)\n",
    "\n",
    "game = \"\"\"\n",
    "...00....1\n",
    "........01\n",
    "..0...1.0.\n",
    ".1...1....\n",
    ".0.0.11...\n",
    "1.....1...\n",
    ".0...1....\n",
    "...1.1.11.\n",
    "..........\n",
    "..00......\n",
    "\"\"\"\n",
    "\n",
    "from z3 import *\n",
    "import numpy as np # to show (first) solution matrice\n",
    "#solutions will be saved in a dictionary of np.matrices\n",
    "s = Solver()\n",
    "# PKHG>for DBG vals a variable to access (later)\n",
    "vals = []\n",
    "\n",
    "sol = None #PKHG>for DBG too\n",
    "\n",
    "def SolvePuzzel(game, maxCounter = 2, show_sol = False):\n",
    "    \"\"\"\n",
    "    before use ececute: s = Solver() \n",
    "    game is to be solved\n",
    "    default counter maximized by 2 to see if\n",
    "    there is more than ONE solution\n",
    "    solutions as np.matrices are stored in a dictionary and returned\n",
    "    \"\"\"\n",
    "    global vals\n",
    "    \n",
    "    #for controlling the number of solutions!\n",
    "    result = dict()\n",
    "    counter = 0 #while loop uses it\n",
    "    \n",
    "    #check input game!\n",
    "    try:\n",
    "        game = [y for y in filter(lambda x:x in '01.', game)]\n",
    "        sizeXsize = len(game)\n",
    "        size = int(math.sqrt(sizeXsize))\n",
    "        assert(size * size == sizeXsize) \n",
    "        half_int_size = int(size/2)\n",
    "        assert(size == 2 * int(size/2)) #even number of rows and columns\n",
    "    except:\n",
    "        return(\"check input game\")\n",
    "    \n",
    "    #  a list cordinates to access (later) rows or columns)\n",
    "    vs = [(r,c) for r in range(size) for c in range(size)]\n",
    "\n",
    "    #  all cells declared as BitVectors Z3-variables\n",
    "    # _ used to   rows and colum indices\n",
    "    # half_int_size should suffice in BitVec ...\n",
    "    bV  = [[z3.BitVec('v_%d_%d' % (r,c), half_int_size)  for c in range(size)] \n",
    "      for r in range(size)]\n",
    "    \n",
    "    #initializing all variables using the given info\n",
    "    # either 0 or 1 or condition BINARY (value 0 or 1)\n",
    "    \n",
    "    # the z3-solver global for DBG\n",
    "    #s = Solver()\n",
    "\n",
    "    for ((r,c), val) in zip(vs, game):\n",
    "        if val == '.':  s.add(0 <= bV[r][c], bV[r][c] <= 1)\n",
    "        else:           s.add(bV[r][c] == (int(val)))\n",
    "\n",
    "    #helpers for row and column indices \n",
    "    def row(n):   return [(n, i) for i in range(size)]\n",
    "    def col(n):   return [(i, n) for i in range(size)]\n",
    "\n",
    "    #Puzzel condition: rows, columns must sum up to size/2\n",
    "    for i in range(size):\n",
    "        s.add(z3.Sum([bV[r][c] for r,c in row(i)]) == (half_int_size))\n",
    "        s.add(z3.Sum([bV[r][c] for r,c in col(i)]) == (half_int_size))\n",
    "\n",
    "    # puzzel condition at moost two 1s or 0s in row resp. column\n",
    "    # help functions for 3 consecutive cells (rows or cols)\n",
    "    def row3(n, m):   return [(n, i) for i in range(m, m + 3)]\n",
    "    def col3(n, m):   return [(i, n) for i in range(m, m + 3)]\n",
    "    \n",
    "    for i in range(size):\n",
    "        for j in range(size-2):\n",
    "            #at most two 1s\n",
    "            s.add(z3.Sum([bV[r][c] for r,c in row3(i,j)]) <= 2)\n",
    "            #at most two 0s\n",
    "            s.add(z3.Sum([bV[r][c] for r,c in row3(i,j)]) >= 1)\n",
    "            # same for the columns\n",
    "            s.add(z3.Sum([bV[r][c] for r,c in col3(i,j)]) <= 2)\n",
    "            s.add(z3.Sum([bV[r][c] for r,c in col3(i,j)]) >= 1)\n",
    "\n",
    "    \n",
    "    #That just leaves Rule #4 Each row is unique \n",
    "    # and each column is unique. Z3 has a Unique keyword.\n",
    "    s.add(z3.Distinct([z3.Concat([bV[r][c] for r,c in row(i)])\n",
    "                       for i in range(size)]))\n",
    "    s.add(z3.Distinct([z3.Concat([bV[r][c] for r,c in col(i)]) \n",
    "                       for i in range(size)]))\n",
    "    # learned from Nicolaj ;-)\n",
    "    while s.check() == sat and counter < maxCounter:\n",
    "        m = s.model()\n",
    "        #PKHG>OK possible too:\n",
    "        #sol = [[m[bV[r][c]].as_string() for c in range(size)] for r in range(size)]\n",
    "       \n",
    "        sol = [[m[bV[r][c]].as_long() for c in range(size)] for r in range(size)]\n",
    "        #PKHG>DBG print(\"type of (0,0) element = \" , type(m[bV[0][0]]))\n",
    "        \n",
    "        result[counter] = np.matrix(sol) #zero based dict!\n",
    "        counter += 1\n",
    "        \n",
    "        if show_sol:\n",
    "            print_matrix(sol)\n",
    "        \n",
    "        # deny found solution, search for second or ... one\n",
    "        vals = [bV[i][j] == m.evaluate(bV[i][j]) for j in range(size)\n",
    "            for i in range(size)]\n",
    "        s.add(Not(And(vals)))\n",
    "        #repeat ;-)\n",
    "        \n",
    "    if counter == 1:\n",
    "        print(\"Exactly ONE solution\")\n",
    "    elif counter > 1:\n",
    "        print(\"several solutions found:\" , counter)\n",
    "    else:\n",
    "        print(\"no solution\")\n",
    "    return result\n",
    "\n"
   ]
  },
  {
   "cell_type": "code",
   "execution_count": 20,
   "metadata": {},
   "outputs": [],
   "source": [
    "# example of a 10 x 10 puzzel (ONE solution)\n",
    "\n",
    "game = \"\"\"\n",
    "...00....1\n",
    "........01\n",
    "..0...1.0.\n",
    ".1...1....\n",
    ".0.0.11...\n",
    "1.....1...\n",
    ".0...1....\n",
    "...1.1.11.\n",
    "..........\n",
    "..00......\n",
    "\"\"\"\n",
    "\n",
    "from z3 import *\n",
    "import numpy as np # to show (first) solution matrice\n",
    "s = Solver()\n",
    "vals = []\n",
    "sol = None\n",
    "\n",
    "def SolvePuzzel(game, maxCounter = 2, show_sol = False):\n",
    "    \"\"\"\n",
    "    game is to be solved\n",
    "    default counter maximized by 2 to see if\n",
    "    there is more than ONE solution\n",
    "    solutions are stored in a dictionary and returned\n",
    "    \n",
    "    PKHG>HOW????\n",
    "    \n",
    "    \"\"\"\n",
    "    global vals\n",
    "    #for controlling the number of solutions!\n",
    "    result = dict()\n",
    "    counter = 0 #while loop uses it\n",
    "    \n",
    "    #check input game!\n",
    "    try:\n",
    "        game = [y for y in filter(lambda x:x in '01.', game)]\n",
    "        sizeXsize = len(game)\n",
    "        size = int(math.sqrt(sizeXsize))\n",
    "        assert(size * size == sizeXsize) \n",
    "        half_int_size = int(size/2)\n",
    "        assert(size == 2 * int(size/2)) #even number of rows and columns\n",
    "    except:\n",
    "        return(\"check input game\")\n",
    "    #  a list cordinates to access (later) rows or columns)\n",
    "    vs = [(r,c) for r in range(size) for c in range(size)]\n",
    "\n",
    "    #  all cells declared as BitVectors Z3-variables\n",
    "    # _ used to   rows and colum indices\n",
    "    bV  = [[z3.BitVec('v_%d_%d' % (r,c), 5)  for c in range(size)] \n",
    "      for r in range(size)]\n",
    "    \n",
    "    #initializing all variables using the given info\n",
    "    # either 0 or 1 or condition BINARY (value 0 or 1)\n",
    "    \n",
    "    # the z3-solver\n",
    "    #s = Solver()\n",
    "\n",
    "    for ((r,c), val) in zip(vs, game):\n",
    "        if val == '.':  s.add(0 <= bV[r][c], bV[r][c] <= 1)\n",
    "        else:           s.add(bV[r][c] == (int(val)))\n",
    "\n",
    "    #helpers for row and colum indices \n",
    "    def row(n):   return [(n, i) for i in range(size)]\n",
    "    def col(n):   return [(i, n) for i in range(size)]\n",
    "\n",
    "    #Puzzel condition: rows, columns must sum up to size/2\n",
    "    for i in range(size):\n",
    "        s.add(z3.Sum([bV[r][c] for r,c in row(i)]) == (size/2))\n",
    "        s.add(z3.Sum([bV[r][c] for r,c in col(i)]) == (size/2))\n",
    "\n",
    "    # puzzel condition at moost two 1s or 0s in row resp. column\n",
    "    # help functions for 3 consecutive cells (rows or cols)\n",
    "    def row3(n,m):   return [(n, i) for i in range(m,m+3)]\n",
    "    def col3(n,m):   return [(i, n) for i in range(m,m+3)]\n",
    "    \n",
    "    for i in range(size):\n",
    "        for j in range(size-2):\n",
    "            #at most two 1s\n",
    "            s.add(z3.Sum([bV[r][c] for r,c in row3(i,j)]) <= 2)\n",
    "            #at most two 0s\n",
    "            s.add(z3.Sum([bV[r][c] for r,c in row3(i,j)]) >= 1)\n",
    "            # same for the columns\n",
    "            s.add(z3.Sum([bV[r][c] for r,c in col3(i,j)]) <= 2)\n",
    "            s.add(z3.Sum([bV[r][c] for r,c in col3(i,j)]) >= 1)\n",
    "\n",
    "    \n",
    "    #That just leaves Rule #4 Each row is unique \n",
    "    # and each column is unique. Z3 has a Unique keyword.\n",
    "    s.add(z3.Distinct([z3.Concat([bV[r][c] for r,c in row(i)])\n",
    "                       for i in range(size)]))\n",
    "    s.add(z3.Distinct([z3.Concat([bV[r][c] for r,c in col(i)]) \n",
    "                       for i in range(size)]))\n",
    "\n",
    "    #result = s.check()\n",
    "    while s.check() == sat and counter < maxCounter:\n",
    "        m = s.model()\n",
    "        #PKHG>OK sol = [[m[bV[r][c]].as_string() for c in range(size)] for r in range(size)]\n",
    "        sol = [[m[bV[r][c]].as_long() for c in range(size)] for r in range(size)]\n",
    "        #PKHG>DBG print(\"type of (0,0) element = \" , type(m[bV[0][0]]))\n",
    "        result[counter] = np.matrix(sol) #zero based dict!\n",
    "        counter += 1\n",
    "        if show_sol:\n",
    "            print_matrix(sol)\n",
    "        if counter >= 1:\n",
    "        #PKHG>want to save first resp. all solutions\n",
    "            'todo'\n",
    "        # deny found solution\n",
    "        vals = [bV[i][j] == m.evaluate(bV[i][j]) for j in range(size)\n",
    "            for i in range(size)]\n",
    "        #PKHG>????\n",
    "        '''\n",
    "        for i in range(2):\n",
    "            print(i, vals[i])\n",
    "        '''\n",
    "        s.add(Not(And(vals)))\n",
    "    if counter == 1:\n",
    "        print(\"Exactly ONE solution\")\n",
    "    elif counter > 1:\n",
    "        print(\"several solutions found:\" , counter)\n",
    "    else:\n",
    "        print(\"no solution\")\n",
    "    return result\n"
   ]
  },
  {
   "cell_type": "markdown",
   "metadata": {},
   "source": [
    "# example from original (see link above)"
   ]
  },
  {
   "cell_type": "code",
   "execution_count": 21,
   "metadata": {},
   "outputs": [
    {
     "name": "stdout",
     "output_type": "stream",
     "text": [
      "[[0, 1, 1, 0, 0, 1, 0, 0, 1, 1],\n",
      " [1, 0, 1, 1, 0, 0, 1, 0, 0, 1],\n",
      " [1, 0, 0, 1, 1, 0, 1, 1, 0, 0],\n",
      " [0, 1, 0, 0, 1, 1, 0, 1, 1, 0],\n",
      " [0, 0, 1, 0, 0, 1, 1, 0, 1, 1],\n",
      " [1, 1, 0, 1, 0, 0, 1, 0, 0, 1],\n",
      " [1, 0, 1, 0, 1, 1, 0, 1, 0, 0],\n",
      " [0, 0, 1, 1, 0, 1, 0, 1, 1, 0],\n",
      " [0, 1, 0, 1, 1, 0, 1, 0, 0, 1],\n",
      " [1, 1, 0, 0, 1, 0, 0, 1, 1, 0]]\n",
      "Exactly ONE solution\n"
     ]
    },
    {
     "data": {
      "text/plain": [
       "{0: matrix([[0, 1, 1, 0, 0, 1, 0, 0, 1, 1],\n",
       "         [1, 0, 1, 1, 0, 0, 1, 0, 0, 1],\n",
       "         [1, 0, 0, 1, 1, 0, 1, 1, 0, 0],\n",
       "         [0, 1, 0, 0, 1, 1, 0, 1, 1, 0],\n",
       "         [0, 0, 1, 0, 0, 1, 1, 0, 1, 1],\n",
       "         [1, 1, 0, 1, 0, 0, 1, 0, 0, 1],\n",
       "         [1, 0, 1, 0, 1, 1, 0, 1, 0, 0],\n",
       "         [0, 0, 1, 1, 0, 1, 0, 1, 1, 0],\n",
       "         [0, 1, 0, 1, 1, 0, 1, 0, 0, 1],\n",
       "         [1, 1, 0, 0, 1, 0, 0, 1, 1, 0]])}"
      ]
     },
     "execution_count": 21,
     "metadata": {},
     "output_type": "execute_result"
    }
   ],
   "source": [
    "s = Solver()\n",
    "game = \"\"\"\n",
    "...00....1\n",
    "........01\n",
    "..0...1.0.\n",
    ".1...1....\n",
    ".0.0.11...\n",
    "1.....1...\n",
    ".0...1....\n",
    "...1.1.11.\n",
    "..........\n",
    "..00......\n",
    "\"\"\"\n",
    "SolvePuzzel(game, 3, True)"
   ]
  },
  {
   "cell_type": "markdown",
   "metadata": {},
   "source": [
    "# Check "
   ]
  },
  {
   "cell_type": "code",
   "execution_count": 22,
   "metadata": {},
   "outputs": [
    {
     "name": "stdout",
     "output_type": "stream",
     "text": [
      "several solutions found: 109\n",
      "first result:\n"
     ]
    },
    {
     "data": {
      "text/plain": [
       "matrix([[0, 1, 1, 0, 1, 1, 0, 0, 1, 0],\n",
       "        [0, 0, 1, 1, 0, 0, 1, 1, 0, 1],\n",
       "        [1, 0, 0, 1, 1, 0, 1, 1, 0, 0],\n",
       "        [0, 1, 0, 0, 1, 1, 0, 0, 1, 1],\n",
       "        [1, 0, 1, 0, 0, 1, 1, 0, 0, 1],\n",
       "        [1, 1, 0, 1, 0, 0, 1, 1, 0, 0],\n",
       "        [0, 0, 1, 0, 1, 1, 0, 0, 1, 1],\n",
       "        [0, 1, 0, 1, 0, 1, 0, 1, 1, 0],\n",
       "        [1, 0, 1, 1, 0, 0, 1, 0, 0, 1],\n",
       "        [1, 1, 0, 0, 1, 0, 0, 1, 1, 0]])"
      ]
     },
     "execution_count": 22,
     "metadata": {},
     "output_type": "execute_result"
    }
   ],
   "source": [
    "s = Solver()\n",
    "game_changed = \"\"\"\n",
    "...0......\n",
    "........0.\n",
    "..0...1.0.\n",
    ".1...1....\n",
    ".0.0.11...\n",
    "1.....1...\n",
    ".0...1....\n",
    "...1.1.11.\n",
    "..........\n",
    "..00......\n",
    "\"\"\"\n",
    "results = SolvePuzzel(game_changed, 1000)\n",
    "print(\"first result:\")\n",
    "results[0]"
   ]
  },
  {
   "cell_type": "markdown",
   "metadata": {},
   "source": [
    "# hard puzzel 12 x 12 (from link above)"
   ]
  },
  {
   "cell_type": "code",
   "execution_count": 23,
   "metadata": {},
   "outputs": [
    {
     "name": "stdout",
     "output_type": "stream",
     "text": [
      "Exactly ONE solution\n"
     ]
    }
   ],
   "source": [
    "s = Solver()\n",
    "P_hard_12x12_1 = \"\"\"\n",
    ".......00.1.\n",
    "..1.......1.\n",
    "...0.0..0..0\n",
    ".....0......\n",
    ".11.1..1.0..\n",
    ".11.0.00....\n",
    "..........1.\n",
    "1..00...0...\n",
    "............\n",
    "..1.....1...\n",
    "...0..0..0.0\n",
    "..10...0....\n",
    "\"\"\"\n",
    "opls = SolvePuzzel(P_hard_12x12_1)"
   ]
  },
  {
   "cell_type": "code",
   "execution_count": 24,
   "metadata": {},
   "outputs": [
    {
     "data": {
      "text/plain": [
       "matrix([[1, 1, 0, 1, 0, 0, 1, 0, 0, 1, 1, 0],\n",
       "        [0, 0, 1, 1, 0, 1, 0, 0, 1, 0, 1, 1],\n",
       "        [1, 1, 0, 0, 1, 0, 1, 1, 0, 1, 0, 0],\n",
       "        [1, 0, 0, 1, 0, 0, 1, 0, 1, 1, 0, 1],\n",
       "        [0, 1, 1, 0, 1, 1, 0, 1, 0, 0, 1, 0],\n",
       "        [0, 1, 1, 0, 0, 1, 0, 0, 1, 1, 0, 1],\n",
       "        [1, 0, 0, 1, 1, 0, 1, 1, 0, 0, 1, 0],\n",
       "        [1, 0, 1, 0, 0, 1, 0, 1, 0, 0, 1, 1],\n",
       "        [0, 1, 0, 1, 1, 0, 1, 0, 1, 1, 0, 0],\n",
       "        [0, 0, 1, 1, 0, 1, 0, 1, 1, 0, 0, 1],\n",
       "        [1, 1, 0, 0, 1, 1, 0, 1, 0, 0, 1, 0],\n",
       "        [0, 0, 1, 0, 1, 0, 1, 0, 1, 1, 0, 1]])"
      ]
     },
     "execution_count": 24,
     "metadata": {},
     "output_type": "execute_result"
    }
   ],
   "source": [
    "opls[0]"
   ]
  },
  {
   "cell_type": "markdown",
   "metadata": {},
   "source": [
    "# some smaller BPs"
   ]
  },
  {
   "cell_type": "code",
   "execution_count": 25,
   "metadata": {},
   "outputs": [
    {
     "name": "stdout",
     "output_type": "stream",
     "text": [
      "Exactly ONE solution\n"
     ]
    },
    {
     "data": {
      "text/plain": [
       "{0: matrix([[1, 0],\n",
       "         [0, 1]])}"
      ]
     },
     "execution_count": 25,
     "metadata": {},
     "output_type": "execute_result"
    }
   ],
   "source": [
    "s = Solver()\n",
    "g2 = \"\"\"\n",
    "1.\n",
    "..\n",
    "\"\"\"\n",
    "SolvePuzzel(g2)"
   ]
  },
  {
   "cell_type": "code",
   "execution_count": 26,
   "metadata": {},
   "outputs": [
    {
     "name": "stdout",
     "output_type": "stream",
     "text": [
      "several solutions found: 8\n"
     ]
    }
   ],
   "source": [
    "s = Solver()\n",
    "g4 = \"\"\"\n",
    "0...\n",
    "....\n",
    "1...\n",
    "..10\n",
    "\"\"\"\n",
    "g4example = SolvePuzzel(g4,100)"
   ]
  },
  {
   "cell_type": "markdown",
   "metadata": {},
   "source": [
    "# saving for later"
   ]
  },
  {
   "cell_type": "code",
   "execution_count": 27,
   "metadata": {},
   "outputs": [],
   "source": [
    "import shelve"
   ]
  },
  {
   "cell_type": "code",
   "execution_count": 28,
   "metadata": {},
   "outputs": [],
   "source": [
    "#help(shelve)"
   ]
  },
  {
   "cell_type": "code",
   "execution_count": 29,
   "metadata": {},
   "outputs": [
    {
     "data": {
      "text/plain": [
       "dict_keys([0, 1, 2, 3, 4, 5, 6, 7])"
      ]
     },
     "execution_count": 29,
     "metadata": {},
     "output_type": "execute_result"
    }
   ],
   "source": [
    "g4example.keys()"
   ]
  },
  {
   "cell_type": "code",
   "execution_count": 30,
   "metadata": {},
   "outputs": [],
   "source": [
    "resultdb = shelve.open(\"puzzelg4\")\n",
    "resultdb['g4'] = g4example\n",
    "resultdb.close()\n"
   ]
  },
  {
   "cell_type": "markdown",
   "metadata": {},
   "source": [
    "#  retrieve all 8 solutions "
   ]
  },
  {
   "cell_type": "code",
   "execution_count": 31,
   "metadata": {},
   "outputs": [
    {
     "data": {
      "text/plain": [
       "['g4']"
      ]
     },
     "execution_count": 31,
     "metadata": {},
     "output_type": "execute_result"
    }
   ],
   "source": [
    "resultdb = shelve.open(\"puzzelg4\")\n",
    "[el for el in resultdb.keys()]"
   ]
  },
  {
   "cell_type": "code",
   "execution_count": 32,
   "metadata": {},
   "outputs": [
    {
     "name": "stdout",
     "output_type": "stream",
     "text": [
      "oplossing 0\n",
      " [[0 0 1 1]\n",
      " [0 1 0 1]\n",
      " [1 1 0 0]\n",
      " [1 0 1 0]]\n",
      "oplossing 1\n",
      " [[0 1 0 1]\n",
      " [0 1 1 0]\n",
      " [1 0 0 1]\n",
      " [1 0 1 0]]\n",
      "oplossing 2\n",
      " [[0 1 1 0]\n",
      " [0 1 0 1]\n",
      " [1 0 0 1]\n",
      " [1 0 1 0]]\n",
      "oplossing 3\n",
      " [[0 1 0 1]\n",
      " [1 0 1 0]\n",
      " [1 0 0 1]\n",
      " [0 1 1 0]]\n",
      "oplossing 4\n",
      " [[0 1 0 1]\n",
      " [1 0 0 1]\n",
      " [1 0 1 0]\n",
      " [0 1 1 0]]\n",
      "oplossing 5\n",
      " [[0 1 0 1]\n",
      " [0 0 1 1]\n",
      " [1 1 0 0]\n",
      " [1 0 1 0]]\n",
      "oplossing 6\n",
      " [[0 0 1 1]\n",
      " [1 0 0 1]\n",
      " [1 1 0 0]\n",
      " [0 1 1 0]]\n"
     ]
    }
   ],
   "source": [
    "#resultdb['g4'] = object\n",
    "for i in range(7):\n",
    "    print(\"oplossing \" + str(i) + \"\\n\", resultdb['g4'][i] )"
   ]
  },
  {
   "cell_type": "markdown",
   "metadata": {},
   "source": [
    "# shelves should be closed after use"
   ]
  },
  {
   "cell_type": "code",
   "execution_count": 33,
   "metadata": {},
   "outputs": [],
   "source": [
    "resultdb.close()"
   ]
  },
  {
   "cell_type": "code",
   "execution_count": 34,
   "metadata": {},
   "outputs": [
    {
     "name": "stdout",
     "output_type": "stream",
     "text": [
      "puzzelg4.db\r\n"
     ]
    }
   ],
   "source": [
    "!ls *.db"
   ]
  },
  {
   "cell_type": "code",
   "execution_count": 35,
   "metadata": {},
   "outputs": [],
   "source": [
    "mydb = shelve.open(\"puzzelg4\")\n",
    "res = mydb['g4']\n",
    "mydb.close()"
   ]
  },
  {
   "cell_type": "markdown",
   "metadata": {},
   "source": [
    "# (easy one) check if different"
   ]
  },
  {
   "cell_type": "code",
   "execution_count": 36,
   "metadata": {},
   "outputs": [
    {
     "data": {
      "text/plain": [
       "matrix([[ True, False, False,  True],\n",
       "        [ True,  True, False, False],\n",
       "        [ True, False,  True, False],\n",
       "        [ True,  True,  True,  True]])"
      ]
     },
     "execution_count": 36,
     "metadata": {},
     "output_type": "execute_result"
    }
   ],
   "source": [
    "res[0] == res[1]"
   ]
  },
  {
   "cell_type": "code",
   "execution_count": null,
   "metadata": {},
   "outputs": [],
   "source": []
  }
 ],
 "metadata": {
  "kernelspec": {
   "display_name": "Python 3",
   "language": "python",
   "name": "python3"
  },
  "language_info": {
   "codemirror_mode": {
    "name": "ipython",
    "version": 3
   },
   "file_extension": ".py",
   "mimetype": "text/x-python",
   "name": "python",
   "nbconvert_exporter": "python",
   "pygments_lexer": "ipython3",
   "version": "3.7.3"
  }
 },
 "nbformat": 4,
 "nbformat_minor": 2
}
